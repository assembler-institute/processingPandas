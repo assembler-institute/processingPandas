{
 "cells": [
  {
   "cell_type": "code",
   "execution_count": 1,
   "metadata": {},
   "outputs": [],
   "source": [
    "import pandas as pd"
   ]
  },
  {
   "cell_type": "markdown",
   "metadata": {},
   "source": [
    "### Exercise 1\n",
    "\n",
    "Take as reference the following list:"
   ]
  },
  {
   "cell_type": "code",
   "execution_count": 2,
   "metadata": {},
   "outputs": [],
   "source": [
    "calificaciones = [\n",
    "    ('Alberto', 4),\n",
    "    ('Noelia', 7.25),\n",
    "    ('Marcos', 9),\n",
    "    ('Guillermo', 5.25)\n",
    "]"
   ]
  },
  {
   "cell_type": "markdown",
   "metadata": {},
   "source": [
    "Create a dataframe\n",
    "\n",
    "#### Solution"
   ]
  },
  {
   "cell_type": "code",
   "execution_count": 3,
   "metadata": {},
   "outputs": [
    {
     "data": {
      "text/html": [
       "<div>\n",
       "<style scoped>\n",
       "    .dataframe tbody tr th:only-of-type {\n",
       "        vertical-align: middle;\n",
       "    }\n",
       "\n",
       "    .dataframe tbody tr th {\n",
       "        vertical-align: top;\n",
       "    }\n",
       "\n",
       "    .dataframe thead th {\n",
       "        text-align: right;\n",
       "    }\n",
       "</style>\n",
       "<table border=\"1\" class=\"dataframe\">\n",
       "  <thead>\n",
       "    <tr style=\"text-align: right;\">\n",
       "      <th></th>\n",
       "      <th>0</th>\n",
       "      <th>1</th>\n",
       "    </tr>\n",
       "  </thead>\n",
       "  <tbody>\n",
       "    <tr>\n",
       "      <th>0</th>\n",
       "      <td>Alberto</td>\n",
       "      <td>4.00</td>\n",
       "    </tr>\n",
       "    <tr>\n",
       "      <th>1</th>\n",
       "      <td>Noelia</td>\n",
       "      <td>7.25</td>\n",
       "    </tr>\n",
       "    <tr>\n",
       "      <th>2</th>\n",
       "      <td>Marcos</td>\n",
       "      <td>9.00</td>\n",
       "    </tr>\n",
       "    <tr>\n",
       "      <th>3</th>\n",
       "      <td>Guillermo</td>\n",
       "      <td>5.25</td>\n",
       "    </tr>\n",
       "  </tbody>\n",
       "</table>\n",
       "</div>"
      ],
      "text/plain": [
       "           0     1\n",
       "0    Alberto  4.00\n",
       "1     Noelia  7.25\n",
       "2     Marcos  9.00\n",
       "3  Guillermo  5.25"
      ]
     },
     "execution_count": 3,
     "metadata": {},
     "output_type": "execute_result"
    }
   ],
   "source": [
    "pd.DataFrame(calificaciones)"
   ]
  },
  {
   "cell_type": "markdown",
   "metadata": {},
   "source": [
    "### Ejercicio 2\n",
    "\n",
    "Read as Dataframe the file 'compras_uno.csv'\n",
    "\n",
    "#### Solución"
   ]
  },
  {
   "cell_type": "code",
   "execution_count": 4,
   "metadata": {},
   "outputs": [
    {
     "data": {
      "text/html": [
       "<div>\n",
       "<style scoped>\n",
       "    .dataframe tbody tr th:only-of-type {\n",
       "        vertical-align: middle;\n",
       "    }\n",
       "\n",
       "    .dataframe tbody tr th {\n",
       "        vertical-align: top;\n",
       "    }\n",
       "\n",
       "    .dataframe thead th {\n",
       "        text-align: right;\n",
       "    }\n",
       "</style>\n",
       "<table border=\"1\" class=\"dataframe\">\n",
       "  <thead>\n",
       "    <tr style=\"text-align: right;\">\n",
       "      <th></th>\n",
       "      <th>FECHA</th>\n",
       "      <th>ARTICULO</th>\n",
       "      <th>CUANTIA</th>\n",
       "      <th>PRECIO UNIDAD</th>\n",
       "      <th>TOTAL</th>\n",
       "    </tr>\n",
       "  </thead>\n",
       "  <tbody>\n",
       "    <tr>\n",
       "      <th>0</th>\n",
       "      <td>15/03/2020</td>\n",
       "      <td>Barra Pan</td>\n",
       "      <td>2</td>\n",
       "      <td>0.55</td>\n",
       "      <td>1.10</td>\n",
       "    </tr>\n",
       "    <tr>\n",
       "      <th>1</th>\n",
       "      <td>16/03/2020</td>\n",
       "      <td>Bolígrafo Bic</td>\n",
       "      <td>3</td>\n",
       "      <td>0.22</td>\n",
       "      <td>0.66</td>\n",
       "    </tr>\n",
       "    <tr>\n",
       "      <th>2</th>\n",
       "      <td>17/03/2020</td>\n",
       "      <td>Cuaderno</td>\n",
       "      <td>1</td>\n",
       "      <td>1.25</td>\n",
       "      <td>1.25</td>\n",
       "    </tr>\n",
       "    <tr>\n",
       "      <th>3</th>\n",
       "      <td>18/03/2020</td>\n",
       "      <td>Refresco</td>\n",
       "      <td>5</td>\n",
       "      <td>0.80</td>\n",
       "      <td>4.00</td>\n",
       "    </tr>\n",
       "    <tr>\n",
       "      <th>4</th>\n",
       "      <td>19/03/2020</td>\n",
       "      <td>Silla Gamer</td>\n",
       "      <td>1</td>\n",
       "      <td>153.00</td>\n",
       "      <td>153.00</td>\n",
       "    </tr>\n",
       "    <tr>\n",
       "      <th>5</th>\n",
       "      <td>20/03/2020</td>\n",
       "      <td>Paquete folios A4</td>\n",
       "      <td>3</td>\n",
       "      <td>2.48</td>\n",
       "      <td>7.44</td>\n",
       "    </tr>\n",
       "    <tr>\n",
       "      <th>6</th>\n",
       "      <td>21/03/2020</td>\n",
       "      <td>Pack x6 Vaso cristal</td>\n",
       "      <td>2</td>\n",
       "      <td>6.00</td>\n",
       "      <td>12.00</td>\n",
       "    </tr>\n",
       "    <tr>\n",
       "      <th>7</th>\n",
       "      <td>22/03/2020</td>\n",
       "      <td>Manzanas (Kg.)</td>\n",
       "      <td>1</td>\n",
       "      <td>2.48</td>\n",
       "      <td>2.48</td>\n",
       "    </tr>\n",
       "    <tr>\n",
       "      <th>8</th>\n",
       "      <td>23/03/2020</td>\n",
       "      <td>Naranjas (Kg.)</td>\n",
       "      <td>2</td>\n",
       "      <td>1.29</td>\n",
       "      <td>2.58</td>\n",
       "    </tr>\n",
       "    <tr>\n",
       "      <th>9</th>\n",
       "      <td>24/03/2020</td>\n",
       "      <td>Naranja Malla</td>\n",
       "      <td>1</td>\n",
       "      <td>1.50</td>\n",
       "      <td>1.50</td>\n",
       "    </tr>\n",
       "  </tbody>\n",
       "</table>\n",
       "</div>"
      ],
      "text/plain": [
       "        FECHA              ARTICULO  CUANTIA  PRECIO UNIDAD   TOTAL\n",
       "0  15/03/2020             Barra Pan        2           0.55    1.10\n",
       "1  16/03/2020         Bolígrafo Bic        3           0.22    0.66\n",
       "2  17/03/2020              Cuaderno        1           1.25    1.25\n",
       "3  18/03/2020              Refresco        5           0.80    4.00\n",
       "4  19/03/2020           Silla Gamer        1         153.00  153.00\n",
       "5  20/03/2020     Paquete folios A4        3           2.48    7.44\n",
       "6  21/03/2020  Pack x6 Vaso cristal        2           6.00   12.00\n",
       "7  22/03/2020        Manzanas (Kg.)        1           2.48    2.48\n",
       "8  23/03/2020        Naranjas (Kg.)        2           1.29    2.58\n",
       "9  24/03/2020         Naranja Malla        1           1.50    1.50"
      ]
     },
     "execution_count": 4,
     "metadata": {},
     "output_type": "execute_result"
    }
   ],
   "source": [
    "pd.read_csv(\"compras_uno.csv\")"
   ]
  },
  {
   "cell_type": "markdown",
   "metadata": {},
   "source": [
    "### Ejercicio 3\n",
    "\n",
    "Read as Dataframe the file 'compras_dos.csv'\n",
    "\n",
    "#### Solución"
   ]
  },
  {
   "cell_type": "code",
   "execution_count": 5,
   "metadata": {},
   "outputs": [
    {
     "data": {
      "text/html": [
       "<div>\n",
       "<style scoped>\n",
       "    .dataframe tbody tr th:only-of-type {\n",
       "        vertical-align: middle;\n",
       "    }\n",
       "\n",
       "    .dataframe tbody tr th {\n",
       "        vertical-align: top;\n",
       "    }\n",
       "\n",
       "    .dataframe thead th {\n",
       "        text-align: right;\n",
       "    }\n",
       "</style>\n",
       "<table border=\"1\" class=\"dataframe\">\n",
       "  <thead>\n",
       "    <tr style=\"text-align: right;\">\n",
       "      <th></th>\n",
       "      <th>FECHA</th>\n",
       "      <th>ARTICULO</th>\n",
       "      <th>CUANTIA</th>\n",
       "      <th>PRECIO UNIDAD</th>\n",
       "      <th>TOTAL</th>\n",
       "    </tr>\n",
       "  </thead>\n",
       "  <tbody>\n",
       "    <tr>\n",
       "      <th>0</th>\n",
       "      <td>15/03/2020</td>\n",
       "      <td>Barra Pan</td>\n",
       "      <td>2</td>\n",
       "      <td>0.55</td>\n",
       "      <td>1.10</td>\n",
       "    </tr>\n",
       "    <tr>\n",
       "      <th>1</th>\n",
       "      <td>16/03/2020</td>\n",
       "      <td>Bolígrafo Bic</td>\n",
       "      <td>3</td>\n",
       "      <td>0.22</td>\n",
       "      <td>0.66</td>\n",
       "    </tr>\n",
       "    <tr>\n",
       "      <th>2</th>\n",
       "      <td>17/03/2020</td>\n",
       "      <td>Cuaderno</td>\n",
       "      <td>1</td>\n",
       "      <td>1.25</td>\n",
       "      <td>1.25</td>\n",
       "    </tr>\n",
       "    <tr>\n",
       "      <th>3</th>\n",
       "      <td>18/03/2020</td>\n",
       "      <td>Refresco</td>\n",
       "      <td>5</td>\n",
       "      <td>0.80</td>\n",
       "      <td>4.00</td>\n",
       "    </tr>\n",
       "    <tr>\n",
       "      <th>4</th>\n",
       "      <td>19/03/2020</td>\n",
       "      <td>Silla Gamer</td>\n",
       "      <td>1</td>\n",
       "      <td>153.00</td>\n",
       "      <td>153.00</td>\n",
       "    </tr>\n",
       "    <tr>\n",
       "      <th>5</th>\n",
       "      <td>20/03/2020</td>\n",
       "      <td>Paquete folios A4</td>\n",
       "      <td>3</td>\n",
       "      <td>2.48</td>\n",
       "      <td>7.44</td>\n",
       "    </tr>\n",
       "    <tr>\n",
       "      <th>6</th>\n",
       "      <td>21/03/2020</td>\n",
       "      <td>Pack x6 Vaso cristal</td>\n",
       "      <td>2</td>\n",
       "      <td>6.00</td>\n",
       "      <td>12.00</td>\n",
       "    </tr>\n",
       "    <tr>\n",
       "      <th>7</th>\n",
       "      <td>22/03/2020</td>\n",
       "      <td>Manzanas (Kg.)</td>\n",
       "      <td>1</td>\n",
       "      <td>2.48</td>\n",
       "      <td>2.48</td>\n",
       "    </tr>\n",
       "    <tr>\n",
       "      <th>8</th>\n",
       "      <td>23/03/2020</td>\n",
       "      <td>Naranjas (Kg.)</td>\n",
       "      <td>2</td>\n",
       "      <td>1.29</td>\n",
       "      <td>2.58</td>\n",
       "    </tr>\n",
       "    <tr>\n",
       "      <th>9</th>\n",
       "      <td>24/03/2020</td>\n",
       "      <td>Naranja Malla</td>\n",
       "      <td>1</td>\n",
       "      <td>1.50</td>\n",
       "      <td>1.50</td>\n",
       "    </tr>\n",
       "  </tbody>\n",
       "</table>\n",
       "</div>"
      ],
      "text/plain": [
       "        FECHA              ARTICULO  CUANTIA  PRECIO UNIDAD   TOTAL\n",
       "0  15/03/2020             Barra Pan        2           0.55    1.10\n",
       "1  16/03/2020         Bolígrafo Bic        3           0.22    0.66\n",
       "2  17/03/2020              Cuaderno        1           1.25    1.25\n",
       "3  18/03/2020              Refresco        5           0.80    4.00\n",
       "4  19/03/2020           Silla Gamer        1         153.00  153.00\n",
       "5  20/03/2020     Paquete folios A4        3           2.48    7.44\n",
       "6  21/03/2020  Pack x6 Vaso cristal        2           6.00   12.00\n",
       "7  22/03/2020        Manzanas (Kg.)        1           2.48    2.48\n",
       "8  23/03/2020        Naranjas (Kg.)        2           1.29    2.58\n",
       "9  24/03/2020         Naranja Malla        1           1.50    1.50"
      ]
     },
     "execution_count": 5,
     "metadata": {},
     "output_type": "execute_result"
    }
   ],
   "source": [
    "pd.read_csv(\"compras_dos.csv\", sep=\";\")"
   ]
  },
  {
   "cell_type": "markdown",
   "metadata": {},
   "source": [
    "### Ejercicio 4\n",
    "\n",
    "Read as Dataframe the file 'compras_tres.csv'\n",
    "\n",
    "#### Solución"
   ]
  },
  {
   "cell_type": "code",
   "execution_count": 6,
   "metadata": {},
   "outputs": [
    {
     "data": {
      "text/html": [
       "<div>\n",
       "<style scoped>\n",
       "    .dataframe tbody tr th:only-of-type {\n",
       "        vertical-align: middle;\n",
       "    }\n",
       "\n",
       "    .dataframe tbody tr th {\n",
       "        vertical-align: top;\n",
       "    }\n",
       "\n",
       "    .dataframe thead th {\n",
       "        text-align: right;\n",
       "    }\n",
       "</style>\n",
       "<table border=\"1\" class=\"dataframe\">\n",
       "  <thead>\n",
       "    <tr style=\"text-align: right;\">\n",
       "      <th></th>\n",
       "      <th>FECHA</th>\n",
       "      <th>ARTICULO</th>\n",
       "      <th>CUANTIA</th>\n",
       "      <th>PRECIO UNIDAD</th>\n",
       "      <th>TOTAL</th>\n",
       "    </tr>\n",
       "  </thead>\n",
       "  <tbody>\n",
       "    <tr>\n",
       "      <th>0</th>\n",
       "      <td>15/03/2020</td>\n",
       "      <td>Barra Pan</td>\n",
       "      <td>2</td>\n",
       "      <td>0.55</td>\n",
       "      <td>1.10</td>\n",
       "    </tr>\n",
       "    <tr>\n",
       "      <th>1</th>\n",
       "      <td>16/03/2020</td>\n",
       "      <td>Bolígrafo Bic</td>\n",
       "      <td>3</td>\n",
       "      <td>0.22</td>\n",
       "      <td>0.66</td>\n",
       "    </tr>\n",
       "    <tr>\n",
       "      <th>2</th>\n",
       "      <td>17/03/2020</td>\n",
       "      <td>Cuaderno</td>\n",
       "      <td>1</td>\n",
       "      <td>1.25</td>\n",
       "      <td>1.25</td>\n",
       "    </tr>\n",
       "    <tr>\n",
       "      <th>3</th>\n",
       "      <td>18/03/2020</td>\n",
       "      <td>Refresco</td>\n",
       "      <td>5</td>\n",
       "      <td>0.80</td>\n",
       "      <td>4.00</td>\n",
       "    </tr>\n",
       "    <tr>\n",
       "      <th>4</th>\n",
       "      <td>19/03/2020</td>\n",
       "      <td>Silla Gamer</td>\n",
       "      <td>1</td>\n",
       "      <td>153.00</td>\n",
       "      <td>153.00</td>\n",
       "    </tr>\n",
       "    <tr>\n",
       "      <th>5</th>\n",
       "      <td>20/03/2020</td>\n",
       "      <td>Paquete folios A4</td>\n",
       "      <td>3</td>\n",
       "      <td>2.48</td>\n",
       "      <td>7.44</td>\n",
       "    </tr>\n",
       "    <tr>\n",
       "      <th>6</th>\n",
       "      <td>21/03/2020</td>\n",
       "      <td>Pack x6 Vaso cristal</td>\n",
       "      <td>2</td>\n",
       "      <td>6.00</td>\n",
       "      <td>12.00</td>\n",
       "    </tr>\n",
       "    <tr>\n",
       "      <th>7</th>\n",
       "      <td>22/03/2020</td>\n",
       "      <td>Manzanas (Kg.)</td>\n",
       "      <td>1</td>\n",
       "      <td>2.48</td>\n",
       "      <td>2.48</td>\n",
       "    </tr>\n",
       "    <tr>\n",
       "      <th>8</th>\n",
       "      <td>23/03/2020</td>\n",
       "      <td>Naranjas (Kg.)</td>\n",
       "      <td>2</td>\n",
       "      <td>1.29</td>\n",
       "      <td>2.58</td>\n",
       "    </tr>\n",
       "    <tr>\n",
       "      <th>9</th>\n",
       "      <td>24/03/2020</td>\n",
       "      <td>Naranja Malla</td>\n",
       "      <td>1</td>\n",
       "      <td>1.50</td>\n",
       "      <td>1.50</td>\n",
       "    </tr>\n",
       "  </tbody>\n",
       "</table>\n",
       "</div>"
      ],
      "text/plain": [
       "        FECHA              ARTICULO  CUANTIA  PRECIO UNIDAD   TOTAL\n",
       "0  15/03/2020             Barra Pan        2           0.55    1.10\n",
       "1  16/03/2020         Bolígrafo Bic        3           0.22    0.66\n",
       "2  17/03/2020              Cuaderno        1           1.25    1.25\n",
       "3  18/03/2020              Refresco        5           0.80    4.00\n",
       "4  19/03/2020           Silla Gamer        1         153.00  153.00\n",
       "5  20/03/2020     Paquete folios A4        3           2.48    7.44\n",
       "6  21/03/2020  Pack x6 Vaso cristal        2           6.00   12.00\n",
       "7  22/03/2020        Manzanas (Kg.)        1           2.48    2.48\n",
       "8  23/03/2020        Naranjas (Kg.)        2           1.29    2.58\n",
       "9  24/03/2020         Naranja Malla        1           1.50    1.50"
      ]
     },
     "execution_count": 6,
     "metadata": {},
     "output_type": "execute_result"
    }
   ],
   "source": [
    "aux = pd.read_csv(\"compras_tres.csv\", sep=\"\\t\")\n",
    "aux"
   ]
  },
  {
   "cell_type": "markdown",
   "metadata": {},
   "source": [
    "### Ejercicio 5\n",
    "\n",
    "Read as Dataframe the file 'housing_California.csv' using the parameter header with value None\n",
    "\n",
    "#### Solución"
   ]
  },
  {
   "cell_type": "code",
   "execution_count": 7,
   "metadata": {},
   "outputs": [
    {
     "data": {
      "text/html": [
       "<div>\n",
       "<style scoped>\n",
       "    .dataframe tbody tr th:only-of-type {\n",
       "        vertical-align: middle;\n",
       "    }\n",
       "\n",
       "    .dataframe tbody tr th {\n",
       "        vertical-align: top;\n",
       "    }\n",
       "\n",
       "    .dataframe thead th {\n",
       "        text-align: right;\n",
       "    }\n",
       "</style>\n",
       "<table border=\"1\" class=\"dataframe\">\n",
       "  <thead>\n",
       "    <tr style=\"text-align: right;\">\n",
       "      <th></th>\n",
       "      <th>0</th>\n",
       "      <th>1</th>\n",
       "      <th>2</th>\n",
       "      <th>3</th>\n",
       "      <th>4</th>\n",
       "      <th>5</th>\n",
       "      <th>6</th>\n",
       "      <th>7</th>\n",
       "      <th>8</th>\n",
       "      <th>9</th>\n",
       "    </tr>\n",
       "  </thead>\n",
       "  <tbody>\n",
       "    <tr>\n",
       "      <th>0</th>\n",
       "      <td>longitude</td>\n",
       "      <td>latitude</td>\n",
       "      <td>housing_median_age</td>\n",
       "      <td>total_rooms</td>\n",
       "      <td>total_bedrooms</td>\n",
       "      <td>population</td>\n",
       "      <td>households</td>\n",
       "      <td>median_income</td>\n",
       "      <td>median_house_value</td>\n",
       "      <td>ocean_proximity</td>\n",
       "    </tr>\n",
       "    <tr>\n",
       "      <th>1</th>\n",
       "      <td>-122.23</td>\n",
       "      <td>37.88</td>\n",
       "      <td>41.0</td>\n",
       "      <td>880.0</td>\n",
       "      <td>129.0</td>\n",
       "      <td>322.0</td>\n",
       "      <td>126.0</td>\n",
       "      <td>8.3252</td>\n",
       "      <td>452600.0</td>\n",
       "      <td>NEAR BAY</td>\n",
       "    </tr>\n",
       "    <tr>\n",
       "      <th>2</th>\n",
       "      <td>-122.22</td>\n",
       "      <td>37.86</td>\n",
       "      <td>21.0</td>\n",
       "      <td>7099.0</td>\n",
       "      <td>1106.0</td>\n",
       "      <td>2401.0</td>\n",
       "      <td>1138.0</td>\n",
       "      <td>8.3014</td>\n",
       "      <td>358500.0</td>\n",
       "      <td>NEAR BAY</td>\n",
       "    </tr>\n",
       "    <tr>\n",
       "      <th>3</th>\n",
       "      <td>-122.24</td>\n",
       "      <td>37.85</td>\n",
       "      <td>52.0</td>\n",
       "      <td>1467.0</td>\n",
       "      <td>190.0</td>\n",
       "      <td>496.0</td>\n",
       "      <td>177.0</td>\n",
       "      <td>7.2574</td>\n",
       "      <td>352100.0</td>\n",
       "      <td>NEAR BAY</td>\n",
       "    </tr>\n",
       "    <tr>\n",
       "      <th>4</th>\n",
       "      <td>-122.25</td>\n",
       "      <td>37.85</td>\n",
       "      <td>52.0</td>\n",
       "      <td>1274.0</td>\n",
       "      <td>235.0</td>\n",
       "      <td>558.0</td>\n",
       "      <td>219.0</td>\n",
       "      <td>5.6431</td>\n",
       "      <td>341300.0</td>\n",
       "      <td>NEAR BAY</td>\n",
       "    </tr>\n",
       "    <tr>\n",
       "      <th>...</th>\n",
       "      <td>...</td>\n",
       "      <td>...</td>\n",
       "      <td>...</td>\n",
       "      <td>...</td>\n",
       "      <td>...</td>\n",
       "      <td>...</td>\n",
       "      <td>...</td>\n",
       "      <td>...</td>\n",
       "      <td>...</td>\n",
       "      <td>...</td>\n",
       "    </tr>\n",
       "    <tr>\n",
       "      <th>20636</th>\n",
       "      <td>-121.09</td>\n",
       "      <td>39.48</td>\n",
       "      <td>25.0</td>\n",
       "      <td>1665.0</td>\n",
       "      <td>374.0</td>\n",
       "      <td>845.0</td>\n",
       "      <td>330.0</td>\n",
       "      <td>1.5603</td>\n",
       "      <td>78100.0</td>\n",
       "      <td>INLAND</td>\n",
       "    </tr>\n",
       "    <tr>\n",
       "      <th>20637</th>\n",
       "      <td>-121.21</td>\n",
       "      <td>39.49</td>\n",
       "      <td>18.0</td>\n",
       "      <td>697.0</td>\n",
       "      <td>150.0</td>\n",
       "      <td>356.0</td>\n",
       "      <td>114.0</td>\n",
       "      <td>2.5568</td>\n",
       "      <td>77100.0</td>\n",
       "      <td>INLAND</td>\n",
       "    </tr>\n",
       "    <tr>\n",
       "      <th>20638</th>\n",
       "      <td>-121.22</td>\n",
       "      <td>39.43</td>\n",
       "      <td>17.0</td>\n",
       "      <td>2254.0</td>\n",
       "      <td>485.0</td>\n",
       "      <td>1007.0</td>\n",
       "      <td>433.0</td>\n",
       "      <td>1.7</td>\n",
       "      <td>92300.0</td>\n",
       "      <td>INLAND</td>\n",
       "    </tr>\n",
       "    <tr>\n",
       "      <th>20639</th>\n",
       "      <td>-121.32</td>\n",
       "      <td>39.43</td>\n",
       "      <td>18.0</td>\n",
       "      <td>1860.0</td>\n",
       "      <td>409.0</td>\n",
       "      <td>741.0</td>\n",
       "      <td>349.0</td>\n",
       "      <td>1.8672</td>\n",
       "      <td>84700.0</td>\n",
       "      <td>INLAND</td>\n",
       "    </tr>\n",
       "    <tr>\n",
       "      <th>20640</th>\n",
       "      <td>-121.24</td>\n",
       "      <td>39.37</td>\n",
       "      <td>16.0</td>\n",
       "      <td>2785.0</td>\n",
       "      <td>616.0</td>\n",
       "      <td>1387.0</td>\n",
       "      <td>530.0</td>\n",
       "      <td>2.3886</td>\n",
       "      <td>89400.0</td>\n",
       "      <td>INLAND</td>\n",
       "    </tr>\n",
       "  </tbody>\n",
       "</table>\n",
       "<p>20641 rows × 10 columns</p>\n",
       "</div>"
      ],
      "text/plain": [
       "               0         1                   2            3               4  \\\n",
       "0      longitude  latitude  housing_median_age  total_rooms  total_bedrooms   \n",
       "1        -122.23     37.88                41.0        880.0           129.0   \n",
       "2        -122.22     37.86                21.0       7099.0          1106.0   \n",
       "3        -122.24     37.85                52.0       1467.0           190.0   \n",
       "4        -122.25     37.85                52.0       1274.0           235.0   \n",
       "...          ...       ...                 ...          ...             ...   \n",
       "20636    -121.09     39.48                25.0       1665.0           374.0   \n",
       "20637    -121.21     39.49                18.0        697.0           150.0   \n",
       "20638    -121.22     39.43                17.0       2254.0           485.0   \n",
       "20639    -121.32     39.43                18.0       1860.0           409.0   \n",
       "20640    -121.24     39.37                16.0       2785.0           616.0   \n",
       "\n",
       "                5           6              7                   8  \\\n",
       "0      population  households  median_income  median_house_value   \n",
       "1           322.0       126.0         8.3252            452600.0   \n",
       "2          2401.0      1138.0         8.3014            358500.0   \n",
       "3           496.0       177.0         7.2574            352100.0   \n",
       "4           558.0       219.0         5.6431            341300.0   \n",
       "...           ...         ...            ...                 ...   \n",
       "20636       845.0       330.0         1.5603             78100.0   \n",
       "20637       356.0       114.0         2.5568             77100.0   \n",
       "20638      1007.0       433.0            1.7             92300.0   \n",
       "20639       741.0       349.0         1.8672             84700.0   \n",
       "20640      1387.0       530.0         2.3886             89400.0   \n",
       "\n",
       "                     9  \n",
       "0      ocean_proximity  \n",
       "1             NEAR BAY  \n",
       "2             NEAR BAY  \n",
       "3             NEAR BAY  \n",
       "4             NEAR BAY  \n",
       "...                ...  \n",
       "20636           INLAND  \n",
       "20637           INLAND  \n",
       "20638           INLAND  \n",
       "20639           INLAND  \n",
       "20640           INLAND  \n",
       "\n",
       "[20641 rows x 10 columns]"
      ]
     },
     "execution_count": 7,
     "metadata": {},
     "output_type": "execute_result"
    }
   ],
   "source": [
    "pd.read_csv(\"housing_California.csv\", header=None)"
   ]
  },
  {
   "cell_type": "markdown",
   "metadata": {},
   "source": [
    "### Ejercicio 6\n",
    "\n",
    "Read as Dataframe the file 'housing_California.csv' using the parameter header with value [0,1,2]\n",
    "\n",
    "#### Solución"
   ]
  },
  {
   "cell_type": "code",
   "execution_count": 8,
   "metadata": {},
   "outputs": [
    {
     "data": {
      "text/html": [
       "<div>\n",
       "<style scoped>\n",
       "    .dataframe tbody tr th:only-of-type {\n",
       "        vertical-align: middle;\n",
       "    }\n",
       "\n",
       "    .dataframe tbody tr th {\n",
       "        vertical-align: top;\n",
       "    }\n",
       "\n",
       "    .dataframe thead tr th {\n",
       "        text-align: left;\n",
       "    }\n",
       "</style>\n",
       "<table border=\"1\" class=\"dataframe\">\n",
       "  <thead>\n",
       "    <tr>\n",
       "      <th></th>\n",
       "      <th>longitude</th>\n",
       "      <th>latitude</th>\n",
       "      <th>housing_median_age</th>\n",
       "      <th>total_rooms</th>\n",
       "      <th>total_bedrooms</th>\n",
       "      <th>population</th>\n",
       "      <th>households</th>\n",
       "      <th>median_income</th>\n",
       "      <th>median_house_value</th>\n",
       "      <th>ocean_proximity</th>\n",
       "    </tr>\n",
       "    <tr>\n",
       "      <th></th>\n",
       "      <th>-122.23</th>\n",
       "      <th>37.88</th>\n",
       "      <th>41.0</th>\n",
       "      <th>880.0</th>\n",
       "      <th>129.0</th>\n",
       "      <th>322.0</th>\n",
       "      <th>126.0</th>\n",
       "      <th>8.3252</th>\n",
       "      <th>452600.0</th>\n",
       "      <th>NEAR BAY</th>\n",
       "    </tr>\n",
       "    <tr>\n",
       "      <th></th>\n",
       "      <th>-122.22</th>\n",
       "      <th>37.86</th>\n",
       "      <th>21.0</th>\n",
       "      <th>7099.0</th>\n",
       "      <th>1106.0</th>\n",
       "      <th>2401.0</th>\n",
       "      <th>1138.0</th>\n",
       "      <th>8.3014</th>\n",
       "      <th>358500.0</th>\n",
       "      <th>NEAR BAY</th>\n",
       "    </tr>\n",
       "  </thead>\n",
       "  <tbody>\n",
       "    <tr>\n",
       "      <th>0</th>\n",
       "      <td>-122.24</td>\n",
       "      <td>37.85</td>\n",
       "      <td>52.0</td>\n",
       "      <td>1467.0</td>\n",
       "      <td>190.0</td>\n",
       "      <td>496.0</td>\n",
       "      <td>177.0</td>\n",
       "      <td>7.2574</td>\n",
       "      <td>352100.0</td>\n",
       "      <td>NEAR BAY</td>\n",
       "    </tr>\n",
       "    <tr>\n",
       "      <th>1</th>\n",
       "      <td>-122.25</td>\n",
       "      <td>37.85</td>\n",
       "      <td>52.0</td>\n",
       "      <td>1274.0</td>\n",
       "      <td>235.0</td>\n",
       "      <td>558.0</td>\n",
       "      <td>219.0</td>\n",
       "      <td>5.6431</td>\n",
       "      <td>341300.0</td>\n",
       "      <td>NEAR BAY</td>\n",
       "    </tr>\n",
       "    <tr>\n",
       "      <th>2</th>\n",
       "      <td>-122.25</td>\n",
       "      <td>37.85</td>\n",
       "      <td>52.0</td>\n",
       "      <td>1627.0</td>\n",
       "      <td>280.0</td>\n",
       "      <td>565.0</td>\n",
       "      <td>259.0</td>\n",
       "      <td>3.8462</td>\n",
       "      <td>342200.0</td>\n",
       "      <td>NEAR BAY</td>\n",
       "    </tr>\n",
       "    <tr>\n",
       "      <th>3</th>\n",
       "      <td>-122.25</td>\n",
       "      <td>37.85</td>\n",
       "      <td>52.0</td>\n",
       "      <td>919.0</td>\n",
       "      <td>213.0</td>\n",
       "      <td>413.0</td>\n",
       "      <td>193.0</td>\n",
       "      <td>4.0368</td>\n",
       "      <td>269700.0</td>\n",
       "      <td>NEAR BAY</td>\n",
       "    </tr>\n",
       "    <tr>\n",
       "      <th>4</th>\n",
       "      <td>-122.25</td>\n",
       "      <td>37.84</td>\n",
       "      <td>52.0</td>\n",
       "      <td>2535.0</td>\n",
       "      <td>489.0</td>\n",
       "      <td>1094.0</td>\n",
       "      <td>514.0</td>\n",
       "      <td>3.6591</td>\n",
       "      <td>299200.0</td>\n",
       "      <td>NEAR BAY</td>\n",
       "    </tr>\n",
       "    <tr>\n",
       "      <th>...</th>\n",
       "      <td>...</td>\n",
       "      <td>...</td>\n",
       "      <td>...</td>\n",
       "      <td>...</td>\n",
       "      <td>...</td>\n",
       "      <td>...</td>\n",
       "      <td>...</td>\n",
       "      <td>...</td>\n",
       "      <td>...</td>\n",
       "      <td>...</td>\n",
       "    </tr>\n",
       "    <tr>\n",
       "      <th>20633</th>\n",
       "      <td>-121.09</td>\n",
       "      <td>39.48</td>\n",
       "      <td>25.0</td>\n",
       "      <td>1665.0</td>\n",
       "      <td>374.0</td>\n",
       "      <td>845.0</td>\n",
       "      <td>330.0</td>\n",
       "      <td>1.5603</td>\n",
       "      <td>78100.0</td>\n",
       "      <td>INLAND</td>\n",
       "    </tr>\n",
       "    <tr>\n",
       "      <th>20634</th>\n",
       "      <td>-121.21</td>\n",
       "      <td>39.49</td>\n",
       "      <td>18.0</td>\n",
       "      <td>697.0</td>\n",
       "      <td>150.0</td>\n",
       "      <td>356.0</td>\n",
       "      <td>114.0</td>\n",
       "      <td>2.5568</td>\n",
       "      <td>77100.0</td>\n",
       "      <td>INLAND</td>\n",
       "    </tr>\n",
       "    <tr>\n",
       "      <th>20635</th>\n",
       "      <td>-121.22</td>\n",
       "      <td>39.43</td>\n",
       "      <td>17.0</td>\n",
       "      <td>2254.0</td>\n",
       "      <td>485.0</td>\n",
       "      <td>1007.0</td>\n",
       "      <td>433.0</td>\n",
       "      <td>1.7000</td>\n",
       "      <td>92300.0</td>\n",
       "      <td>INLAND</td>\n",
       "    </tr>\n",
       "    <tr>\n",
       "      <th>20636</th>\n",
       "      <td>-121.32</td>\n",
       "      <td>39.43</td>\n",
       "      <td>18.0</td>\n",
       "      <td>1860.0</td>\n",
       "      <td>409.0</td>\n",
       "      <td>741.0</td>\n",
       "      <td>349.0</td>\n",
       "      <td>1.8672</td>\n",
       "      <td>84700.0</td>\n",
       "      <td>INLAND</td>\n",
       "    </tr>\n",
       "    <tr>\n",
       "      <th>20637</th>\n",
       "      <td>-121.24</td>\n",
       "      <td>39.37</td>\n",
       "      <td>16.0</td>\n",
       "      <td>2785.0</td>\n",
       "      <td>616.0</td>\n",
       "      <td>1387.0</td>\n",
       "      <td>530.0</td>\n",
       "      <td>2.3886</td>\n",
       "      <td>89400.0</td>\n",
       "      <td>INLAND</td>\n",
       "    </tr>\n",
       "  </tbody>\n",
       "</table>\n",
       "<p>20638 rows × 10 columns</p>\n",
       "</div>"
      ],
      "text/plain": [
       "      longitude latitude housing_median_age total_rooms total_bedrooms  \\\n",
       "        -122.23    37.88               41.0       880.0          129.0   \n",
       "        -122.22    37.86               21.0      7099.0         1106.0   \n",
       "0       -122.24    37.85               52.0      1467.0          190.0   \n",
       "1       -122.25    37.85               52.0      1274.0          235.0   \n",
       "2       -122.25    37.85               52.0      1627.0          280.0   \n",
       "3       -122.25    37.85               52.0       919.0          213.0   \n",
       "4       -122.25    37.84               52.0      2535.0          489.0   \n",
       "...         ...      ...                ...         ...            ...   \n",
       "20633   -121.09    39.48               25.0      1665.0          374.0   \n",
       "20634   -121.21    39.49               18.0       697.0          150.0   \n",
       "20635   -121.22    39.43               17.0      2254.0          485.0   \n",
       "20636   -121.32    39.43               18.0      1860.0          409.0   \n",
       "20637   -121.24    39.37               16.0      2785.0          616.0   \n",
       "\n",
       "      population households median_income median_house_value ocean_proximity  \n",
       "           322.0      126.0        8.3252           452600.0        NEAR BAY  \n",
       "          2401.0     1138.0        8.3014           358500.0        NEAR BAY  \n",
       "0          496.0      177.0        7.2574           352100.0        NEAR BAY  \n",
       "1          558.0      219.0        5.6431           341300.0        NEAR BAY  \n",
       "2          565.0      259.0        3.8462           342200.0        NEAR BAY  \n",
       "3          413.0      193.0        4.0368           269700.0        NEAR BAY  \n",
       "4         1094.0      514.0        3.6591           299200.0        NEAR BAY  \n",
       "...          ...        ...           ...                ...             ...  \n",
       "20633      845.0      330.0        1.5603            78100.0          INLAND  \n",
       "20634      356.0      114.0        2.5568            77100.0          INLAND  \n",
       "20635     1007.0      433.0        1.7000            92300.0          INLAND  \n",
       "20636      741.0      349.0        1.8672            84700.0          INLAND  \n",
       "20637     1387.0      530.0        2.3886            89400.0          INLAND  \n",
       "\n",
       "[20638 rows x 10 columns]"
      ]
     },
     "execution_count": 8,
     "metadata": {},
     "output_type": "execute_result"
    }
   ],
   "source": [
    "pd.read_csv(\"housing_California.csv\", header=[0,1,2])"
   ]
  },
  {
   "cell_type": "markdown",
   "metadata": {},
   "source": [
    "### Ejercicio 7\n",
    "\n",
    "Read as Dataframe the file 'housing_California.csv' loading only the columns housing_median_age and population\n",
    "\n",
    "#### Solución"
   ]
  },
  {
   "cell_type": "code",
   "execution_count": 9,
   "metadata": {},
   "outputs": [
    {
     "data": {
      "text/html": [
       "<div>\n",
       "<style scoped>\n",
       "    .dataframe tbody tr th:only-of-type {\n",
       "        vertical-align: middle;\n",
       "    }\n",
       "\n",
       "    .dataframe tbody tr th {\n",
       "        vertical-align: top;\n",
       "    }\n",
       "\n",
       "    .dataframe thead th {\n",
       "        text-align: right;\n",
       "    }\n",
       "</style>\n",
       "<table border=\"1\" class=\"dataframe\">\n",
       "  <thead>\n",
       "    <tr style=\"text-align: right;\">\n",
       "      <th></th>\n",
       "      <th>housing_median_age</th>\n",
       "      <th>population</th>\n",
       "    </tr>\n",
       "  </thead>\n",
       "  <tbody>\n",
       "    <tr>\n",
       "      <th>0</th>\n",
       "      <td>41.0</td>\n",
       "      <td>322.0</td>\n",
       "    </tr>\n",
       "    <tr>\n",
       "      <th>1</th>\n",
       "      <td>21.0</td>\n",
       "      <td>2401.0</td>\n",
       "    </tr>\n",
       "    <tr>\n",
       "      <th>2</th>\n",
       "      <td>52.0</td>\n",
       "      <td>496.0</td>\n",
       "    </tr>\n",
       "    <tr>\n",
       "      <th>3</th>\n",
       "      <td>52.0</td>\n",
       "      <td>558.0</td>\n",
       "    </tr>\n",
       "    <tr>\n",
       "      <th>4</th>\n",
       "      <td>52.0</td>\n",
       "      <td>565.0</td>\n",
       "    </tr>\n",
       "    <tr>\n",
       "      <th>...</th>\n",
       "      <td>...</td>\n",
       "      <td>...</td>\n",
       "    </tr>\n",
       "    <tr>\n",
       "      <th>20635</th>\n",
       "      <td>25.0</td>\n",
       "      <td>845.0</td>\n",
       "    </tr>\n",
       "    <tr>\n",
       "      <th>20636</th>\n",
       "      <td>18.0</td>\n",
       "      <td>356.0</td>\n",
       "    </tr>\n",
       "    <tr>\n",
       "      <th>20637</th>\n",
       "      <td>17.0</td>\n",
       "      <td>1007.0</td>\n",
       "    </tr>\n",
       "    <tr>\n",
       "      <th>20638</th>\n",
       "      <td>18.0</td>\n",
       "      <td>741.0</td>\n",
       "    </tr>\n",
       "    <tr>\n",
       "      <th>20639</th>\n",
       "      <td>16.0</td>\n",
       "      <td>1387.0</td>\n",
       "    </tr>\n",
       "  </tbody>\n",
       "</table>\n",
       "<p>20640 rows × 2 columns</p>\n",
       "</div>"
      ],
      "text/plain": [
       "       housing_median_age  population\n",
       "0                    41.0       322.0\n",
       "1                    21.0      2401.0\n",
       "2                    52.0       496.0\n",
       "3                    52.0       558.0\n",
       "4                    52.0       565.0\n",
       "...                   ...         ...\n",
       "20635                25.0       845.0\n",
       "20636                18.0       356.0\n",
       "20637                17.0      1007.0\n",
       "20638                18.0       741.0\n",
       "20639                16.0      1387.0\n",
       "\n",
       "[20640 rows x 2 columns]"
      ]
     },
     "execution_count": 9,
     "metadata": {},
     "output_type": "execute_result"
    }
   ],
   "source": [
    "pd.read_csv('housing_California.csv', usecols=['housing_median_age', 'population'])"
   ]
  },
  {
   "cell_type": "markdown",
   "metadata": {},
   "source": [
    "### Exercise 8\n",
    "\n",
    "Create a new dataframe containing the following information.\n",
    "\n",
    "* Data from a student's Mathematics subject will be entered.\n",
    "* For the subject, the user will be asked for the grade obtained\n",
    "* The user will be asked from what year to what year the information is going to be consulted\n",
    "* The years of said qualifications will be taken as an index\n",
    "\n",
    "#### Solution"
   ]
  },
  {
   "cell_type": "code",
   "execution_count": 10,
   "metadata": {},
   "outputs": [
    {
     "name": "stdout",
     "output_type": "stream",
     "text": [
      "Enter the first year to query data --> 2017\n",
      "Enter the last year to query data --> 2020\n"
     ]
    }
   ],
   "source": [
    "# Request the years\n",
    "\n",
    "start_year = int(input('Enter the first year to query data --> '))\n",
    "end_year = int(input('Enter the last year to query data --> '))\n",
    "\n",
    "while not end_year > start_year:\n",
    "    print('The last year must be greater than the beginning year')\n",
    "    start_year = int(input('Enter the first year to query data --> '))\n",
    "    end_year = int(input('Enter the last year to query data --> '))"
   ]
  },
  {
   "cell_type": "code",
   "execution_count": 11,
   "metadata": {},
   "outputs": [
    {
     "name": "stdout",
     "output_type": "stream",
     "text": [
      "Selected years from: 2017, to: 2020\n"
     ]
    }
   ],
   "source": [
    "print('Selected years from: {}, to: {}'.format(start_year, end_year))"
   ]
  },
  {
   "cell_type": "code",
   "execution_count": 12,
   "metadata": {},
   "outputs": [
    {
     "name": "stdout",
     "output_type": "stream",
     "text": [
      "Enter the math grade for the year 2017: 5\n",
      "Enter the math grade for the year 2018: 6\n",
      "Enter the math grade for the year 2019: 7\n",
      "Enter the math grade for the year 2020: 8\n"
     ]
    }
   ],
   "source": [
    "# We request the ratings\n",
    "\n",
    "years = range(start_year, end_year+1)\n",
    "\n",
    "math_grades = []\n",
    "\n",
    "# We go through the years\n",
    "for year in years:\n",
    "    math_grade = float(input('Enter the math grade for the year ' + str(year) + ': ' ))\n",
    "    math_grades.append(math_grade)"
   ]
  },
  {
   "cell_type": "code",
   "execution_count": 13,
   "metadata": {},
   "outputs": [
    {
     "name": "stdout",
     "output_type": "stream",
     "text": [
      "The grades are  [5.0, 6.0, 7.0, 8.0]\n"
     ]
    }
   ],
   "source": [
    "print('The grades are ', math_grades)"
   ]
  },
  {
   "cell_type": "code",
   "execution_count": 14,
   "metadata": {},
   "outputs": [],
   "source": [
    "# Build the dataframe\n",
    "\n",
    "ratings = {\n",
    "   'year': years,\n",
    "   'ratings': math_grades\n",
    "}"
   ]
  },
  {
   "cell_type": "code",
   "execution_count": 15,
   "metadata": {},
   "outputs": [
    {
     "data": {
      "text/html": [
       "<div>\n",
       "<style scoped>\n",
       "    .dataframe tbody tr th:only-of-type {\n",
       "        vertical-align: middle;\n",
       "    }\n",
       "\n",
       "    .dataframe tbody tr th {\n",
       "        vertical-align: top;\n",
       "    }\n",
       "\n",
       "    .dataframe thead th {\n",
       "        text-align: right;\n",
       "    }\n",
       "</style>\n",
       "<table border=\"1\" class=\"dataframe\">\n",
       "  <thead>\n",
       "    <tr style=\"text-align: right;\">\n",
       "      <th></th>\n",
       "      <th>year</th>\n",
       "      <th>ratings</th>\n",
       "    </tr>\n",
       "  </thead>\n",
       "  <tbody>\n",
       "    <tr>\n",
       "      <th>0</th>\n",
       "      <td>2017</td>\n",
       "      <td>5.0</td>\n",
       "    </tr>\n",
       "    <tr>\n",
       "      <th>1</th>\n",
       "      <td>2018</td>\n",
       "      <td>6.0</td>\n",
       "    </tr>\n",
       "    <tr>\n",
       "      <th>2</th>\n",
       "      <td>2019</td>\n",
       "      <td>7.0</td>\n",
       "    </tr>\n",
       "    <tr>\n",
       "      <th>3</th>\n",
       "      <td>2020</td>\n",
       "      <td>8.0</td>\n",
       "    </tr>\n",
       "  </tbody>\n",
       "</table>\n",
       "</div>"
      ],
      "text/plain": [
       "   year  ratings\n",
       "0  2017      5.0\n",
       "1  2018      6.0\n",
       "2  2019      7.0\n",
       "3  2020      8.0"
      ]
     },
     "execution_count": 15,
     "metadata": {},
     "output_type": "execute_result"
    }
   ],
   "source": [
    "ratings = pd.DataFrame(ratings)\n",
    "ratings"
   ]
  },
  {
   "cell_type": "code",
   "execution_count": 16,
   "metadata": {},
   "outputs": [
    {
     "data": {
      "text/html": [
       "<div>\n",
       "<style scoped>\n",
       "    .dataframe tbody tr th:only-of-type {\n",
       "        vertical-align: middle;\n",
       "    }\n",
       "\n",
       "    .dataframe tbody tr th {\n",
       "        vertical-align: top;\n",
       "    }\n",
       "\n",
       "    .dataframe thead th {\n",
       "        text-align: right;\n",
       "    }\n",
       "</style>\n",
       "<table border=\"1\" class=\"dataframe\">\n",
       "  <thead>\n",
       "    <tr style=\"text-align: right;\">\n",
       "      <th></th>\n",
       "      <th>year</th>\n",
       "      <th>ratings</th>\n",
       "    </tr>\n",
       "    <tr>\n",
       "      <th>year</th>\n",
       "      <th></th>\n",
       "      <th></th>\n",
       "    </tr>\n",
       "  </thead>\n",
       "  <tbody>\n",
       "    <tr>\n",
       "      <th>2017</th>\n",
       "      <td>2017</td>\n",
       "      <td>5.0</td>\n",
       "    </tr>\n",
       "    <tr>\n",
       "      <th>2018</th>\n",
       "      <td>2018</td>\n",
       "      <td>6.0</td>\n",
       "    </tr>\n",
       "    <tr>\n",
       "      <th>2019</th>\n",
       "      <td>2019</td>\n",
       "      <td>7.0</td>\n",
       "    </tr>\n",
       "    <tr>\n",
       "      <th>2020</th>\n",
       "      <td>2020</td>\n",
       "      <td>8.0</td>\n",
       "    </tr>\n",
       "  </tbody>\n",
       "</table>\n",
       "</div>"
      ],
      "text/plain": [
       "      year  ratings\n",
       "year               \n",
       "2017  2017      5.0\n",
       "2018  2018      6.0\n",
       "2019  2019      7.0\n",
       "2020  2020      8.0"
      ]
     },
     "execution_count": 16,
     "metadata": {},
     "output_type": "execute_result"
    }
   ],
   "source": [
    "ratings.index = ratings.year\n",
    "ratings"
   ]
  },
  {
   "cell_type": "markdown",
   "metadata": {},
   "source": [
    "# Exercise 9\n",
    "\n",
    "* Create a pandas series object through an array of 30 random elements following a Beta distribution with parameters 0.1 and 0.8.\n",
    "* On this series object creates a dataframe.\n",
    "* Shows your first and last 4 items.\n",
    "* Rename the dataframe column to 'BETA_DIST'.\n",
    "* Create a new column, named 'SQUARE_BETA', that is each element of the distribution Beta squared.\n",
    "* Get the histograms of the dataframe\n",
    "\n",
    "### SOLUTION"
   ]
  },
  {
   "cell_type": "code",
   "execution_count": 17,
   "metadata": {},
   "outputs": [],
   "source": [
    "import numpy as np\n",
    "import pandas as pd"
   ]
  },
  {
   "cell_type": "code",
   "execution_count": 18,
   "metadata": {},
   "outputs": [
    {
     "data": {
      "text/plain": [
       "array([1.00467981e-07, 6.89326510e-03, 7.07844175e-03, 3.43519348e-03,\n",
       "       9.99843651e-01, 3.47261628e-04, 1.50757768e-01, 2.37189016e-01,\n",
       "       5.59617679e-18, 7.57561127e-10, 7.59616407e-02, 4.39391637e-04,\n",
       "       1.50570825e-01, 1.03048457e-02, 1.06526054e-02, 8.52483612e-06,\n",
       "       2.93545154e-01, 4.48351425e-05, 1.26700978e-13, 4.34644056e-14,\n",
       "       6.55083029e-10, 9.85691071e-07, 1.13313815e-06, 1.72149251e-05,\n",
       "       1.64311707e-03, 1.85565962e-05, 3.76265413e-05, 9.20104653e-08,\n",
       "       1.13610988e-02, 7.77866981e-01])"
      ]
     },
     "execution_count": 18,
     "metadata": {},
     "output_type": "execute_result"
    }
   ],
   "source": [
    "beta = np.random.beta(0.1, 0.8, 30)\n",
    "beta"
   ]
  },
  {
   "cell_type": "code",
   "execution_count": 19,
   "metadata": {},
   "outputs": [
    {
     "data": {
      "text/plain": [
       "0     1.004680e-07\n",
       "1     6.893265e-03\n",
       "2     7.078442e-03\n",
       "3     3.435193e-03\n",
       "4     9.998437e-01\n",
       "5     3.472616e-04\n",
       "6     1.507578e-01\n",
       "7     2.371890e-01\n",
       "8     5.596177e-18\n",
       "9     7.575611e-10\n",
       "10    7.596164e-02\n",
       "11    4.393916e-04\n",
       "12    1.505708e-01\n",
       "13    1.030485e-02\n",
       "14    1.065261e-02\n",
       "15    8.524836e-06\n",
       "16    2.935452e-01\n",
       "17    4.483514e-05\n",
       "18    1.267010e-13\n",
       "19    4.346441e-14\n",
       "20    6.550830e-10\n",
       "21    9.856911e-07\n",
       "22    1.133138e-06\n",
       "23    1.721493e-05\n",
       "24    1.643117e-03\n",
       "25    1.855660e-05\n",
       "26    3.762654e-05\n",
       "27    9.201047e-08\n",
       "28    1.136110e-02\n",
       "29    7.778670e-01\n",
       "dtype: float64"
      ]
     },
     "execution_count": 19,
     "metadata": {},
     "output_type": "execute_result"
    }
   ],
   "source": [
    "# Create a series object through the array\n",
    "serie = pd.Series(beta)\n",
    "serie"
   ]
  },
  {
   "cell_type": "code",
   "execution_count": 20,
   "metadata": {},
   "outputs": [
    {
     "name": "stdout",
     "output_type": "stream",
     "text": [
      "<class 'pandas.core.series.Series'>\n"
     ]
    }
   ],
   "source": [
    "print(type(serie))"
   ]
  },
  {
   "cell_type": "code",
   "execution_count": 21,
   "metadata": {},
   "outputs": [],
   "source": [
    "# Create the dataframe"
   ]
  },
  {
   "cell_type": "code",
   "execution_count": 22,
   "metadata": {},
   "outputs": [
    {
     "data": {
      "text/html": [
       "<div>\n",
       "<style scoped>\n",
       "    .dataframe tbody tr th:only-of-type {\n",
       "        vertical-align: middle;\n",
       "    }\n",
       "\n",
       "    .dataframe tbody tr th {\n",
       "        vertical-align: top;\n",
       "    }\n",
       "\n",
       "    .dataframe thead th {\n",
       "        text-align: right;\n",
       "    }\n",
       "</style>\n",
       "<table border=\"1\" class=\"dataframe\">\n",
       "  <thead>\n",
       "    <tr style=\"text-align: right;\">\n",
       "      <th></th>\n",
       "      <th>0</th>\n",
       "    </tr>\n",
       "  </thead>\n",
       "  <tbody>\n",
       "    <tr>\n",
       "      <th>0</th>\n",
       "      <td>1.004680e-07</td>\n",
       "    </tr>\n",
       "    <tr>\n",
       "      <th>1</th>\n",
       "      <td>6.893265e-03</td>\n",
       "    </tr>\n",
       "    <tr>\n",
       "      <th>2</th>\n",
       "      <td>7.078442e-03</td>\n",
       "    </tr>\n",
       "    <tr>\n",
       "      <th>3</th>\n",
       "      <td>3.435193e-03</td>\n",
       "    </tr>\n",
       "    <tr>\n",
       "      <th>4</th>\n",
       "      <td>9.998437e-01</td>\n",
       "    </tr>\n",
       "    <tr>\n",
       "      <th>5</th>\n",
       "      <td>3.472616e-04</td>\n",
       "    </tr>\n",
       "    <tr>\n",
       "      <th>6</th>\n",
       "      <td>1.507578e-01</td>\n",
       "    </tr>\n",
       "    <tr>\n",
       "      <th>7</th>\n",
       "      <td>2.371890e-01</td>\n",
       "    </tr>\n",
       "    <tr>\n",
       "      <th>8</th>\n",
       "      <td>5.596177e-18</td>\n",
       "    </tr>\n",
       "    <tr>\n",
       "      <th>9</th>\n",
       "      <td>7.575611e-10</td>\n",
       "    </tr>\n",
       "    <tr>\n",
       "      <th>10</th>\n",
       "      <td>7.596164e-02</td>\n",
       "    </tr>\n",
       "    <tr>\n",
       "      <th>11</th>\n",
       "      <td>4.393916e-04</td>\n",
       "    </tr>\n",
       "    <tr>\n",
       "      <th>12</th>\n",
       "      <td>1.505708e-01</td>\n",
       "    </tr>\n",
       "    <tr>\n",
       "      <th>13</th>\n",
       "      <td>1.030485e-02</td>\n",
       "    </tr>\n",
       "    <tr>\n",
       "      <th>14</th>\n",
       "      <td>1.065261e-02</td>\n",
       "    </tr>\n",
       "    <tr>\n",
       "      <th>15</th>\n",
       "      <td>8.524836e-06</td>\n",
       "    </tr>\n",
       "    <tr>\n",
       "      <th>16</th>\n",
       "      <td>2.935452e-01</td>\n",
       "    </tr>\n",
       "    <tr>\n",
       "      <th>17</th>\n",
       "      <td>4.483514e-05</td>\n",
       "    </tr>\n",
       "    <tr>\n",
       "      <th>18</th>\n",
       "      <td>1.267010e-13</td>\n",
       "    </tr>\n",
       "    <tr>\n",
       "      <th>19</th>\n",
       "      <td>4.346441e-14</td>\n",
       "    </tr>\n",
       "    <tr>\n",
       "      <th>20</th>\n",
       "      <td>6.550830e-10</td>\n",
       "    </tr>\n",
       "    <tr>\n",
       "      <th>21</th>\n",
       "      <td>9.856911e-07</td>\n",
       "    </tr>\n",
       "    <tr>\n",
       "      <th>22</th>\n",
       "      <td>1.133138e-06</td>\n",
       "    </tr>\n",
       "    <tr>\n",
       "      <th>23</th>\n",
       "      <td>1.721493e-05</td>\n",
       "    </tr>\n",
       "    <tr>\n",
       "      <th>24</th>\n",
       "      <td>1.643117e-03</td>\n",
       "    </tr>\n",
       "    <tr>\n",
       "      <th>25</th>\n",
       "      <td>1.855660e-05</td>\n",
       "    </tr>\n",
       "    <tr>\n",
       "      <th>26</th>\n",
       "      <td>3.762654e-05</td>\n",
       "    </tr>\n",
       "    <tr>\n",
       "      <th>27</th>\n",
       "      <td>9.201047e-08</td>\n",
       "    </tr>\n",
       "    <tr>\n",
       "      <th>28</th>\n",
       "      <td>1.136110e-02</td>\n",
       "    </tr>\n",
       "    <tr>\n",
       "      <th>29</th>\n",
       "      <td>7.778670e-01</td>\n",
       "    </tr>\n",
       "  </tbody>\n",
       "</table>\n",
       "</div>"
      ],
      "text/plain": [
       "               0\n",
       "0   1.004680e-07\n",
       "1   6.893265e-03\n",
       "2   7.078442e-03\n",
       "3   3.435193e-03\n",
       "4   9.998437e-01\n",
       "5   3.472616e-04\n",
       "6   1.507578e-01\n",
       "7   2.371890e-01\n",
       "8   5.596177e-18\n",
       "9   7.575611e-10\n",
       "10  7.596164e-02\n",
       "11  4.393916e-04\n",
       "12  1.505708e-01\n",
       "13  1.030485e-02\n",
       "14  1.065261e-02\n",
       "15  8.524836e-06\n",
       "16  2.935452e-01\n",
       "17  4.483514e-05\n",
       "18  1.267010e-13\n",
       "19  4.346441e-14\n",
       "20  6.550830e-10\n",
       "21  9.856911e-07\n",
       "22  1.133138e-06\n",
       "23  1.721493e-05\n",
       "24  1.643117e-03\n",
       "25  1.855660e-05\n",
       "26  3.762654e-05\n",
       "27  9.201047e-08\n",
       "28  1.136110e-02\n",
       "29  7.778670e-01"
      ]
     },
     "execution_count": 22,
     "metadata": {},
     "output_type": "execute_result"
    }
   ],
   "source": [
    "df = pd.DataFrame(serie)\n",
    "df"
   ]
  },
  {
   "cell_type": "code",
   "execution_count": 23,
   "metadata": {},
   "outputs": [
    {
     "data": {
      "text/html": [
       "<div>\n",
       "<style scoped>\n",
       "    .dataframe tbody tr th:only-of-type {\n",
       "        vertical-align: middle;\n",
       "    }\n",
       "\n",
       "    .dataframe tbody tr th {\n",
       "        vertical-align: top;\n",
       "    }\n",
       "\n",
       "    .dataframe thead th {\n",
       "        text-align: right;\n",
       "    }\n",
       "</style>\n",
       "<table border=\"1\" class=\"dataframe\">\n",
       "  <thead>\n",
       "    <tr style=\"text-align: right;\">\n",
       "      <th></th>\n",
       "      <th>0</th>\n",
       "    </tr>\n",
       "  </thead>\n",
       "  <tbody>\n",
       "    <tr>\n",
       "      <th>0</th>\n",
       "      <td>1.004680e-07</td>\n",
       "    </tr>\n",
       "    <tr>\n",
       "      <th>1</th>\n",
       "      <td>6.893265e-03</td>\n",
       "    </tr>\n",
       "    <tr>\n",
       "      <th>2</th>\n",
       "      <td>7.078442e-03</td>\n",
       "    </tr>\n",
       "    <tr>\n",
       "      <th>3</th>\n",
       "      <td>3.435193e-03</td>\n",
       "    </tr>\n",
       "  </tbody>\n",
       "</table>\n",
       "</div>"
      ],
      "text/plain": [
       "              0\n",
       "0  1.004680e-07\n",
       "1  6.893265e-03\n",
       "2  7.078442e-03\n",
       "3  3.435193e-03"
      ]
     },
     "execution_count": 23,
     "metadata": {},
     "output_type": "execute_result"
    }
   ],
   "source": [
    "# Show the first 4 rows\n",
    "df.head(4)"
   ]
  },
  {
   "cell_type": "code",
   "execution_count": 24,
   "metadata": {},
   "outputs": [
    {
     "data": {
      "text/html": [
       "<div>\n",
       "<style scoped>\n",
       "    .dataframe tbody tr th:only-of-type {\n",
       "        vertical-align: middle;\n",
       "    }\n",
       "\n",
       "    .dataframe tbody tr th {\n",
       "        vertical-align: top;\n",
       "    }\n",
       "\n",
       "    .dataframe thead th {\n",
       "        text-align: right;\n",
       "    }\n",
       "</style>\n",
       "<table border=\"1\" class=\"dataframe\">\n",
       "  <thead>\n",
       "    <tr style=\"text-align: right;\">\n",
       "      <th></th>\n",
       "      <th>0</th>\n",
       "    </tr>\n",
       "  </thead>\n",
       "  <tbody>\n",
       "    <tr>\n",
       "      <th>26</th>\n",
       "      <td>3.762654e-05</td>\n",
       "    </tr>\n",
       "    <tr>\n",
       "      <th>27</th>\n",
       "      <td>9.201047e-08</td>\n",
       "    </tr>\n",
       "    <tr>\n",
       "      <th>28</th>\n",
       "      <td>1.136110e-02</td>\n",
       "    </tr>\n",
       "    <tr>\n",
       "      <th>29</th>\n",
       "      <td>7.778670e-01</td>\n",
       "    </tr>\n",
       "  </tbody>\n",
       "</table>\n",
       "</div>"
      ],
      "text/plain": [
       "               0\n",
       "26  3.762654e-05\n",
       "27  9.201047e-08\n",
       "28  1.136110e-02\n",
       "29  7.778670e-01"
      ]
     },
     "execution_count": 24,
     "metadata": {},
     "output_type": "execute_result"
    }
   ],
   "source": [
    "# Show the last 4 rows\n",
    "df.tail(4)"
   ]
  },
  {
   "cell_type": "code",
   "execution_count": 25,
   "metadata": {},
   "outputs": [
    {
     "name": "stdout",
     "output_type": "stream",
     "text": [
      "Index(['BETA_DIST'], dtype='object')\n"
     ]
    }
   ],
   "source": [
    "# Rename column to BETA_DIST\n",
    "df.columns = ['BETA_DIST']\n",
    "\n",
    "print(df.columns)"
   ]
  },
  {
   "cell_type": "code",
   "execution_count": 26,
   "metadata": {},
   "outputs": [],
   "source": [
    "# * Create a new column, named 'SQUARE_BETA', that is each element of the distribution Beta squared.\n",
    "df['SQUARE_BETA'] = df['BETA_DIST']**2"
   ]
  },
  {
   "cell_type": "code",
   "execution_count": 27,
   "metadata": {},
   "outputs": [
    {
     "data": {
      "text/html": [
       "<div>\n",
       "<style scoped>\n",
       "    .dataframe tbody tr th:only-of-type {\n",
       "        vertical-align: middle;\n",
       "    }\n",
       "\n",
       "    .dataframe tbody tr th {\n",
       "        vertical-align: top;\n",
       "    }\n",
       "\n",
       "    .dataframe thead th {\n",
       "        text-align: right;\n",
       "    }\n",
       "</style>\n",
       "<table border=\"1\" class=\"dataframe\">\n",
       "  <thead>\n",
       "    <tr style=\"text-align: right;\">\n",
       "      <th></th>\n",
       "      <th>BETA_DIST</th>\n",
       "      <th>SQUARE_BETA</th>\n",
       "    </tr>\n",
       "  </thead>\n",
       "  <tbody>\n",
       "    <tr>\n",
       "      <th>0</th>\n",
       "      <td>1.004680e-07</td>\n",
       "      <td>1.009382e-14</td>\n",
       "    </tr>\n",
       "    <tr>\n",
       "      <th>1</th>\n",
       "      <td>6.893265e-03</td>\n",
       "      <td>4.751710e-05</td>\n",
       "    </tr>\n",
       "    <tr>\n",
       "      <th>2</th>\n",
       "      <td>7.078442e-03</td>\n",
       "      <td>5.010434e-05</td>\n",
       "    </tr>\n",
       "    <tr>\n",
       "      <th>3</th>\n",
       "      <td>3.435193e-03</td>\n",
       "      <td>1.180055e-05</td>\n",
       "    </tr>\n",
       "    <tr>\n",
       "      <th>4</th>\n",
       "      <td>9.998437e-01</td>\n",
       "      <td>9.996873e-01</td>\n",
       "    </tr>\n",
       "  </tbody>\n",
       "</table>\n",
       "</div>"
      ],
      "text/plain": [
       "      BETA_DIST   SQUARE_BETA\n",
       "0  1.004680e-07  1.009382e-14\n",
       "1  6.893265e-03  4.751710e-05\n",
       "2  7.078442e-03  5.010434e-05\n",
       "3  3.435193e-03  1.180055e-05\n",
       "4  9.998437e-01  9.996873e-01"
      ]
     },
     "execution_count": 27,
     "metadata": {},
     "output_type": "execute_result"
    }
   ],
   "source": [
    "df.head()"
   ]
  },
  {
   "cell_type": "code",
   "execution_count": 28,
   "metadata": {},
   "outputs": [
    {
     "name": "stdout",
     "output_type": "stream",
     "text": [
      "Using matplotlib backend: Qt5Agg\n",
      "Populating the interactive namespace from numpy and matplotlib\n"
     ]
    },
    {
     "name": "stderr",
     "output_type": "stream",
     "text": [
      "C:\\Users\\JMMoreno\\Anaconda3\\lib\\site-packages\\IPython\\core\\magics\\pylab.py:160: UserWarning: pylab import has clobbered these variables: ['beta']\n",
      "`%matplotlib` prevents importing * from pylab and numpy\n",
      "  \"\\n`%matplotlib` prevents importing * from pylab and numpy\"\n"
     ]
    },
    {
     "data": {
      "text/plain": [
       "array([[<matplotlib.axes._subplots.AxesSubplot object at 0x00000136B6359288>,\n",
       "        <matplotlib.axes._subplots.AxesSubplot object at 0x00000136B734D848>]],\n",
       "      dtype=object)"
      ]
     },
     "execution_count": 28,
     "metadata": {},
     "output_type": "execute_result"
    },
    {
     "data": {
      "image/png": "[encoded data removed]",
      "text/plain": [
       "<Figure size 144x144 with 2 Axes>"
      ]
     },
     "metadata": {
      "image/png": {
       "height": 154,
       "width": 165
      },
      "needs_background": "light"
     },
     "output_type": "display_data"
    }
   ],
   "source": [
    "# * Get the histograms of the dataframe\n",
    "\n",
    "\n",
    "%pylab\n",
    "%matplotlib inline\n",
    "%config InlineBackend.figure_format = 'retina'\n",
    "\n",
    "df.hist(figsize = (len(df.columns), len(df.columns)))"
   ]
  },
  {
   "cell_type": "markdown",
   "metadata": {},
   "source": [
    "# Exercise 10\n",
    "\n",
    "Based on the following test results:"
   ]
  },
  {
   "cell_type": "code",
   "execution_count": 29,
   "metadata": {},
   "outputs": [],
   "source": [
    "import numpy as np\n",
    "import pandas as pd\n",
    "\n",
    "edad = np.random.randint(15, 18, 10)\n",
    "puntuacion = [3.25, 8.5, 7.75, np.nan, 9.80, 4, 6.5, np.nan, 8.70, 5.5]"
   ]
  },
  {
   "cell_type": "markdown",
   "metadata": {},
   "source": [
    "* Create a dataframe where the age array has the column name 'Age' and the score list has the name 'Score'\n",
    "* Replace null values with 0.\n",
    "* Create a new column called Situation, where it has as values 'PROMOTE' or 'REPEAT' depending on whether the values of the 'Score' column are greater than 5 or not.\n",
    "* Groups the new dataframe by the mean of the age.\n",
    "* Obtain the percentage of approved and repeaters.\n",
    "* Make a graphic analysis matrix.\n",
    "* Obtain a correlation matrix on the numerical data.\n",
    "\n",
    "\n",
    "### SOLUTION\n",
    "\n",
    "We create an odo dataframe similar to a data dictionary by assigning the names 'Age' and 'Score'"
   ]
  },
  {
   "cell_type": "code",
   "execution_count": 30,
   "metadata": {},
   "outputs": [
    {
     "data": {
      "text/html": [
       "<div>\n",
       "<style scoped>\n",
       "    .dataframe tbody tr th:only-of-type {\n",
       "        vertical-align: middle;\n",
       "    }\n",
       "\n",
       "    .dataframe tbody tr th {\n",
       "        vertical-align: top;\n",
       "    }\n",
       "\n",
       "    .dataframe thead th {\n",
       "        text-align: right;\n",
       "    }\n",
       "</style>\n",
       "<table border=\"1\" class=\"dataframe\">\n",
       "  <thead>\n",
       "    <tr style=\"text-align: right;\">\n",
       "      <th></th>\n",
       "      <th>Age</th>\n",
       "      <th>Score</th>\n",
       "    </tr>\n",
       "  </thead>\n",
       "  <tbody>\n",
       "    <tr>\n",
       "      <th>0</th>\n",
       "      <td>15</td>\n",
       "      <td>3.25</td>\n",
       "    </tr>\n",
       "    <tr>\n",
       "      <th>1</th>\n",
       "      <td>15</td>\n",
       "      <td>8.50</td>\n",
       "    </tr>\n",
       "    <tr>\n",
       "      <th>2</th>\n",
       "      <td>15</td>\n",
       "      <td>7.75</td>\n",
       "    </tr>\n",
       "    <tr>\n",
       "      <th>3</th>\n",
       "      <td>15</td>\n",
       "      <td>NaN</td>\n",
       "    </tr>\n",
       "    <tr>\n",
       "      <th>4</th>\n",
       "      <td>15</td>\n",
       "      <td>9.80</td>\n",
       "    </tr>\n",
       "    <tr>\n",
       "      <th>5</th>\n",
       "      <td>17</td>\n",
       "      <td>4.00</td>\n",
       "    </tr>\n",
       "    <tr>\n",
       "      <th>6</th>\n",
       "      <td>17</td>\n",
       "      <td>6.50</td>\n",
       "    </tr>\n",
       "    <tr>\n",
       "      <th>7</th>\n",
       "      <td>16</td>\n",
       "      <td>NaN</td>\n",
       "    </tr>\n",
       "    <tr>\n",
       "      <th>8</th>\n",
       "      <td>16</td>\n",
       "      <td>8.70</td>\n",
       "    </tr>\n",
       "    <tr>\n",
       "      <th>9</th>\n",
       "      <td>16</td>\n",
       "      <td>5.50</td>\n",
       "    </tr>\n",
       "  </tbody>\n",
       "</table>\n",
       "</div>"
      ],
      "text/plain": [
       "   Age  Score\n",
       "0   15   3.25\n",
       "1   15   8.50\n",
       "2   15   7.75\n",
       "3   15    NaN\n",
       "4   15   9.80\n",
       "5   17   4.00\n",
       "6   17   6.50\n",
       "7   16    NaN\n",
       "8   16   8.70\n",
       "9   16   5.50"
      ]
     },
     "execution_count": 30,
     "metadata": {},
     "output_type": "execute_result"
    }
   ],
   "source": [
    "df = pd.DataFrame({\n",
    "    'Age': edad, \n",
    "    'Score': puntuacion\n",
    "})\n",
    "\n",
    "df"
   ]
  },
  {
   "cell_type": "code",
   "execution_count": 31,
   "metadata": {},
   "outputs": [],
   "source": [
    "# Fill na values by 0\n",
    "df = df.fillna(0)\n"
   ]
  },
  {
   "cell_type": "markdown",
   "metadata": {},
   "source": [
    "There are more efficient methods to perform if-else on a dataframe, but for now, we will develop a function that returns a list of repeaters and passes."
   ]
  },
  {
   "cell_type": "code",
   "execution_count": 34,
   "metadata": {},
   "outputs": [],
   "source": [
    "def approve(target):\n",
    "    \n",
    "    promote = []\n",
    "\n",
    "    for item in target:\n",
    "        if item <= 4.99:\n",
    "            promote.append('REPEAT')\n",
    "        else:\n",
    "            promote.append('PROMOTE')\n",
    "            \n",
    "    return promote"
   ]
  },
  {
   "cell_type": "code",
   "execution_count": 35,
   "metadata": {},
   "outputs": [],
   "source": [
    "df['Situation'] = approve(target=list(df['Score']))"
   ]
  },
  {
   "cell_type": "code",
   "execution_count": 36,
   "metadata": {},
   "outputs": [],
   "source": [
    "# Group by age mean"
   ]
  },
  {
   "cell_type": "code",
   "execution_count": 40,
   "metadata": {},
   "outputs": [
    {
     "data": {
      "text/html": [
       "<div>\n",
       "<style scoped>\n",
       "    .dataframe tbody tr th:only-of-type {\n",
       "        vertical-align: middle;\n",
       "    }\n",
       "\n",
       "    .dataframe tbody tr th {\n",
       "        vertical-align: top;\n",
       "    }\n",
       "\n",
       "    .dataframe thead th {\n",
       "        text-align: right;\n",
       "    }\n",
       "</style>\n",
       "<table border=\"1\" class=\"dataframe\">\n",
       "  <thead>\n",
       "    <tr style=\"text-align: right;\">\n",
       "      <th></th>\n",
       "      <th>Score</th>\n",
       "    </tr>\n",
       "    <tr>\n",
       "      <th>Age</th>\n",
       "      <th></th>\n",
       "    </tr>\n",
       "  </thead>\n",
       "  <tbody>\n",
       "    <tr>\n",
       "      <th>15</th>\n",
       "      <td>5.860000</td>\n",
       "    </tr>\n",
       "    <tr>\n",
       "      <th>16</th>\n",
       "      <td>4.733333</td>\n",
       "    </tr>\n",
       "    <tr>\n",
       "      <th>17</th>\n",
       "      <td>5.250000</td>\n",
       "    </tr>\n",
       "  </tbody>\n",
       "</table>\n",
       "</div>"
      ],
      "text/plain": [
       "        Score\n",
       "Age          \n",
       "15   5.860000\n",
       "16   4.733333\n",
       "17   5.250000"
      ]
     },
     "execution_count": 40,
     "metadata": {},
     "output_type": "execute_result"
    }
   ],
   "source": [
    "df.groupby('Age').mean()"
   ]
  },
  {
   "cell_type": "code",
   "execution_count": 41,
   "metadata": {},
   "outputs": [],
   "source": [
    "# Percentage of approved and failed"
   ]
  },
  {
   "cell_type": "code",
   "execution_count": 42,
   "metadata": {},
   "outputs": [
    {
     "name": "stdout",
     "output_type": "stream",
     "text": [
      "col_0      count\n",
      "Situation       \n",
      "PROMOTE     60.0\n",
      "REPEAT      40.0\n"
     ]
    }
   ],
   "source": [
    "print((pd.crosstab(index=df[\"Situation\"], columns=\"count\"))/len(df) * 100)"
   ]
  },
  {
   "cell_type": "code",
   "execution_count": 43,
   "metadata": {},
   "outputs": [
    {
     "name": "stdout",
     "output_type": "stream",
     "text": [
      "Using matplotlib backend: Qt5Agg\n",
      "Populating the interactive namespace from numpy and matplotlib\n"
     ]
    },
    {
     "data": {
      "image/png": "[encoded data removed]",
      "text/plain": [
       "<Figure size 216x216 with 4 Axes>"
      ]
     },
     "metadata": {
      "image/png": {
       "height": 209,
       "width": 215
      },
      "needs_background": "light"
     },
     "output_type": "display_data"
    }
   ],
   "source": [
    "# Scatter matrix\n",
    "\n",
    "%pylab\n",
    "%matplotlib inline\n",
    "%config InlineBackend.figure_format = 'retina'\n",
    "\n",
    "from pandas.plotting import scatter_matrix\n",
    "\n",
    "scatter_matrix(df, figsize = (len(df.columns), \n",
    "                              len(df.columns)), \n",
    "               diagonal = 'kde');\n"
   ]
  },
  {
   "cell_type": "code",
   "execution_count": 44,
   "metadata": {},
   "outputs": [
    {
     "data": {
      "text/html": [
       "<div>\n",
       "<style scoped>\n",
       "    .dataframe tbody tr th:only-of-type {\n",
       "        vertical-align: middle;\n",
       "    }\n",
       "\n",
       "    .dataframe tbody tr th {\n",
       "        vertical-align: top;\n",
       "    }\n",
       "\n",
       "    .dataframe thead th {\n",
       "        text-align: right;\n",
       "    }\n",
       "</style>\n",
       "<table border=\"1\" class=\"dataframe\">\n",
       "  <thead>\n",
       "    <tr style=\"text-align: right;\">\n",
       "      <th></th>\n",
       "      <th>Age</th>\n",
       "      <th>Score</th>\n",
       "    </tr>\n",
       "  </thead>\n",
       "  <tbody>\n",
       "    <tr>\n",
       "      <th>Age</th>\n",
       "      <td>1.000000</td>\n",
       "      <td>-0.099692</td>\n",
       "    </tr>\n",
       "    <tr>\n",
       "      <th>Score</th>\n",
       "      <td>-0.099692</td>\n",
       "      <td>1.000000</td>\n",
       "    </tr>\n",
       "  </tbody>\n",
       "</table>\n",
       "</div>"
      ],
      "text/plain": [
       "            Age     Score\n",
       "Age    1.000000 -0.099692\n",
       "Score -0.099692  1.000000"
      ]
     },
     "execution_count": 44,
     "metadata": {},
     "output_type": "execute_result"
    }
   ],
   "source": [
    "# Correlation matrix\n",
    "df.corr()"
   ]
  },
  {
   "cell_type": "markdown",
   "metadata": {},
   "source": [
    "# Exercise 11\n",
    "\n",
    "We will use the following multi-table dataset containing information about bank cards. The dataset can be downloaded at: https://www.kaggle.com/ananta/credit-card-data the dataset information is as follows:\n",
    "* CardBase.csv: Contains information about the card limit and its type.\n",
    "* CustomerBase.csv: General customer information.\n",
    "* FraudBase.csv: Transaction and whether or not it is fraudulent.\n",
    "* TransactionBase.csv: Transaction information.\n",
    "\n",
    "With the following information perform:\n",
    "\n",
    "* 1. Read all files as pandas dataframe\n",
    "* 2. Join the CardBase and CustomerBase csv by the field they have in common.\n",
    "* 3. Join the FraudBase and TransactionBase csv by the field they have in common (giving priority to the dataframe with the highest number of rows).\n",
    "* 4. Join the two resulting dataframes into one through the credit card number.\n",
    "* 5. Remove Credit_Card_ID column\n",
    "* 6. Shows the number of nulls in each column.\n",
    "* 7. Change all null values in the Fraud_Flag column to 0.\n",
    "* 8. Group the dataframe by the type of credit card.\n",
    "* 9. Shows the number of unique values in the Customer_Vintage_Group column and their frequency.\n",
    "* 10. Perform a data visualization showing a box-and-whisker plot of the credit limit.\n",
    "* 11. Make a histogram of the age of the customers.\n",
    "\n",
    "## Solution"
   ]
  },
  {
   "cell_type": "code",
   "execution_count": 86,
   "metadata": {},
   "outputs": [],
   "source": [
    "cardbase = pd.read_csv(\"CardBase.csv\")\n",
    "customerbase = pd.read_csv(\"CustomerBase.csv\")\n",
    "fraudbase = pd.read_csv(\"FraudBase.csv\")\n",
    "transactionbase = pd.read_csv(\"TransactionBase.csv\")"
   ]
  },
  {
   "cell_type": "code",
   "execution_count": 87,
   "metadata": {},
   "outputs": [
    {
     "data": {
      "text/html": [
       "<div>\n",
       "<style scoped>\n",
       "    .dataframe tbody tr th:only-of-type {\n",
       "        vertical-align: middle;\n",
       "    }\n",
       "\n",
       "    .dataframe tbody tr th {\n",
       "        vertical-align: top;\n",
       "    }\n",
       "\n",
       "    .dataframe thead th {\n",
       "        text-align: right;\n",
       "    }\n",
       "</style>\n",
       "<table border=\"1\" class=\"dataframe\">\n",
       "  <thead>\n",
       "    <tr style=\"text-align: right;\">\n",
       "      <th></th>\n",
       "      <th>Card_Number</th>\n",
       "      <th>Card_Family</th>\n",
       "      <th>Credit_Limit</th>\n",
       "      <th>Cust_ID</th>\n",
       "    </tr>\n",
       "  </thead>\n",
       "  <tbody>\n",
       "    <tr>\n",
       "      <th>0</th>\n",
       "      <td>8638-5407-3631-8196</td>\n",
       "      <td>Premium</td>\n",
       "      <td>530000</td>\n",
       "      <td>CC67088</td>\n",
       "    </tr>\n",
       "    <tr>\n",
       "      <th>1</th>\n",
       "      <td>7106-4239-7093-1515</td>\n",
       "      <td>Gold</td>\n",
       "      <td>18000</td>\n",
       "      <td>CC12076</td>\n",
       "    </tr>\n",
       "    <tr>\n",
       "      <th>2</th>\n",
       "      <td>6492-5655-8241-3530</td>\n",
       "      <td>Premium</td>\n",
       "      <td>596000</td>\n",
       "      <td>CC97173</td>\n",
       "    </tr>\n",
       "  </tbody>\n",
       "</table>\n",
       "</div>"
      ],
      "text/plain": [
       "           Card_Number Card_Family  Credit_Limit  Cust_ID\n",
       "0  8638-5407-3631-8196     Premium        530000  CC67088\n",
       "1  7106-4239-7093-1515        Gold         18000  CC12076\n",
       "2  6492-5655-8241-3530     Premium        596000  CC97173"
      ]
     },
     "execution_count": 87,
     "metadata": {},
     "output_type": "execute_result"
    }
   ],
   "source": [
    "cardbase.head(3)"
   ]
  },
  {
   "cell_type": "code",
   "execution_count": 88,
   "metadata": {},
   "outputs": [
    {
     "data": {
      "text/plain": [
       "Index(['Card_Number', 'Card_Family', 'Credit_Limit', 'Cust_ID'], dtype='object')"
      ]
     },
     "execution_count": 88,
     "metadata": {},
     "output_type": "execute_result"
    }
   ],
   "source": [
    "cardbase.columns"
   ]
  },
  {
   "cell_type": "code",
   "execution_count": 89,
   "metadata": {},
   "outputs": [
    {
     "data": {
      "text/html": [
       "<div>\n",
       "<style scoped>\n",
       "    .dataframe tbody tr th:only-of-type {\n",
       "        vertical-align: middle;\n",
       "    }\n",
       "\n",
       "    .dataframe tbody tr th {\n",
       "        vertical-align: top;\n",
       "    }\n",
       "\n",
       "    .dataframe thead th {\n",
       "        text-align: right;\n",
       "    }\n",
       "</style>\n",
       "<table border=\"1\" class=\"dataframe\">\n",
       "  <thead>\n",
       "    <tr style=\"text-align: right;\">\n",
       "      <th></th>\n",
       "      <th>Cust_ID</th>\n",
       "      <th>Age</th>\n",
       "      <th>Customer_Segment</th>\n",
       "      <th>Customer_Vintage_Group</th>\n",
       "    </tr>\n",
       "  </thead>\n",
       "  <tbody>\n",
       "    <tr>\n",
       "      <th>0</th>\n",
       "      <td>CC25034</td>\n",
       "      <td>35</td>\n",
       "      <td>Diamond</td>\n",
       "      <td>VG1</td>\n",
       "    </tr>\n",
       "    <tr>\n",
       "      <th>1</th>\n",
       "      <td>CC59625</td>\n",
       "      <td>22</td>\n",
       "      <td>Diamond</td>\n",
       "      <td>VG1</td>\n",
       "    </tr>\n",
       "    <tr>\n",
       "      <th>2</th>\n",
       "      <td>CC69314</td>\n",
       "      <td>33</td>\n",
       "      <td>Diamond</td>\n",
       "      <td>VG1</td>\n",
       "    </tr>\n",
       "  </tbody>\n",
       "</table>\n",
       "</div>"
      ],
      "text/plain": [
       "   Cust_ID  Age Customer_Segment Customer_Vintage_Group\n",
       "0  CC25034   35          Diamond                    VG1\n",
       "1  CC59625   22          Diamond                    VG1\n",
       "2  CC69314   33          Diamond                    VG1"
      ]
     },
     "execution_count": 89,
     "metadata": {},
     "output_type": "execute_result"
    }
   ],
   "source": [
    "customerbase.head(3)"
   ]
  },
  {
   "cell_type": "code",
   "execution_count": 90,
   "metadata": {},
   "outputs": [
    {
     "data": {
      "text/plain": [
       "Index(['Cust_ID', 'Age', 'Customer_Segment', 'Customer_Vintage_Group'], dtype='object')"
      ]
     },
     "execution_count": 90,
     "metadata": {},
     "output_type": "execute_result"
    }
   ],
   "source": [
    "customerbase.columns"
   ]
  },
  {
   "cell_type": "code",
   "execution_count": 91,
   "metadata": {},
   "outputs": [
    {
     "data": {
      "text/html": [
       "<div>\n",
       "<style scoped>\n",
       "    .dataframe tbody tr th:only-of-type {\n",
       "        vertical-align: middle;\n",
       "    }\n",
       "\n",
       "    .dataframe tbody tr th {\n",
       "        vertical-align: top;\n",
       "    }\n",
       "\n",
       "    .dataframe thead th {\n",
       "        text-align: right;\n",
       "    }\n",
       "</style>\n",
       "<table border=\"1\" class=\"dataframe\">\n",
       "  <thead>\n",
       "    <tr style=\"text-align: right;\">\n",
       "      <th></th>\n",
       "      <th>Transaction_ID</th>\n",
       "      <th>Fraud_Flag</th>\n",
       "    </tr>\n",
       "  </thead>\n",
       "  <tbody>\n",
       "    <tr>\n",
       "      <th>0</th>\n",
       "      <td>CTID50558449</td>\n",
       "      <td>1</td>\n",
       "    </tr>\n",
       "    <tr>\n",
       "      <th>1</th>\n",
       "      <td>CTID55936882</td>\n",
       "      <td>1</td>\n",
       "    </tr>\n",
       "    <tr>\n",
       "      <th>2</th>\n",
       "      <td>CTID63762180</td>\n",
       "      <td>1</td>\n",
       "    </tr>\n",
       "  </tbody>\n",
       "</table>\n",
       "</div>"
      ],
      "text/plain": [
       "  Transaction_ID  Fraud_Flag\n",
       "0   CTID50558449           1\n",
       "1   CTID55936882           1\n",
       "2   CTID63762180           1"
      ]
     },
     "execution_count": 91,
     "metadata": {},
     "output_type": "execute_result"
    }
   ],
   "source": [
    "fraudbase.head(3)"
   ]
  },
  {
   "cell_type": "code",
   "execution_count": 92,
   "metadata": {},
   "outputs": [
    {
     "data": {
      "text/plain": [
       "Index(['Transaction_ID', 'Fraud_Flag'], dtype='object')"
      ]
     },
     "execution_count": 92,
     "metadata": {},
     "output_type": "execute_result"
    }
   ],
   "source": [
    "fraudbase.columns"
   ]
  },
  {
   "cell_type": "code",
   "execution_count": 93,
   "metadata": {},
   "outputs": [
    {
     "data": {
      "text/html": [
       "<div>\n",
       "<style scoped>\n",
       "    .dataframe tbody tr th:only-of-type {\n",
       "        vertical-align: middle;\n",
       "    }\n",
       "\n",
       "    .dataframe tbody tr th {\n",
       "        vertical-align: top;\n",
       "    }\n",
       "\n",
       "    .dataframe thead th {\n",
       "        text-align: right;\n",
       "    }\n",
       "</style>\n",
       "<table border=\"1\" class=\"dataframe\">\n",
       "  <thead>\n",
       "    <tr style=\"text-align: right;\">\n",
       "      <th></th>\n",
       "      <th>Transaction_ID</th>\n",
       "      <th>Transaction_Date</th>\n",
       "      <th>Credit_Card_ID</th>\n",
       "      <th>Transaction_Value</th>\n",
       "      <th>Transaction_Segment</th>\n",
       "    </tr>\n",
       "  </thead>\n",
       "  <tbody>\n",
       "    <tr>\n",
       "      <th>0</th>\n",
       "      <td>CTID28830551</td>\n",
       "      <td>24-Apr-16</td>\n",
       "      <td>1629-9566-3285-2123</td>\n",
       "      <td>23649</td>\n",
       "      <td>SEG25</td>\n",
       "    </tr>\n",
       "    <tr>\n",
       "      <th>1</th>\n",
       "      <td>CTID45504917</td>\n",
       "      <td>11-Feb-16</td>\n",
       "      <td>3697-6001-4909-5350</td>\n",
       "      <td>26726</td>\n",
       "      <td>SEG16</td>\n",
       "    </tr>\n",
       "    <tr>\n",
       "      <th>2</th>\n",
       "      <td>CTID47312290</td>\n",
       "      <td>1-Nov-16</td>\n",
       "      <td>5864-4475-3659-1440</td>\n",
       "      <td>22012</td>\n",
       "      <td>SEG14</td>\n",
       "    </tr>\n",
       "  </tbody>\n",
       "</table>\n",
       "</div>"
      ],
      "text/plain": [
       "  Transaction_ID Transaction_Date       Credit_Card_ID  Transaction_Value  \\\n",
       "0   CTID28830551        24-Apr-16  1629-9566-3285-2123              23649   \n",
       "1   CTID45504917        11-Feb-16  3697-6001-4909-5350              26726   \n",
       "2   CTID47312290         1-Nov-16  5864-4475-3659-1440              22012   \n",
       "\n",
       "  Transaction_Segment  \n",
       "0               SEG25  \n",
       "1               SEG16  \n",
       "2               SEG14  "
      ]
     },
     "execution_count": 93,
     "metadata": {},
     "output_type": "execute_result"
    }
   ],
   "source": [
    "transactionbase.head(3)"
   ]
  },
  {
   "cell_type": "code",
   "execution_count": 94,
   "metadata": {},
   "outputs": [
    {
     "data": {
      "text/plain": [
       "Index(['Transaction_ID', 'Transaction_Date', 'Credit_Card_ID',\n",
       "       'Transaction_Value', 'Transaction_Segment'],\n",
       "      dtype='object')"
      ]
     },
     "execution_count": 94,
     "metadata": {},
     "output_type": "execute_result"
    }
   ],
   "source": [
    "transactionbase.columns"
   ]
  },
  {
   "cell_type": "code",
   "execution_count": 95,
   "metadata": {},
   "outputs": [
    {
     "data": {
      "text/html": [
       "<div>\n",
       "<style scoped>\n",
       "    .dataframe tbody tr th:only-of-type {\n",
       "        vertical-align: middle;\n",
       "    }\n",
       "\n",
       "    .dataframe tbody tr th {\n",
       "        vertical-align: top;\n",
       "    }\n",
       "\n",
       "    .dataframe thead th {\n",
       "        text-align: right;\n",
       "    }\n",
       "</style>\n",
       "<table border=\"1\" class=\"dataframe\">\n",
       "  <thead>\n",
       "    <tr style=\"text-align: right;\">\n",
       "      <th></th>\n",
       "      <th>Cust_ID</th>\n",
       "      <th>Age</th>\n",
       "      <th>Customer_Segment</th>\n",
       "      <th>Customer_Vintage_Group</th>\n",
       "      <th>Card_Number</th>\n",
       "      <th>Card_Family</th>\n",
       "      <th>Credit_Limit</th>\n",
       "    </tr>\n",
       "  </thead>\n",
       "  <tbody>\n",
       "    <tr>\n",
       "      <th>0</th>\n",
       "      <td>CC55858</td>\n",
       "      <td>30</td>\n",
       "      <td>Diamond</td>\n",
       "      <td>VG1</td>\n",
       "      <td>2868-5606-5152-5706</td>\n",
       "      <td>Gold</td>\n",
       "      <td>27000</td>\n",
       "    </tr>\n",
       "    <tr>\n",
       "      <th>1</th>\n",
       "      <td>CC46077</td>\n",
       "      <td>49</td>\n",
       "      <td>Diamond</td>\n",
       "      <td>VG1</td>\n",
       "      <td>6876-7378-4945-3251</td>\n",
       "      <td>Gold</td>\n",
       "      <td>44000</td>\n",
       "    </tr>\n",
       "    <tr>\n",
       "      <th>2</th>\n",
       "      <td>CC46484</td>\n",
       "      <td>49</td>\n",
       "      <td>Diamond</td>\n",
       "      <td>VG1</td>\n",
       "      <td>5556-4557-4566-1540</td>\n",
       "      <td>Gold</td>\n",
       "      <td>45000</td>\n",
       "    </tr>\n",
       "    <tr>\n",
       "      <th>3</th>\n",
       "      <td>CC59340</td>\n",
       "      <td>25</td>\n",
       "      <td>Diamond</td>\n",
       "      <td>VG1</td>\n",
       "      <td>5618-9718-9367-2102</td>\n",
       "      <td>Gold</td>\n",
       "      <td>14000</td>\n",
       "    </tr>\n",
       "    <tr>\n",
       "      <th>4</th>\n",
       "      <td>CC62994</td>\n",
       "      <td>48</td>\n",
       "      <td>Diamond</td>\n",
       "      <td>VG1</td>\n",
       "      <td>1652-7516-1273-1992</td>\n",
       "      <td>Platinum</td>\n",
       "      <td>180000</td>\n",
       "    </tr>\n",
       "  </tbody>\n",
       "</table>\n",
       "</div>"
      ],
      "text/plain": [
       "   Cust_ID  Age Customer_Segment Customer_Vintage_Group          Card_Number  \\\n",
       "0  CC55858   30          Diamond                    VG1  2868-5606-5152-5706   \n",
       "1  CC46077   49          Diamond                    VG1  6876-7378-4945-3251   \n",
       "2  CC46484   49          Diamond                    VG1  5556-4557-4566-1540   \n",
       "3  CC59340   25          Diamond                    VG1  5618-9718-9367-2102   \n",
       "4  CC62994   48          Diamond                    VG1  1652-7516-1273-1992   \n",
       "\n",
       "  Card_Family  Credit_Limit  \n",
       "0        Gold         27000  \n",
       "1        Gold         44000  \n",
       "2        Gold         45000  \n",
       "3        Gold         14000  \n",
       "4    Platinum        180000  "
      ]
     },
     "execution_count": 95,
     "metadata": {},
     "output_type": "execute_result"
    }
   ],
   "source": [
    "# Join the CardBase and CustomerBase csv by the field they have in common\n",
    "base_info = customerbase.merge(cardbase, left_on=\"Cust_ID\", right_on=\"Cust_ID\", how=\"inner\")\n",
    "\n",
    "base_info.head(5)"
   ]
  },
  {
   "cell_type": "code",
   "execution_count": 96,
   "metadata": {},
   "outputs": [
    {
     "data": {
      "text/plain": [
       "(500, 7)"
      ]
     },
     "execution_count": 96,
     "metadata": {},
     "output_type": "execute_result"
    }
   ],
   "source": [
    "base_info.shape"
   ]
  },
  {
   "cell_type": "code",
   "execution_count": 97,
   "metadata": {},
   "outputs": [
    {
     "data": {
      "text/html": [
       "<div>\n",
       "<style scoped>\n",
       "    .dataframe tbody tr th:only-of-type {\n",
       "        vertical-align: middle;\n",
       "    }\n",
       "\n",
       "    .dataframe tbody tr th {\n",
       "        vertical-align: top;\n",
       "    }\n",
       "\n",
       "    .dataframe thead th {\n",
       "        text-align: right;\n",
       "    }\n",
       "</style>\n",
       "<table border=\"1\" class=\"dataframe\">\n",
       "  <thead>\n",
       "    <tr style=\"text-align: right;\">\n",
       "      <th></th>\n",
       "      <th>Transaction_ID</th>\n",
       "      <th>Transaction_Date</th>\n",
       "      <th>Credit_Card_ID</th>\n",
       "      <th>Transaction_Value</th>\n",
       "      <th>Transaction_Segment</th>\n",
       "      <th>Fraud_Flag</th>\n",
       "    </tr>\n",
       "  </thead>\n",
       "  <tbody>\n",
       "    <tr>\n",
       "      <th>0</th>\n",
       "      <td>CTID28830551</td>\n",
       "      <td>24-Apr-16</td>\n",
       "      <td>1629-9566-3285-2123</td>\n",
       "      <td>23649</td>\n",
       "      <td>SEG25</td>\n",
       "      <td>NaN</td>\n",
       "    </tr>\n",
       "    <tr>\n",
       "      <th>1</th>\n",
       "      <td>CTID45504917</td>\n",
       "      <td>11-Feb-16</td>\n",
       "      <td>3697-6001-4909-5350</td>\n",
       "      <td>26726</td>\n",
       "      <td>SEG16</td>\n",
       "      <td>NaN</td>\n",
       "    </tr>\n",
       "    <tr>\n",
       "      <th>2</th>\n",
       "      <td>CTID47312290</td>\n",
       "      <td>1-Nov-16</td>\n",
       "      <td>5864-4475-3659-1440</td>\n",
       "      <td>22012</td>\n",
       "      <td>SEG14</td>\n",
       "      <td>NaN</td>\n",
       "    </tr>\n",
       "    <tr>\n",
       "      <th>3</th>\n",
       "      <td>CTID25637718</td>\n",
       "      <td>28-Jan-16</td>\n",
       "      <td>5991-4421-8476-3804</td>\n",
       "      <td>37637</td>\n",
       "      <td>SEG17</td>\n",
       "      <td>NaN</td>\n",
       "    </tr>\n",
       "    <tr>\n",
       "      <th>4</th>\n",
       "      <td>CTID66743960</td>\n",
       "      <td>17-Mar-16</td>\n",
       "      <td>1893-8853-9900-8478</td>\n",
       "      <td>5113</td>\n",
       "      <td>SEG14</td>\n",
       "      <td>NaN</td>\n",
       "    </tr>\n",
       "  </tbody>\n",
       "</table>\n",
       "</div>"
      ],
      "text/plain": [
       "  Transaction_ID Transaction_Date       Credit_Card_ID  Transaction_Value  \\\n",
       "0   CTID28830551        24-Apr-16  1629-9566-3285-2123              23649   \n",
       "1   CTID45504917        11-Feb-16  3697-6001-4909-5350              26726   \n",
       "2   CTID47312290         1-Nov-16  5864-4475-3659-1440              22012   \n",
       "3   CTID25637718        28-Jan-16  5991-4421-8476-3804              37637   \n",
       "4   CTID66743960        17-Mar-16  1893-8853-9900-8478               5113   \n",
       "\n",
       "  Transaction_Segment  Fraud_Flag  \n",
       "0               SEG25         NaN  \n",
       "1               SEG16         NaN  \n",
       "2               SEG14         NaN  \n",
       "3               SEG17         NaN  \n",
       "4               SEG14         NaN  "
      ]
     },
     "execution_count": 97,
     "metadata": {},
     "output_type": "execute_result"
    }
   ],
   "source": [
    "# 3. Join the FraudBase and TransactionBase csv by the field they have in common (giving priority to the dataframe with the highest number of rows).\n",
    "transaction_info = transactionbase.merge(fraudbase, left_on=\"Transaction_ID\", right_on=\"Transaction_ID\", how=\"left\")\n",
    "\n",
    "transaction_info.head(5)"
   ]
  },
  {
   "cell_type": "code",
   "execution_count": 98,
   "metadata": {},
   "outputs": [],
   "source": [
    "# 4. Join the two resulting dataframes into one through the credit card number.\n",
    "df = base_info.merge(transaction_info, left_on=\"Card_Number\", right_on=\"Credit_Card_ID\", how=\"inner\")"
   ]
  },
  {
   "cell_type": "code",
   "execution_count": 99,
   "metadata": {},
   "outputs": [
    {
     "name": "stderr",
     "output_type": "stream",
     "text": [
      "C:\\Users\\JMMoreno\\Anaconda3\\lib\\site-packages\\ipykernel_launcher.py:2: FutureWarning: In a future version of pandas all arguments of DataFrame.drop except for the argument 'labels' will be keyword-only\n",
      "  \n"
     ]
    }
   ],
   "source": [
    "# 5. Remove Credit_Card_ID column\n",
    "df = df.drop([\"Credit_Card_ID\"], 1)"
   ]
  },
  {
   "cell_type": "code",
   "execution_count": 100,
   "metadata": {},
   "outputs": [
    {
     "data": {
      "text/plain": [
       "12"
      ]
     },
     "execution_count": 100,
     "metadata": {},
     "output_type": "execute_result"
    }
   ],
   "source": [
    "len(df.columns)"
   ]
  },
  {
   "cell_type": "code",
   "execution_count": 101,
   "metadata": {},
   "outputs": [
    {
     "name": "stdout",
     "output_type": "stream",
     "text": [
      "*AMOUNT of null data per column in the dataframe\n",
      "Cust_ID                      0\n",
      "Age                          0\n",
      "Customer_Segment             0\n",
      "Customer_Vintage_Group       0\n",
      "Card_Number                  0\n",
      "Card_Family                  0\n",
      "Credit_Limit                 0\n",
      "Transaction_ID               0\n",
      "Transaction_Date             0\n",
      "Transaction_Value            0\n",
      "Transaction_Segment          0\n",
      "Fraud_Flag                9891\n",
      "dtype: int64\n"
     ]
    }
   ],
   "source": [
    "# 6. Shows the number of nulls in each column.\n",
    "\n",
    "print(\"*AMOUNT of null data per column in the dataframe\")\n",
    "print(df.isnull().sum())"
   ]
  },
  {
   "cell_type": "code",
   "execution_count": 102,
   "metadata": {},
   "outputs": [],
   "source": [
    "# 7. Change all null values in the Fraud_Flag column to 0.\n",
    "df['Fraud_Flag'] = df['Fraud_Flag'].fillna(0)"
   ]
  },
  {
   "cell_type": "code",
   "execution_count": 103,
   "metadata": {},
   "outputs": [
    {
     "data": {
      "text/plain": [
       "array([0., 1.])"
      ]
     },
     "execution_count": 103,
     "metadata": {},
     "output_type": "execute_result"
    }
   ],
   "source": [
    "df['Fraud_Flag'].unique()"
   ]
  },
  {
   "cell_type": "code",
   "execution_count": 104,
   "metadata": {},
   "outputs": [
    {
     "data": {
      "text/html": [
       "<div>\n",
       "<style scoped>\n",
       "    .dataframe tbody tr th:only-of-type {\n",
       "        vertical-align: middle;\n",
       "    }\n",
       "\n",
       "    .dataframe tbody tr th {\n",
       "        vertical-align: top;\n",
       "    }\n",
       "\n",
       "    .dataframe thead th {\n",
       "        text-align: right;\n",
       "    }\n",
       "</style>\n",
       "<table border=\"1\" class=\"dataframe\">\n",
       "  <thead>\n",
       "    <tr style=\"text-align: right;\">\n",
       "      <th></th>\n",
       "      <th>Cust_ID</th>\n",
       "      <th>Age</th>\n",
       "      <th>Customer_Segment</th>\n",
       "      <th>Customer_Vintage_Group</th>\n",
       "      <th>Card_Number</th>\n",
       "      <th>Card_Family</th>\n",
       "      <th>Credit_Limit</th>\n",
       "      <th>Transaction_ID</th>\n",
       "      <th>Transaction_Date</th>\n",
       "      <th>Transaction_Value</th>\n",
       "      <th>Transaction_Segment</th>\n",
       "    </tr>\n",
       "    <tr>\n",
       "      <th>Fraud_Flag</th>\n",
       "      <th></th>\n",
       "      <th></th>\n",
       "      <th></th>\n",
       "      <th></th>\n",
       "      <th></th>\n",
       "      <th></th>\n",
       "      <th></th>\n",
       "      <th></th>\n",
       "      <th></th>\n",
       "      <th></th>\n",
       "      <th></th>\n",
       "    </tr>\n",
       "  </thead>\n",
       "  <tbody>\n",
       "    <tr>\n",
       "      <th>0.0</th>\n",
       "      <td>9891</td>\n",
       "      <td>9891</td>\n",
       "      <td>9891</td>\n",
       "      <td>9891</td>\n",
       "      <td>9891</td>\n",
       "      <td>9891</td>\n",
       "      <td>9891</td>\n",
       "      <td>9891</td>\n",
       "      <td>9891</td>\n",
       "      <td>9891</td>\n",
       "      <td>9891</td>\n",
       "    </tr>\n",
       "    <tr>\n",
       "      <th>1.0</th>\n",
       "      <td>109</td>\n",
       "      <td>109</td>\n",
       "      <td>109</td>\n",
       "      <td>109</td>\n",
       "      <td>109</td>\n",
       "      <td>109</td>\n",
       "      <td>109</td>\n",
       "      <td>109</td>\n",
       "      <td>109</td>\n",
       "      <td>109</td>\n",
       "      <td>109</td>\n",
       "    </tr>\n",
       "  </tbody>\n",
       "</table>\n",
       "</div>"
      ],
      "text/plain": [
       "            Cust_ID   Age  Customer_Segment  Customer_Vintage_Group  \\\n",
       "Fraud_Flag                                                            \n",
       "0.0            9891  9891              9891                    9891   \n",
       "1.0             109   109               109                     109   \n",
       "\n",
       "            Card_Number  Card_Family  Credit_Limit  Transaction_ID  \\\n",
       "Fraud_Flag                                                           \n",
       "0.0                9891         9891          9891            9891   \n",
       "1.0                 109          109           109             109   \n",
       "\n",
       "            Transaction_Date  Transaction_Value  Transaction_Segment  \n",
       "Fraud_Flag                                                            \n",
       "0.0                     9891               9891                 9891  \n",
       "1.0                      109                109                  109  "
      ]
     },
     "execution_count": 104,
     "metadata": {},
     "output_type": "execute_result"
    }
   ],
   "source": [
    "df.groupby(['Fraud_Flag']).count()"
   ]
  },
  {
   "cell_type": "code",
   "execution_count": 105,
   "metadata": {},
   "outputs": [
    {
     "data": {
      "text/html": [
       "<div>\n",
       "<style scoped>\n",
       "    .dataframe tbody tr th:only-of-type {\n",
       "        vertical-align: middle;\n",
       "    }\n",
       "\n",
       "    .dataframe tbody tr th {\n",
       "        vertical-align: top;\n",
       "    }\n",
       "\n",
       "    .dataframe thead th {\n",
       "        text-align: right;\n",
       "    }\n",
       "</style>\n",
       "<table border=\"1\" class=\"dataframe\">\n",
       "  <thead>\n",
       "    <tr style=\"text-align: right;\">\n",
       "      <th></th>\n",
       "      <th>Cust_ID</th>\n",
       "      <th>Age</th>\n",
       "      <th>Customer_Segment</th>\n",
       "      <th>Customer_Vintage_Group</th>\n",
       "      <th>Card_Number</th>\n",
       "      <th>Credit_Limit</th>\n",
       "      <th>Transaction_ID</th>\n",
       "      <th>Transaction_Date</th>\n",
       "      <th>Transaction_Value</th>\n",
       "      <th>Transaction_Segment</th>\n",
       "      <th>Fraud_Flag</th>\n",
       "    </tr>\n",
       "    <tr>\n",
       "      <th>Card_Family</th>\n",
       "      <th></th>\n",
       "      <th></th>\n",
       "      <th></th>\n",
       "      <th></th>\n",
       "      <th></th>\n",
       "      <th></th>\n",
       "      <th></th>\n",
       "      <th></th>\n",
       "      <th></th>\n",
       "      <th></th>\n",
       "      <th></th>\n",
       "    </tr>\n",
       "  </thead>\n",
       "  <tbody>\n",
       "    <tr>\n",
       "      <th>Gold</th>\n",
       "      <td>3636</td>\n",
       "      <td>3636</td>\n",
       "      <td>3636</td>\n",
       "      <td>3636</td>\n",
       "      <td>3636</td>\n",
       "      <td>3636</td>\n",
       "      <td>3636</td>\n",
       "      <td>3636</td>\n",
       "      <td>3636</td>\n",
       "      <td>3636</td>\n",
       "      <td>3636</td>\n",
       "    </tr>\n",
       "    <tr>\n",
       "      <th>Platinum</th>\n",
       "      <td>2265</td>\n",
       "      <td>2265</td>\n",
       "      <td>2265</td>\n",
       "      <td>2265</td>\n",
       "      <td>2265</td>\n",
       "      <td>2265</td>\n",
       "      <td>2265</td>\n",
       "      <td>2265</td>\n",
       "      <td>2265</td>\n",
       "      <td>2265</td>\n",
       "      <td>2265</td>\n",
       "    </tr>\n",
       "    <tr>\n",
       "      <th>Premium</th>\n",
       "      <td>4099</td>\n",
       "      <td>4099</td>\n",
       "      <td>4099</td>\n",
       "      <td>4099</td>\n",
       "      <td>4099</td>\n",
       "      <td>4099</td>\n",
       "      <td>4099</td>\n",
       "      <td>4099</td>\n",
       "      <td>4099</td>\n",
       "      <td>4099</td>\n",
       "      <td>4099</td>\n",
       "    </tr>\n",
       "  </tbody>\n",
       "</table>\n",
       "</div>"
      ],
      "text/plain": [
       "             Cust_ID   Age  Customer_Segment  Customer_Vintage_Group  \\\n",
       "Card_Family                                                            \n",
       "Gold            3636  3636              3636                    3636   \n",
       "Platinum        2265  2265              2265                    2265   \n",
       "Premium         4099  4099              4099                    4099   \n",
       "\n",
       "             Card_Number  Credit_Limit  Transaction_ID  Transaction_Date  \\\n",
       "Card_Family                                                                \n",
       "Gold                3636          3636            3636              3636   \n",
       "Platinum            2265          2265            2265              2265   \n",
       "Premium             4099          4099            4099              4099   \n",
       "\n",
       "             Transaction_Value  Transaction_Segment  Fraud_Flag  \n",
       "Card_Family                                                      \n",
       "Gold                      3636                 3636        3636  \n",
       "Platinum                  2265                 2265        2265  \n",
       "Premium                   4099                 4099        4099  "
      ]
     },
     "execution_count": 105,
     "metadata": {},
     "output_type": "execute_result"
    }
   ],
   "source": [
    "# 8. Group the dataframe by the type of credit card.\n",
    "df.groupby(['Card_Family']).count()"
   ]
  },
  {
   "cell_type": "code",
   "execution_count": 106,
   "metadata": {},
   "outputs": [
    {
     "data": {
      "text/plain": [
       "array(['VG1', 'VG3', 'VG2'], dtype=object)"
      ]
     },
     "execution_count": 106,
     "metadata": {},
     "output_type": "execute_result"
    }
   ],
   "source": [
    "# 9. Shows the number of unique values in the Customer_Vintage_Group column and their frequency.\n",
    "df[\"Customer_Vintage_Group\"].unique()"
   ]
  },
  {
   "cell_type": "code",
   "execution_count": 107,
   "metadata": {},
   "outputs": [
    {
     "data": {
      "text/html": [
       "<div>\n",
       "<style scoped>\n",
       "    .dataframe tbody tr th:only-of-type {\n",
       "        vertical-align: middle;\n",
       "    }\n",
       "\n",
       "    .dataframe tbody tr th {\n",
       "        vertical-align: top;\n",
       "    }\n",
       "\n",
       "    .dataframe thead th {\n",
       "        text-align: right;\n",
       "    }\n",
       "</style>\n",
       "<table border=\"1\" class=\"dataframe\">\n",
       "  <thead>\n",
       "    <tr style=\"text-align: right;\">\n",
       "      <th></th>\n",
       "      <th>Cust_ID</th>\n",
       "      <th>Age</th>\n",
       "      <th>Customer_Segment</th>\n",
       "      <th>Card_Number</th>\n",
       "      <th>Card_Family</th>\n",
       "      <th>Credit_Limit</th>\n",
       "      <th>Transaction_ID</th>\n",
       "      <th>Transaction_Date</th>\n",
       "      <th>Transaction_Value</th>\n",
       "      <th>Transaction_Segment</th>\n",
       "      <th>Fraud_Flag</th>\n",
       "    </tr>\n",
       "    <tr>\n",
       "      <th>Customer_Vintage_Group</th>\n",
       "      <th></th>\n",
       "      <th></th>\n",
       "      <th></th>\n",
       "      <th></th>\n",
       "      <th></th>\n",
       "      <th></th>\n",
       "      <th></th>\n",
       "      <th></th>\n",
       "      <th></th>\n",
       "      <th></th>\n",
       "      <th></th>\n",
       "    </tr>\n",
       "  </thead>\n",
       "  <tbody>\n",
       "    <tr>\n",
       "      <th>VG1</th>\n",
       "      <td>4460</td>\n",
       "      <td>4460</td>\n",
       "      <td>4460</td>\n",
       "      <td>4460</td>\n",
       "      <td>4460</td>\n",
       "      <td>4460</td>\n",
       "      <td>4460</td>\n",
       "      <td>4460</td>\n",
       "      <td>4460</td>\n",
       "      <td>4460</td>\n",
       "      <td>4460</td>\n",
       "    </tr>\n",
       "    <tr>\n",
       "      <th>VG2</th>\n",
       "      <td>2288</td>\n",
       "      <td>2288</td>\n",
       "      <td>2288</td>\n",
       "      <td>2288</td>\n",
       "      <td>2288</td>\n",
       "      <td>2288</td>\n",
       "      <td>2288</td>\n",
       "      <td>2288</td>\n",
       "      <td>2288</td>\n",
       "      <td>2288</td>\n",
       "      <td>2288</td>\n",
       "    </tr>\n",
       "    <tr>\n",
       "      <th>VG3</th>\n",
       "      <td>3252</td>\n",
       "      <td>3252</td>\n",
       "      <td>3252</td>\n",
       "      <td>3252</td>\n",
       "      <td>3252</td>\n",
       "      <td>3252</td>\n",
       "      <td>3252</td>\n",
       "      <td>3252</td>\n",
       "      <td>3252</td>\n",
       "      <td>3252</td>\n",
       "      <td>3252</td>\n",
       "    </tr>\n",
       "  </tbody>\n",
       "</table>\n",
       "</div>"
      ],
      "text/plain": [
       "                        Cust_ID   Age  Customer_Segment  Card_Number  \\\n",
       "Customer_Vintage_Group                                                 \n",
       "VG1                        4460  4460              4460         4460   \n",
       "VG2                        2288  2288              2288         2288   \n",
       "VG3                        3252  3252              3252         3252   \n",
       "\n",
       "                        Card_Family  Credit_Limit  Transaction_ID  \\\n",
       "Customer_Vintage_Group                                              \n",
       "VG1                            4460          4460            4460   \n",
       "VG2                            2288          2288            2288   \n",
       "VG3                            3252          3252            3252   \n",
       "\n",
       "                        Transaction_Date  Transaction_Value  \\\n",
       "Customer_Vintage_Group                                        \n",
       "VG1                                 4460               4460   \n",
       "VG2                                 2288               2288   \n",
       "VG3                                 3252               3252   \n",
       "\n",
       "                        Transaction_Segment  Fraud_Flag  \n",
       "Customer_Vintage_Group                                   \n",
       "VG1                                    4460        4460  \n",
       "VG2                                    2288        2288  \n",
       "VG3                                    3252        3252  "
      ]
     },
     "execution_count": 107,
     "metadata": {},
     "output_type": "execute_result"
    }
   ],
   "source": [
    "df.groupby(['Customer_Vintage_Group']).count()"
   ]
  },
  {
   "cell_type": "code",
   "execution_count": 108,
   "metadata": {},
   "outputs": [
    {
     "name": "stdout",
     "output_type": "stream",
     "text": [
      "col_0                   count\n",
      "Customer_Vintage_Group       \n",
      "VG1                     44.60\n",
      "VG2                     22.88\n",
      "VG3                     32.52\n"
     ]
    }
   ],
   "source": [
    "print((pd.crosstab(index=df[\"Customer_Vintage_Group\"], columns=\"count\"))/len(df) * 100)"
   ]
  },
  {
   "cell_type": "code",
   "execution_count": 114,
   "metadata": {},
   "outputs": [
    {
     "data": {
      "text/plain": [
       "<matplotlib.axes._subplots.AxesSubplot at 0x136c3f54688>"
      ]
     },
     "execution_count": 114,
     "metadata": {},
     "output_type": "execute_result"
    },
    {
     "data": {
      "image/png": "[encoded data removed]",
      "text/plain": [
       "<Figure size 432x288 with 1 Axes>"
      ]
     },
     "metadata": {
      "image/png": {
       "height": 248,
       "width": 394
      },
      "needs_background": "light"
     },
     "output_type": "display_data"
    }
   ],
   "source": [
    "# 10. Perform a data visualization showing a box-and-whisker plot of the credit limit.\n",
    "df.Credit_Limit.plot(kind=\"box\")"
   ]
  },
  {
   "cell_type": "code",
   "execution_count": 113,
   "metadata": {},
   "outputs": [
    {
     "data": {
      "text/plain": [
       "<matplotlib.axes._subplots.AxesSubplot at 0x136c3a35148>"
      ]
     },
     "execution_count": 113,
     "metadata": {},
     "output_type": "execute_result"
    },
    {
     "data": {
      "image/png": "[encoded data removed]",
      "text/plain": [
       "<Figure size 432x288 with 1 Axes>"
      ]
     },
     "metadata": {
      "image/png": {
       "height": 248,
       "width": 395
      },
      "needs_background": "light"
     },
     "output_type": "display_data"
    }
   ],
   "source": [
    "# 11. Make a histogram of the age of the customers.\n",
    "df.Age.plot(kind=\"hist\")"
   ]
  },
  {
   "cell_type": "markdown",
   "metadata": {},
   "source": [
    "# Exercise 12\n",
    "\n",
    "Take the following csv 'Spotify-2000.csv' and perform the following operations:\n",
    "\n",
    "* Read the file as a dataframe via pandas.\n",
    "* Sorts the dataframe by the 'Popularity' column and shows the title, artist and year of the 10 most popular songs\n",
    "* Shows the correlation matrix between the BPM, Energy and Danceability columns\n",
    "* How many songs are there for each year? Sorts the dataframe by the year column and displays the song count\n",
    "* Convert the Popularity column to a Numpy array and get the number of the row containing the least popular song, then display the entire row with the least popular song in the dataframe.\n",
    "\n",
    "## Solution"
   ]
  },
  {
   "cell_type": "code",
   "execution_count": 70,
   "metadata": {},
   "outputs": [],
   "source": [
    "# * Read the file as a dataframe via pandas."
   ]
  },
  {
   "cell_type": "code",
   "execution_count": 71,
   "metadata": {},
   "outputs": [],
   "source": [
    "import pandas as pd\n",
    "\n",
    "df = pd.read_csv(\"Spotify-2000.csv\")"
   ]
  },
  {
   "cell_type": "code",
   "execution_count": 72,
   "metadata": {},
   "outputs": [
    {
     "data": {
      "text/html": [
       "<div>\n",
       "<style scoped>\n",
       "    .dataframe tbody tr th:only-of-type {\n",
       "        vertical-align: middle;\n",
       "    }\n",
       "\n",
       "    .dataframe tbody tr th {\n",
       "        vertical-align: top;\n",
       "    }\n",
       "\n",
       "    .dataframe thead th {\n",
       "        text-align: right;\n",
       "    }\n",
       "</style>\n",
       "<table border=\"1\" class=\"dataframe\">\n",
       "  <thead>\n",
       "    <tr style=\"text-align: right;\">\n",
       "      <th></th>\n",
       "      <th>Index</th>\n",
       "      <th>Title</th>\n",
       "      <th>Artist</th>\n",
       "      <th>Top Genre</th>\n",
       "      <th>Year</th>\n",
       "      <th>Beats Per Minute (BPM)</th>\n",
       "      <th>Energy</th>\n",
       "      <th>Danceability</th>\n",
       "      <th>Loudness (dB)</th>\n",
       "      <th>Liveness</th>\n",
       "      <th>Valence</th>\n",
       "      <th>Length (Duration)</th>\n",
       "      <th>Acousticness</th>\n",
       "      <th>Speechiness</th>\n",
       "      <th>Popularity</th>\n",
       "    </tr>\n",
       "  </thead>\n",
       "  <tbody>\n",
       "    <tr>\n",
       "      <th>0</th>\n",
       "      <td>1</td>\n",
       "      <td>Sunrise</td>\n",
       "      <td>Norah Jones</td>\n",
       "      <td>adult standards</td>\n",
       "      <td>2004</td>\n",
       "      <td>157</td>\n",
       "      <td>30</td>\n",
       "      <td>53</td>\n",
       "      <td>-14</td>\n",
       "      <td>11</td>\n",
       "      <td>68</td>\n",
       "      <td>201</td>\n",
       "      <td>94</td>\n",
       "      <td>3</td>\n",
       "      <td>71</td>\n",
       "    </tr>\n",
       "    <tr>\n",
       "      <th>1</th>\n",
       "      <td>2</td>\n",
       "      <td>Black Night</td>\n",
       "      <td>Deep Purple</td>\n",
       "      <td>album rock</td>\n",
       "      <td>2000</td>\n",
       "      <td>135</td>\n",
       "      <td>79</td>\n",
       "      <td>50</td>\n",
       "      <td>-11</td>\n",
       "      <td>17</td>\n",
       "      <td>81</td>\n",
       "      <td>207</td>\n",
       "      <td>17</td>\n",
       "      <td>7</td>\n",
       "      <td>39</td>\n",
       "    </tr>\n",
       "    <tr>\n",
       "      <th>2</th>\n",
       "      <td>3</td>\n",
       "      <td>Clint Eastwood</td>\n",
       "      <td>Gorillaz</td>\n",
       "      <td>alternative hip hop</td>\n",
       "      <td>2001</td>\n",
       "      <td>168</td>\n",
       "      <td>69</td>\n",
       "      <td>66</td>\n",
       "      <td>-9</td>\n",
       "      <td>7</td>\n",
       "      <td>52</td>\n",
       "      <td>341</td>\n",
       "      <td>2</td>\n",
       "      <td>17</td>\n",
       "      <td>69</td>\n",
       "    </tr>\n",
       "    <tr>\n",
       "      <th>3</th>\n",
       "      <td>4</td>\n",
       "      <td>The Pretender</td>\n",
       "      <td>Foo Fighters</td>\n",
       "      <td>alternative metal</td>\n",
       "      <td>2007</td>\n",
       "      <td>173</td>\n",
       "      <td>96</td>\n",
       "      <td>43</td>\n",
       "      <td>-4</td>\n",
       "      <td>3</td>\n",
       "      <td>37</td>\n",
       "      <td>269</td>\n",
       "      <td>0</td>\n",
       "      <td>4</td>\n",
       "      <td>76</td>\n",
       "    </tr>\n",
       "    <tr>\n",
       "      <th>4</th>\n",
       "      <td>5</td>\n",
       "      <td>Waitin' On A Sunny Day</td>\n",
       "      <td>Bruce Springsteen</td>\n",
       "      <td>classic rock</td>\n",
       "      <td>2002</td>\n",
       "      <td>106</td>\n",
       "      <td>82</td>\n",
       "      <td>58</td>\n",
       "      <td>-5</td>\n",
       "      <td>10</td>\n",
       "      <td>87</td>\n",
       "      <td>256</td>\n",
       "      <td>1</td>\n",
       "      <td>3</td>\n",
       "      <td>59</td>\n",
       "    </tr>\n",
       "    <tr>\n",
       "      <th>5</th>\n",
       "      <td>6</td>\n",
       "      <td>The Road Ahead (Miles Of The Unknown)</td>\n",
       "      <td>City To City</td>\n",
       "      <td>alternative pop rock</td>\n",
       "      <td>2004</td>\n",
       "      <td>99</td>\n",
       "      <td>46</td>\n",
       "      <td>54</td>\n",
       "      <td>-9</td>\n",
       "      <td>14</td>\n",
       "      <td>14</td>\n",
       "      <td>247</td>\n",
       "      <td>0</td>\n",
       "      <td>2</td>\n",
       "      <td>45</td>\n",
       "    </tr>\n",
       "  </tbody>\n",
       "</table>\n",
       "</div>"
      ],
      "text/plain": [
       "   Index                                  Title             Artist  \\\n",
       "0      1                                Sunrise        Norah Jones   \n",
       "1      2                            Black Night        Deep Purple   \n",
       "2      3                         Clint Eastwood           Gorillaz   \n",
       "3      4                          The Pretender       Foo Fighters   \n",
       "4      5                 Waitin' On A Sunny Day  Bruce Springsteen   \n",
       "5      6  The Road Ahead (Miles Of The Unknown)       City To City   \n",
       "\n",
       "              Top Genre  Year  Beats Per Minute (BPM)  Energy  Danceability  \\\n",
       "0       adult standards  2004                     157      30            53   \n",
       "1            album rock  2000                     135      79            50   \n",
       "2   alternative hip hop  2001                     168      69            66   \n",
       "3     alternative metal  2007                     173      96            43   \n",
       "4          classic rock  2002                     106      82            58   \n",
       "5  alternative pop rock  2004                      99      46            54   \n",
       "\n",
       "   Loudness (dB)  Liveness  Valence Length (Duration)  Acousticness  \\\n",
       "0            -14        11       68               201            94   \n",
       "1            -11        17       81               207            17   \n",
       "2             -9         7       52               341             2   \n",
       "3             -4         3       37               269             0   \n",
       "4             -5        10       87               256             1   \n",
       "5             -9        14       14               247             0   \n",
       "\n",
       "   Speechiness  Popularity  \n",
       "0            3          71  \n",
       "1            7          39  \n",
       "2           17          69  \n",
       "3            4          76  \n",
       "4            3          59  \n",
       "5            2          45  "
      ]
     },
     "execution_count": 72,
     "metadata": {},
     "output_type": "execute_result"
    }
   ],
   "source": [
    "df.head(6)"
   ]
  },
  {
   "cell_type": "code",
   "execution_count": 73,
   "metadata": {},
   "outputs": [],
   "source": [
    "# * Sorts the dataframe by the 'Popularity' column and shows the title, artist and year of the 10 most popular songs"
   ]
  },
  {
   "cell_type": "code",
   "execution_count": 74,
   "metadata": {},
   "outputs": [
    {
     "data": {
      "text/html": [
       "<div>\n",
       "<style scoped>\n",
       "    .dataframe tbody tr th:only-of-type {\n",
       "        vertical-align: middle;\n",
       "    }\n",
       "\n",
       "    .dataframe tbody tr th {\n",
       "        vertical-align: top;\n",
       "    }\n",
       "\n",
       "    .dataframe thead th {\n",
       "        text-align: right;\n",
       "    }\n",
       "</style>\n",
       "<table border=\"1\" class=\"dataframe\">\n",
       "  <thead>\n",
       "    <tr style=\"text-align: right;\">\n",
       "      <th></th>\n",
       "      <th>Title</th>\n",
       "      <th>Artist</th>\n",
       "      <th>Year</th>\n",
       "      <th>Popularity</th>\n",
       "    </tr>\n",
       "  </thead>\n",
       "  <tbody>\n",
       "    <tr>\n",
       "      <th>793</th>\n",
       "      <td>Dance Monkey</td>\n",
       "      <td>Tones and I</td>\n",
       "      <td>2019</td>\n",
       "      <td>100</td>\n",
       "    </tr>\n",
       "    <tr>\n",
       "      <th>787</th>\n",
       "      <td>Memories</td>\n",
       "      <td>Maroon 5</td>\n",
       "      <td>2019</td>\n",
       "      <td>98</td>\n",
       "    </tr>\n",
       "    <tr>\n",
       "      <th>786</th>\n",
       "      <td>bad guy</td>\n",
       "      <td>Billie Eilish</td>\n",
       "      <td>2019</td>\n",
       "      <td>95</td>\n",
       "    </tr>\n",
       "    <tr>\n",
       "      <th>1641</th>\n",
       "      <td>All I Want for Christmas Is You</td>\n",
       "      <td>Mariah Carey</td>\n",
       "      <td>1994</td>\n",
       "      <td>95</td>\n",
       "    </tr>\n",
       "    <tr>\n",
       "      <th>688</th>\n",
       "      <td>Believer</td>\n",
       "      <td>Imagine Dragons</td>\n",
       "      <td>2017</td>\n",
       "      <td>88</td>\n",
       "    </tr>\n",
       "    <tr>\n",
       "      <th>...</th>\n",
       "      <td>...</td>\n",
       "      <td>...</td>\n",
       "      <td>...</td>\n",
       "      <td>...</td>\n",
       "    </tr>\n",
       "    <tr>\n",
       "      <th>605</th>\n",
       "      <td>Het Dorp - Live</td>\n",
       "      <td>Wim Sonneveld</td>\n",
       "      <td>2015</td>\n",
       "      <td>15</td>\n",
       "    </tr>\n",
       "    <tr>\n",
       "      <th>411</th>\n",
       "      <td>Peter Gunn Theme</td>\n",
       "      <td>Emerson, Lake &amp; Palmer</td>\n",
       "      <td>2010</td>\n",
       "      <td>14</td>\n",
       "    </tr>\n",
       "    <tr>\n",
       "      <th>624</th>\n",
       "      <td>Three Days In A Row</td>\n",
       "      <td>Anouk</td>\n",
       "      <td>2015</td>\n",
       "      <td>13</td>\n",
       "    </tr>\n",
       "    <tr>\n",
       "      <th>773</th>\n",
       "      <td>Hou Vol Hou Vast</td>\n",
       "      <td>BLØF</td>\n",
       "      <td>2018</td>\n",
       "      <td>12</td>\n",
       "    </tr>\n",
       "    <tr>\n",
       "      <th>1793</th>\n",
       "      <td>Sacrifice</td>\n",
       "      <td>Anouk</td>\n",
       "      <td>1998</td>\n",
       "      <td>11</td>\n",
       "    </tr>\n",
       "  </tbody>\n",
       "</table>\n",
       "<p>1994 rows × 4 columns</p>\n",
       "</div>"
      ],
      "text/plain": [
       "                                Title                  Artist  Year  \\\n",
       "793                      Dance Monkey             Tones and I  2019   \n",
       "787                          Memories                Maroon 5  2019   \n",
       "786                           bad guy           Billie Eilish  2019   \n",
       "1641  All I Want for Christmas Is You            Mariah Carey  1994   \n",
       "688                          Believer         Imagine Dragons  2017   \n",
       "...                               ...                     ...   ...   \n",
       "605                   Het Dorp - Live           Wim Sonneveld  2015   \n",
       "411                  Peter Gunn Theme  Emerson, Lake & Palmer  2010   \n",
       "624               Three Days In A Row                   Anouk  2015   \n",
       "773                  Hou Vol Hou Vast                    BLØF  2018   \n",
       "1793                        Sacrifice                   Anouk  1998   \n",
       "\n",
       "      Popularity  \n",
       "793          100  \n",
       "787           98  \n",
       "786           95  \n",
       "1641          95  \n",
       "688           88  \n",
       "...          ...  \n",
       "605           15  \n",
       "411           14  \n",
       "624           13  \n",
       "773           12  \n",
       "1793          11  \n",
       "\n",
       "[1994 rows x 4 columns]"
      ]
     },
     "execution_count": 74,
     "metadata": {},
     "output_type": "execute_result"
    }
   ],
   "source": [
    "df[['Title', 'Artist', 'Year', 'Popularity']].sort_values(['Popularity'], ascending=False)"
   ]
  },
  {
   "cell_type": "code",
   "execution_count": 75,
   "metadata": {},
   "outputs": [
    {
     "data": {
      "text/html": [
       "<div>\n",
       "<style scoped>\n",
       "    .dataframe tbody tr th:only-of-type {\n",
       "        vertical-align: middle;\n",
       "    }\n",
       "\n",
       "    .dataframe tbody tr th {\n",
       "        vertical-align: top;\n",
       "    }\n",
       "\n",
       "    .dataframe thead th {\n",
       "        text-align: right;\n",
       "    }\n",
       "</style>\n",
       "<table border=\"1\" class=\"dataframe\">\n",
       "  <thead>\n",
       "    <tr style=\"text-align: right;\">\n",
       "      <th></th>\n",
       "      <th>Title</th>\n",
       "      <th>Artist</th>\n",
       "      <th>Year</th>\n",
       "      <th>Popularity</th>\n",
       "    </tr>\n",
       "  </thead>\n",
       "  <tbody>\n",
       "    <tr>\n",
       "      <th>793</th>\n",
       "      <td>Dance Monkey</td>\n",
       "      <td>Tones and I</td>\n",
       "      <td>2019</td>\n",
       "      <td>100</td>\n",
       "    </tr>\n",
       "    <tr>\n",
       "      <th>787</th>\n",
       "      <td>Memories</td>\n",
       "      <td>Maroon 5</td>\n",
       "      <td>2019</td>\n",
       "      <td>98</td>\n",
       "    </tr>\n",
       "    <tr>\n",
       "      <th>786</th>\n",
       "      <td>bad guy</td>\n",
       "      <td>Billie Eilish</td>\n",
       "      <td>2019</td>\n",
       "      <td>95</td>\n",
       "    </tr>\n",
       "    <tr>\n",
       "      <th>1641</th>\n",
       "      <td>All I Want for Christmas Is You</td>\n",
       "      <td>Mariah Carey</td>\n",
       "      <td>1994</td>\n",
       "      <td>95</td>\n",
       "    </tr>\n",
       "    <tr>\n",
       "      <th>688</th>\n",
       "      <td>Believer</td>\n",
       "      <td>Imagine Dragons</td>\n",
       "      <td>2017</td>\n",
       "      <td>88</td>\n",
       "    </tr>\n",
       "    <tr>\n",
       "      <th>726</th>\n",
       "      <td>Shallow</td>\n",
       "      <td>Lady Gaga</td>\n",
       "      <td>2018</td>\n",
       "      <td>88</td>\n",
       "    </tr>\n",
       "    <tr>\n",
       "      <th>683</th>\n",
       "      <td>Perfect</td>\n",
       "      <td>Ed Sheeran</td>\n",
       "      <td>2017</td>\n",
       "      <td>87</td>\n",
       "    </tr>\n",
       "    <tr>\n",
       "      <th>687</th>\n",
       "      <td>Shape of You</td>\n",
       "      <td>Ed Sheeran</td>\n",
       "      <td>2017</td>\n",
       "      <td>87</td>\n",
       "    </tr>\n",
       "    <tr>\n",
       "      <th>745</th>\n",
       "      <td>High Hopes</td>\n",
       "      <td>Panic! At The Disco</td>\n",
       "      <td>2018</td>\n",
       "      <td>87</td>\n",
       "    </tr>\n",
       "    <tr>\n",
       "      <th>529</th>\n",
       "      <td>All of Me</td>\n",
       "      <td>John Legend</td>\n",
       "      <td>2013</td>\n",
       "      <td>86</td>\n",
       "    </tr>\n",
       "  </tbody>\n",
       "</table>\n",
       "</div>"
      ],
      "text/plain": [
       "                                Title               Artist  Year  Popularity\n",
       "793                      Dance Monkey          Tones and I  2019         100\n",
       "787                          Memories             Maroon 5  2019          98\n",
       "786                           bad guy        Billie Eilish  2019          95\n",
       "1641  All I Want for Christmas Is You         Mariah Carey  1994          95\n",
       "688                          Believer      Imagine Dragons  2017          88\n",
       "726                           Shallow            Lady Gaga  2018          88\n",
       "683                           Perfect           Ed Sheeran  2017          87\n",
       "687                      Shape of You           Ed Sheeran  2017          87\n",
       "745                        High Hopes  Panic! At The Disco  2018          87\n",
       "529                         All of Me          John Legend  2013          86"
      ]
     },
     "execution_count": 75,
     "metadata": {},
     "output_type": "execute_result"
    }
   ],
   "source": [
    "df[['Title', 'Artist', 'Year', 'Popularity']].sort_values(['Popularity'], ascending=False).head(10)"
   ]
  },
  {
   "cell_type": "code",
   "execution_count": 76,
   "metadata": {},
   "outputs": [],
   "source": [
    "# * Shows the correlation matrix between the BPM, Energy and Danceability columns"
   ]
  },
  {
   "cell_type": "code",
   "execution_count": 77,
   "metadata": {},
   "outputs": [
    {
     "data": {
      "text/plain": [
       "Index(['Index', 'Title', 'Artist', 'Top Genre', 'Year',\n",
       "       'Beats Per Minute (BPM)', 'Energy', 'Danceability', 'Loudness (dB)',\n",
       "       'Liveness', 'Valence', 'Length (Duration)', 'Acousticness',\n",
       "       'Speechiness', 'Popularity'],\n",
       "      dtype='object')"
      ]
     },
     "execution_count": 77,
     "metadata": {},
     "output_type": "execute_result"
    }
   ],
   "source": [
    "df.columns"
   ]
  },
  {
   "cell_type": "code",
   "execution_count": 78,
   "metadata": {},
   "outputs": [
    {
     "data": {
      "text/html": [
       "<div>\n",
       "<style scoped>\n",
       "    .dataframe tbody tr th:only-of-type {\n",
       "        vertical-align: middle;\n",
       "    }\n",
       "\n",
       "    .dataframe tbody tr th {\n",
       "        vertical-align: top;\n",
       "    }\n",
       "\n",
       "    .dataframe thead th {\n",
       "        text-align: right;\n",
       "    }\n",
       "</style>\n",
       "<table border=\"1\" class=\"dataframe\">\n",
       "  <thead>\n",
       "    <tr style=\"text-align: right;\">\n",
       "      <th></th>\n",
       "      <th>Beats Per Minute (BPM)</th>\n",
       "      <th>Energy</th>\n",
       "      <th>Danceability</th>\n",
       "    </tr>\n",
       "  </thead>\n",
       "  <tbody>\n",
       "    <tr>\n",
       "      <th>Beats Per Minute (BPM)</th>\n",
       "      <td>1.000000</td>\n",
       "      <td>0.156644</td>\n",
       "      <td>-0.140602</td>\n",
       "    </tr>\n",
       "    <tr>\n",
       "      <th>Energy</th>\n",
       "      <td>0.156644</td>\n",
       "      <td>1.000000</td>\n",
       "      <td>0.139616</td>\n",
       "    </tr>\n",
       "    <tr>\n",
       "      <th>Danceability</th>\n",
       "      <td>-0.140602</td>\n",
       "      <td>0.139616</td>\n",
       "      <td>1.000000</td>\n",
       "    </tr>\n",
       "  </tbody>\n",
       "</table>\n",
       "</div>"
      ],
      "text/plain": [
       "                        Beats Per Minute (BPM)    Energy  Danceability\n",
       "Beats Per Minute (BPM)                1.000000  0.156644     -0.140602\n",
       "Energy                                0.156644  1.000000      0.139616\n",
       "Danceability                         -0.140602  0.139616      1.000000"
      ]
     },
     "execution_count": 78,
     "metadata": {},
     "output_type": "execute_result"
    }
   ],
   "source": [
    "df[['Beats Per Minute (BPM)', 'Energy', 'Danceability']].corr()"
   ]
  },
  {
   "cell_type": "code",
   "execution_count": 79,
   "metadata": {},
   "outputs": [],
   "source": [
    "# * How many songs are there for each year? Sorts the dataframe by the year column and displays the song count"
   ]
  },
  {
   "cell_type": "code",
   "execution_count": 80,
   "metadata": {},
   "outputs": [
    {
     "data": {
      "text/plain": [
       "Year\n",
       "1956     1\n",
       "1958     5\n",
       "1959     3\n",
       "1960     1\n",
       "1961     1\n",
       "        ..\n",
       "2015    42\n",
       "2016    35\n",
       "2017    45\n",
       "2018    52\n",
       "2019    21\n",
       "Name: Index, Length: 63, dtype: int64"
      ]
     },
     "execution_count": 80,
     "metadata": {},
     "output_type": "execute_result"
    }
   ],
   "source": [
    "df.groupby(['Year']).count()['Index']"
   ]
  },
  {
   "cell_type": "code",
   "execution_count": 81,
   "metadata": {},
   "outputs": [],
   "source": [
    "# * Convert the Popularity column to a Numpy array and get the number of the row containing the least popular song, then display the entire row with the least popular song in the dataframe."
   ]
  },
  {
   "cell_type": "code",
   "execution_count": 82,
   "metadata": {},
   "outputs": [],
   "source": [
    "import numpy as np\n",
    "\n",
    "popularity = np.array(df['Popularity'])"
   ]
  },
  {
   "cell_type": "code",
   "execution_count": 83,
   "metadata": {},
   "outputs": [],
   "source": [
    "less_popular = popularity.argmin()"
   ]
  },
  {
   "cell_type": "code",
   "execution_count": 84,
   "metadata": {},
   "outputs": [
    {
     "data": {
      "text/html": [
       "<div>\n",
       "<style scoped>\n",
       "    .dataframe tbody tr th:only-of-type {\n",
       "        vertical-align: middle;\n",
       "    }\n",
       "\n",
       "    .dataframe tbody tr th {\n",
       "        vertical-align: top;\n",
       "    }\n",
       "\n",
       "    .dataframe thead th {\n",
       "        text-align: right;\n",
       "    }\n",
       "</style>\n",
       "<table border=\"1\" class=\"dataframe\">\n",
       "  <thead>\n",
       "    <tr style=\"text-align: right;\">\n",
       "      <th></th>\n",
       "      <th>Index</th>\n",
       "      <th>Title</th>\n",
       "      <th>Artist</th>\n",
       "      <th>Top Genre</th>\n",
       "      <th>Year</th>\n",
       "      <th>Beats Per Minute (BPM)</th>\n",
       "      <th>Energy</th>\n",
       "      <th>Danceability</th>\n",
       "      <th>Loudness (dB)</th>\n",
       "      <th>Liveness</th>\n",
       "      <th>Valence</th>\n",
       "      <th>Length (Duration)</th>\n",
       "      <th>Acousticness</th>\n",
       "      <th>Speechiness</th>\n",
       "      <th>Popularity</th>\n",
       "    </tr>\n",
       "  </thead>\n",
       "  <tbody>\n",
       "    <tr>\n",
       "      <th>1793</th>\n",
       "      <td>1794</td>\n",
       "      <td>Sacrifice</td>\n",
       "      <td>Anouk</td>\n",
       "      <td>dutch indie</td>\n",
       "      <td>1998</td>\n",
       "      <td>136</td>\n",
       "      <td>17</td>\n",
       "      <td>54</td>\n",
       "      <td>-13</td>\n",
       "      <td>9</td>\n",
       "      <td>24</td>\n",
       "      <td>238</td>\n",
       "      <td>74</td>\n",
       "      <td>5</td>\n",
       "      <td>11</td>\n",
       "    </tr>\n",
       "  </tbody>\n",
       "</table>\n",
       "</div>"
      ],
      "text/plain": [
       "      Index      Title Artist    Top Genre  Year  Beats Per Minute (BPM)  \\\n",
       "1793   1794  Sacrifice  Anouk  dutch indie  1998                     136   \n",
       "\n",
       "      Energy  Danceability  Loudness (dB)  Liveness  Valence  \\\n",
       "1793      17            54            -13         9       24   \n",
       "\n",
       "     Length (Duration)  Acousticness  Speechiness  Popularity  \n",
       "1793               238            74            5          11  "
      ]
     },
     "execution_count": 84,
     "metadata": {},
     "output_type": "execute_result"
    }
   ],
   "source": [
    "df[less_popular:less_popular+1]"
   ]
  }
 ],
 "metadata": {
  "kernelspec": {
   "display_name": "Python 3",
   "language": "python",
   "name": "python3"
  },
  "language_info": {
   "codemirror_mode": {
    "name": "ipython",
    "version": 3
   },
   "file_extension": ".py",
   "mimetype": "text/x-python",
   "name": "python",
   "nbconvert_exporter": "python",
   "pygments_lexer": "ipython3",
   "version": "3.7.6"
  }
 },
 "nbformat": 4,
 "nbformat_minor": 4
}
