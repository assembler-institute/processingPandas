{
 "cells": [
  {
   "cell_type": "markdown",
   "metadata": {},
   "source": [
    "### Exercise 1\n",
    "\n",
    "Take as reference the following list:"
   ]
  },
  {
   "cell_type": "code",
   "execution_count": null,
   "metadata": {},
   "outputs": [],
   "source": [
    "calificaciones = [\n",
    "    ('Alberto', 4),\n",
    "    ('Noelia', 7.25),\n",
    "    ('Marcos', 9),\n",
    "    ('Guillermo', 5.25)\n",
    "]"
   ]
  },
  {
   "cell_type": "markdown",
   "metadata": {},
   "source": [
    "Create a dataframe\n",
    "\n",
    "#### Solution"
   ]
  },
  {
   "cell_type": "code",
   "execution_count": null,
   "metadata": {},
   "outputs": [],
   "source": []
  },
  {
   "cell_type": "markdown",
   "metadata": {},
   "source": [
    "### Exercise 2\n",
    "\n",
    "Read as Dataframe the file 'compras_uno.csv'\n",
    "\n",
    "#### Solution"
   ]
  },
  {
   "cell_type": "code",
   "execution_count": null,
   "metadata": {},
   "outputs": [],
   "source": []
  },
  {
   "cell_type": "markdown",
   "metadata": {},
   "source": [
    "### Exercise 3\n",
    "\n",
    "Read as Dataframe the file 'compras_dos.csv'\n",
    "\n",
    "#### Solution"
   ]
  },
  {
   "cell_type": "code",
   "execution_count": null,
   "metadata": {},
   "outputs": [],
   "source": []
  },
  {
   "cell_type": "markdown",
   "metadata": {},
   "source": [
    "### Exercise 4\n",
    "\n",
    "Read as Dataframe the file 'compras_tres.csv'\n",
    "\n",
    "#### Solution"
   ]
  },
  {
   "cell_type": "code",
   "execution_count": null,
   "metadata": {},
   "outputs": [],
   "source": []
  },
  {
   "cell_type": "markdown",
   "metadata": {},
   "source": [
    "### Exercise 5\n",
    "\n",
    "Read as Dataframe the file 'housing_California.csv' using the parameter header with value None\n",
    "\n",
    "#### Solution"
   ]
  },
  {
   "cell_type": "code",
   "execution_count": null,
   "metadata": {},
   "outputs": [],
   "source": []
  },
  {
   "cell_type": "markdown",
   "metadata": {},
   "source": [
    "### Exercise 6\n",
    "\n",
    "Read as Dataframe the file 'housing_California.csv' using the parameter header with value [0,1,2]\n",
    "\n",
    "#### Solution"
   ]
  },
  {
   "cell_type": "code",
   "execution_count": null,
   "metadata": {},
   "outputs": [],
   "source": []
  },
  {
   "cell_type": "markdown",
   "metadata": {},
   "source": [
    "### Exercise 7\n",
    "\n",
    "Read as Dataframe the file 'housing_California.csv' loading only the columns housing_median_age and population\n",
    "\n",
    "#### Solution"
   ]
  },
  {
   "cell_type": "code",
   "execution_count": null,
   "metadata": {},
   "outputs": [],
   "source": []
  },
  {
   "cell_type": "markdown",
   "metadata": {},
   "source": [
    "### Exercise 8\n",
    "\n",
    "Create a new dataframe containing the following information.\n",
    "\n",
    "* Data from a student's Mathematics subject will be entered.\n",
    "* For the subject, the user will be asked for the grade obtained\n",
    "* The user will be asked from what year to what year the information is going to be consulted\n",
    "* The years of said qualifications will be taken as an index\n",
    "\n",
    "#### Solution"
   ]
  },
  {
   "cell_type": "code",
   "execution_count": null,
   "metadata": {},
   "outputs": [],
   "source": []
  },
  {
   "cell_type": "markdown",
   "metadata": {},
   "source": [
    "# Exercise 9\n",
    "\n",
    "* Create a pandas series object through an array of 30 random elements following a Beta distribution with parameters 0.1 and 0.8.\n",
    "* On this series object creates a dataframe.\n",
    "* Shows your first and last 4 items.\n",
    "* Rename the dataframe column to 'BETA_DIST'.\n",
    "* Create a new column, named 'SQUARE_BETA', that is each element of the distribution Beta squared.\n",
    "* Get the histograms of the dataframe\n",
    "\n",
    "### SOLUTION"
   ]
  },
  {
   "cell_type": "code",
   "execution_count": null,
   "metadata": {},
   "outputs": [],
   "source": []
  },
  {
   "cell_type": "markdown",
   "metadata": {},
   "source": [
    "# Exercise 10\n",
    "\n",
    "Based on the following test results:"
   ]
  },
  {
   "cell_type": "code",
   "execution_count": null,
   "metadata": {},
   "outputs": [],
   "source": [
    "import numpy as np\n",
    "import pandas as pd\n",
    "\n",
    "edad = np.random.randint(15, 18, 10)\n",
    "puntuacion = [3.25, 8.5, 7.75, np.nan, 9.80, 4, 6.5, np.nan, 8.70, 5.5]"
   ]
  },
  {
   "cell_type": "markdown",
   "metadata": {},
   "source": [
    "* Create a dataframe where the age array has the column name 'Age' and the score list has the name 'Score'\n",
    "* Replace null values with 0.\n",
    "* Create a new column called Situation, where it has as values 'PROMOTE' or 'REPEAT' depending on whether the values of the 'Score' column are greater than 5 or not.\n",
    "* Groups the new dataframe by the mean of the age.\n",
    "* Obtain the percentage of approved and repeaters.\n",
    "* Make a graphic analysis matrix.\n",
    "* Obtain a correlation matrix on the numerical data.\n",
    "\n",
    "\n",
    "### SOLUTION\n",
    "\n",
    "We create an odo dataframe similar to a data dictionary by assigning the names 'Age' and 'Score'"
   ]
  },
  {
   "cell_type": "code",
   "execution_count": null,
   "metadata": {},
   "outputs": [],
   "source": []
  },
  {
   "cell_type": "markdown",
   "metadata": {},
   "source": [
    "# Exercise 11\n",
    "\n",
    "We will use the following multi-table dataset containing information about bank cards. The dataset can be downloaded at: https://www.kaggle.com/ananta/credit-card-data the dataset information is as follows:\n",
    "* CardBase.csv: Contains information about the card limit and its type.\n",
    "* CustomerBase.csv: General customer information.\n",
    "* FraudBase.csv: Transaction and whether or not it is fraudulent.\n",
    "* TransactionBase.csv: Transaction information.\n",
    "\n",
    "With the following information perform:\n",
    "\n",
    "* 1. Read all files as pandas dataframe\n",
    "* 2. Join the CardBase and CustomerBase csv by the field they have in common.\n",
    "* 3. Join the FraudBase and TransactionBase csv by the field they have in common (giving priority to the dataframe with the highest number of rows).\n",
    "* 4. Join the two resulting dataframes into one through the credit card number.\n",
    "* 5. Remove Credit_Card_ID column\n",
    "* 6. Shows the number of nulls in each column.\n",
    "* 7. Change all null values in the Fraud_Flag column to 0.\n",
    "* 8. Group the dataframe by the type of credit card.\n",
    "* 9. Shows the number of unique values in the Customer_Vintage_Group column and their frequency.\n",
    "* 10. Perform a data visualization showing a box-and-whisker plot of the credit limit.\n",
    "* 11. Make a histogram of the age of the customers.\n",
    "\n",
    "## Solution"
   ]
  },
  {
   "cell_type": "code",
   "execution_count": null,
   "metadata": {},
   "outputs": [],
   "source": []
  },
  {
   "cell_type": "markdown",
   "metadata": {},
   "source": [
    "# Exercise 12\n",
    "\n",
    "Take the following csv 'Spotify-2000.csv' and perform the following operations:\n",
    "\n",
    "* Read the file as a dataframe via pandas.\n",
    "* Sorts the dataframe by the 'Popularity' column and shows the title, artist and year of the 10 most popular songs\n",
    "* Shows the correlation matrix between the BPM, Energy and Danceability columns\n",
    "* How many songs are there for each year? Sorts the dataframe by the year column and displays the song count\n",
    "* Convert the Popularity column to a Numpy array and get the number of the row containing the least popular song, then display the entire row with the least popular song in the dataframe.\n",
    "\n",
    "## Solution"
   ]
  },
  {
   "cell_type": "code",
   "execution_count": null,
   "metadata": {},
   "outputs": [],
   "source": []
  }
 ],
 "metadata": {
  "kernelspec": {
   "display_name": "Python 3",
   "language": "python",
   "name": "python3"
  },
  "language_info": {
   "codemirror_mode": {
    "name": "ipython",
    "version": 3
   },
   "file_extension": ".py",
   "mimetype": "text/x-python",
   "name": "python",
   "nbconvert_exporter": "python",
   "pygments_lexer": "ipython3",
   "version": "3.7.6"
  }
 },
 "nbformat": 4,
 "nbformat_minor": 4
}
