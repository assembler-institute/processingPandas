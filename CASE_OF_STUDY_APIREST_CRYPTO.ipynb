{
 "cells": [
  {
   "attachments": {},
   "cell_type": "markdown",
   "metadata": {},
   "source": [
    "# Use of REST API in Python to search for arbitrage opportunities from cryptocurrencies to fiat money.\n",
    "\n",
    "For many years now, algorithms and scripting techniques have been used in stock market operations, such as buying and selling of shares, or, as in this session, searching for arbitrage opportunities.\n",
    "\n",
    "Arbitrage is a financial strategy that consists of taking advantage of the price difference between different markets on the same financial asset to obtain an economic benefit.\n",
    "\n",
    "In this case, we are facing an unregulated market such as cryptocurrencies and the asset on which we are going to operate is Bitcoin .\n",
    "\n",
    "The main objective is to be able to obtain information from the REST APIs (Forex and Blockchain.info) in Python to obtain arbitrage opportunities.\n",
    "\n",
    "The information that we are going to treat therefore will be: Bitcoin sale-purchase prices and the currency exchange rate ( fiat money ), we will mainly work with Euros, US Dollars and Japanese Yen.\n",
    "\n",
    "A use case would be the following:\n",
    "\n",
    "Based on the fact that we have a BTC, we instantly sell it for 1000 USD, the USD-EUR exchange rate is 0.99, so we could buy 990 EUR. If the purchase price of 1 BTC is 980 EUR, the BTC could be purchased and we would still have a profit of 10 euros.\n",
    "\n",
    "## What are REST APIs\n",
    "\n",
    "The APIs ( Application Programming Interface ) REST ( Representational State Transfer ), is a type of web development architecture that uses the HTTP standard.\n",
    "\n",
    "REST allows us to create services and applications that can be accessed from any multimedia device that understands HTTP.\n",
    "\n",
    "REST APIs are currently used in any business, such as YouTube, Twitter, GoogleMaps , Facebook, etc …\n",
    "\n",
    "The most common output formats in REST APIs are XML and JSON (the REST APIs that we will work on in this session return data in this format.)"
   ]
  },
  {
   "cell_type": "markdown",
   "metadata": {},
   "source": [
    "## Connection with the REST API to obtain the exchange rates to fiat currencies\n",
    "\n",
    "To obtain the fluctuations of fiat currencies such as the following currencies:\n",
    "*USD\n",
    "* EUR\n",
    "*JPY\n",
    "\n",
    "We will use the free __Forex__ API, available at the following url:\n",
    "* https://pypi.python.org/pypi/forex-python\n",
    "\n",
    "The documentation for this API is available at:\n",
    "* http://forex-python.readthedocs.io/en/latest/usage.html\n",
    "\n",
    "## Installing the Forex API\n",
    "It is not pre-installed in Python, we must do it externally:\n",
    "* From anaconda distribution: not available.\n",
    "* Via pip: __pip install forex-python__\n",
    "* From GitHub, we download the repository: https://github.com/MicroPyramid/forex-python once located in the uncompressed directory we enter the following: __python setup.py install__\n",
    "\n",
    "The main functionalities of the __forex_python__ API are obtained from the following scripts:\n",
    "* __converter.py__\n",
    "* __bitcoin.py__\n",
    "\n",
    "Once we have the library installed, we proceed to import it just like any Python package.\n",
    "\n",
    "\n",
    "\n",
    "__from forex\\_python.(converter; bitcoin) import (function name)__\n",
    "\n",
    "### Part 1 - Currencies.\n",
    "\n",
    "As a first example we are going to show the value of a Euro in the rest of the modes, available in the Forex API"
   ]
  },
  {
   "cell_type": "code",
   "execution_count": 1,
   "metadata": {},
   "outputs": [],
   "source": [
    "# !pip install forex-python"
   ]
  },
  {
   "cell_type": "code",
   "execution_count": 2,
   "metadata": {},
   "outputs": [],
   "source": [
    "# Import the library\n",
    "from forex_python.converter import CurrencyRates"
   ]
  },
  {
   "cell_type": "code",
   "execution_count": 3,
   "metadata": {},
   "outputs": [
    {
     "data": {
      "text/plain": [
       "{'USD': 0.9717,\n",
       " 'JPY': 143.63,\n",
       " 'BGN': 1.9558,\n",
       " 'CZK': 24.587,\n",
       " 'DKK': 7.4378,\n",
       " 'GBP': 0.86823,\n",
       " 'HUF': 418.24,\n",
       " 'PLN': 4.8328,\n",
       " 'RON': 4.9335,\n",
       " 'SEK': 11.0035,\n",
       " 'CHF': 0.9757,\n",
       " 'ISK': 140.5,\n",
       " 'NOK': 10.3323,\n",
       " 'HRK': 7.5266,\n",
       " 'TRY': 18.0614,\n",
       " 'AUD': 1.5493,\n",
       " 'BRL': 5.1177,\n",
       " 'CAD': 1.3426,\n",
       " 'CNY': 6.9952,\n",
       " 'HKD': 7.6278,\n",
       " 'IDR': 15031.5,\n",
       " 'INR': 79.9695,\n",
       " 'KRW': 1398.5,\n",
       " 'MXN': 19.5032,\n",
       " 'MYR': 4.5689,\n",
       " 'NZD': 1.7302,\n",
       " 'PHP': 57.375,\n",
       " 'SGD': 1.3852,\n",
       " 'THB': 37.109,\n",
       " 'ZAR': 17.6932}"
      ]
     },
     "execution_count": 3,
     "metadata": {},
     "output_type": "execute_result"
    }
   ],
   "source": [
    "# get the current exchange rates\n",
    "fiat_currency = CurrencyRates() \n",
    "fiat_currency.get_rates(\"EUR\")"
   ]
  },
  {
   "cell_type": "markdown",
   "metadata": {},
   "source": [
    "We can get the literal values of the currencies in the API."
   ]
  },
  {
   "cell_type": "code",
   "execution_count": 4,
   "metadata": {},
   "outputs": [],
   "source": [
    "# Import the library\n",
    "from forex_python.converter import CurrencyRates\n",
    "from forex_python.converter import CurrencyCodes\n",
    "\n",
    "fiat_codes = CurrencyCodes()\n",
    "fiat_currency = CurrencyRates() \n",
    "\n",
    "names = list(fiat_currency.get_rates(\"EUR\").keys())\n",
    "names.append(\"EUR\")"
   ]
  },
  {
   "cell_type": "code",
   "execution_count": 5,
   "metadata": {},
   "outputs": [
    {
     "name": "stdout",
     "output_type": "stream",
     "text": [
      "Literal value of:  USD  -->  United States dollar\n",
      "Literal value of:  JPY  -->  Japanese yen\n",
      "Literal value of:  BGN  -->  Bulgarian lev\n",
      "Literal value of:  CZK  -->  Czech koruna\n",
      "Literal value of:  DKK  -->  Danish krone\n",
      "Literal value of:  GBP  -->  British pound\n",
      "Literal value of:  HUF  -->  Hungarian forint\n",
      "Literal value of:  PLN  -->  Polish zloty\n",
      "Literal value of:  RON  -->  Romanian leu\n",
      "Literal value of:  SEK  -->  Swedish krona\n",
      "Literal value of:  CHF  -->  Swiss franc\n",
      "Literal value of:  ISK  -->  Icelandic króna\n",
      "Literal value of:  NOK  -->  Norwegian krone\n",
      "Literal value of:  HRK  -->  Croatian kuna\n",
      "Literal value of:  TRY  -->  Turkish new lira\n",
      "Literal value of:  AUD  -->  Australian dollar\n",
      "Literal value of:  BRL  -->  Brazilian real\n",
      "Literal value of:  CAD  -->  Canadian dollar\n",
      "Literal value of:  CNY  -->  Chinese/Yuan renminbi\n",
      "Literal value of:  HKD  -->  Hong Kong dollar\n",
      "Literal value of:  IDR  -->  Indonesian rupiah\n",
      "Literal value of:  INR  -->  Indian rupee\n",
      "Literal value of:  KRW  -->  South Korean won\n",
      "Literal value of:  MXN  -->  Mexican peso\n",
      "Literal value of:  MYR  -->  Malaysian ringgit\n",
      "Literal value of:  NZD  -->  New Zealand dollar\n",
      "Literal value of:  PHP  -->  Philippine peso\n",
      "Literal value of:  SGD  -->  Singapore dollar\n",
      "Literal value of:  THB  -->  Thai baht\n",
      "Literal value of:  ZAR  -->  South African rand\n",
      "Literal value of:  EUR  -->  European Euro\n"
     ]
    }
   ],
   "source": [
    "for name in names:\n",
    "    print(\"Literal value of: \",str(name), \" --> \", \\\n",
    "          fiat_codes.get_currency_name(str(name)))"
   ]
  },
  {
   "cell_type": "markdown",
   "metadata": {},
   "source": [
    "Similarly, currency symbols are also included."
   ]
  },
  {
   "cell_type": "code",
   "execution_count": 6,
   "metadata": {
    "scrolled": true
   },
   "outputs": [
    {
     "name": "stdout",
     "output_type": "stream",
     "text": [
      "The currency symbol:  USD  -->  $\n",
      "The currency symbol:  JPY  -->  ¥\n",
      "The currency symbol:  BGN  -->  BGN\n",
      "The currency symbol:  CZK  -->  Kč\n",
      "The currency symbol:  DKK  -->  Kr\n",
      "The currency symbol:  GBP  -->  £\n",
      "The currency symbol:  HUF  -->  Ft\n",
      "The currency symbol:  PLN  -->  zł\n",
      "The currency symbol:  RON  -->  L\n",
      "The currency symbol:  SEK  -->  kr\n",
      "The currency symbol:  CHF  -->  Fr.\n",
      "The currency symbol:  ISK  -->  kr\n",
      "The currency symbol:  NOK  -->  kr\n",
      "The currency symbol:  HRK  -->  kn\n",
      "The currency symbol:  TRY  -->  TRY\n",
      "The currency symbol:  AUD  -->  $\n",
      "The currency symbol:  BRL  -->  R$\n",
      "The currency symbol:  CAD  -->  $\n",
      "The currency symbol:  CNY  -->  ¥\n",
      "The currency symbol:  HKD  -->  HK$\n",
      "The currency symbol:  IDR  -->  Rp\n",
      "The currency symbol:  INR  -->  ₹\n",
      "The currency symbol:  KRW  -->  W\n",
      "The currency symbol:  MXN  -->  $\n",
      "The currency symbol:  MYR  -->  RM\n",
      "The currency symbol:  NZD  -->  NZ$\n",
      "The currency symbol:  PHP  -->  ₱\n",
      "The currency symbol:  SGD  -->  S$\n",
      "The currency symbol:  THB  -->  ฿\n",
      "The currency symbol:  ZAR  -->  R\n",
      "The currency symbol:  EUR  -->  €\n"
     ]
    }
   ],
   "source": [
    "for symbols in names:\n",
    "    print(\"The currency symbol: \", str(symbols), \" --> \", \\\n",
    "          fiat_codes.get_symbol(str(symbols)))"
   ]
  },
  {
   "cell_type": "markdown",
   "metadata": {},
   "source": [
    "We can obtain the exchange rates in a simplified way to find the parity between currencies. For example __Euro - Dollar (United States)__, we simply have to use a CurrencyRates() model, and pass both currencies as parameters."
   ]
  },
  {
   "cell_type": "code",
   "execution_count": 7,
   "metadata": {},
   "outputs": [
    {
     "data": {
      "text/plain": [
       "1.0291242152927857"
      ]
     },
     "execution_count": 7,
     "metadata": {},
     "output_type": "execute_result"
    }
   ],
   "source": [
    "fiat_currency.get_rate(\"USD\", \"EUR\")"
   ]
  },
  {
   "cell_type": "code",
   "execution_count": 8,
   "metadata": {},
   "outputs": [
    {
     "name": "stdout",
     "output_type": "stream",
     "text": [
      "Exchange rate: United States dollar $ - European Euro € ---> 1.0291242152927857\n",
      "----------------------------------\n",
      "Exchange rate: European Euro € - United States dollar $ ---> 0.9717\n"
     ]
    }
   ],
   "source": [
    "print(\"Exchange rate:\",fiat_codes.get_currency_name(\"USD\"),\n",
    "                fiat_codes.get_symbol(\"USD\"),\n",
    "      \"-\", fiat_codes.get_currency_name(\"EUR\"),\n",
    "      fiat_codes.get_symbol(\"EUR\"), \"--->\", fiat_currency.get_rate(\"USD\", \"EUR\"))\n",
    "\n",
    "print(\"----------------------------------\")\n",
    "\n",
    "print(\"Exchange rate:\",fiat_codes.get_currency_name(\"EUR\"),\n",
    "                fiat_codes.get_symbol(\"EUR\"),\n",
    "      \"-\", fiat_codes.get_currency_name(\"USD\"),\n",
    "      fiat_codes.get_symbol(\"USD\"), \"--->\", fiat_currency.get_rate(\"EUR\", \"USD\"))"
   ]
  },
  {
   "cell_type": "markdown",
   "metadata": {},
   "source": [
    "In the same way we can get more exchange rates like USD - JPY"
   ]
  },
  {
   "cell_type": "code",
   "execution_count": 9,
   "metadata": {},
   "outputs": [
    {
     "data": {
      "text/plain": [
       "147.8131110425028"
      ]
     },
     "execution_count": 9,
     "metadata": {},
     "output_type": "execute_result"
    }
   ],
   "source": [
    "fiat_currency.get_rate(\"USD\", \"JPY\")"
   ]
  },
  {
   "cell_type": "code",
   "execution_count": 10,
   "metadata": {},
   "outputs": [
    {
     "data": {
      "text/plain": [
       "0.006765299728468983"
      ]
     },
     "execution_count": 10,
     "metadata": {},
     "output_type": "execute_result"
    }
   ],
   "source": [
    "fiat_currency.get_rate(\"JPY\", \"USD\")"
   ]
  },
  {
   "cell_type": "markdown",
   "metadata": {},
   "source": [
    "Finally, we can also show how from a certain amount of a currency, make the change to another currency."
   ]
  },
  {
   "cell_type": "code",
   "execution_count": 11,
   "metadata": {},
   "outputs": [
    {
     "data": {
      "text/plain": [
       "2.26"
      ]
     },
     "execution_count": 11,
     "metadata": {},
     "output_type": "execute_result"
    }
   ],
   "source": [
    "round(fiat_currency.convert(\"USD\", \"EUR\", 2.20),2)"
   ]
  },
  {
   "cell_type": "markdown",
   "metadata": {},
   "source": [
    "### Part 2 - Cryptocurrencies\n",
    "\n",
    "In this part we will obtain the exchange rates of the currencies against a single cryptocurrency, in this case Bitcoin (BTC).\n",
    "\n",
    "First of all, we can see how the Forex API also provides us with the current value of Bitcoin."
   ]
  },
  {
   "cell_type": "code",
   "execution_count": 12,
   "metadata": {},
   "outputs": [
    {
     "name": "stdout",
     "output_type": "stream",
     "text": [
      "Price of 1 BTC in EUR: 18611.01\n",
      "Price of 1 BTC in USD: 19104.9494\n"
     ]
    }
   ],
   "source": [
    "from forex_python.bitcoin import BtcConverter\n",
    "fiat_btc = BtcConverter()\n",
    "\n",
    "#BTC - EUR\n",
    "print(\"Price of 1 BTC in EUR:\",fiat_btc.get_latest_price('EUR'))\n",
    "print(\"Price of 1 BTC in USD:\",fiat_btc.get_latest_price('USD'))"
   ]
  },
  {
   "cell_type": "markdown",
   "metadata": {},
   "source": [
    "However, we are mainly interested in having the buy and sell prices to be able to carry out arbitrage operations. For this purpose, we will use another REST API that provides us with the following information about Bitcoin prices:\n",
    "* Cryptocurrency value in different currencies.\n",
    "* Cryptocurrency value in the last 15 minutes.\n",
    "* Last registered value of the cryptocurrency.\n",
    "* Purchase price.\n",
    "* Sale price.\n",
    "* Currency symbol.\n",
    "\n",
    "This second REST API that we are going to use is __Blockchain Info__. The information, as with the Forex API, is returned to us in the form of JSON. The API url is as follows:\n",
    "* https://blockchain.info/es/api/exchange_rates_api\n",
    "\n",
    "In this url we can screen the information returned by the JSON, in order to access it we must do it in Python with the following url:\n",
    "* https://blockchain.info/es/ticker\n",
    "\n",
    "We show an example of API access."
   ]
  },
  {
   "cell_type": "code",
   "execution_count": 13,
   "metadata": {},
   "outputs": [
    {
     "name": "stdout",
     "output_type": "stream",
     "text": [
      "{\n",
      "  \"ARS\": {\n",
      "    \"15m\": 5684827.75,\n",
      "    \"last\": 5684827.75,\n",
      "    \"buy\": 5684827.75,\n",
      "    \"sell\": 5684827.75,\n",
      "    \"symbol\": \"ARS\"\n",
      "  },\n",
      "  \"AUD\": {\n",
      "    \"15m\": 30757.74,\n",
      "    \"last\": 30757.74,\n",
      "    \"buy\": 30757.74,\n",
      "    \"sell\": 30757.74,\n",
      "    \"symbol\": \"AUD\"\n",
      "  },\n",
      "  \"BRL\": {\n",
      "    \"15m\": 101981.34,\n",
      "    \"last\": 101981.34,\n",
      "    \"buy\": 101981.34,\n",
      "    \"sell\": 101981.34,\n",
      "    \"symbol\": \"BRL\"\n",
      "  },\n",
      "  \"CAD\": {\n",
      "    \"15m\": 26473.71,\n",
      "    \"last\": 26473.71,\n",
      "    \"buy\": 26473.71,\n",
      "    \"sell\": 26473.71,\n",
      "    \"symbol\": \"CAD\"\n",
      "  },\n",
      "  \"CHF\": {\n",
      "    \"15m\": 19175.62,\n",
      "    \"last\": 19175.62,\n",
      "    \"buy\": 19175.62,\n",
      "    \"sell\": 19175.62,\n",
      "    \"symbol\": \"CHF\"\n",
      "  },\n",
      "  \"CLP\": {\n",
      "    \"15m\": 1.847216822E7,\n",
      "    \"last\": 1.847216822E7,\n",
      "    \"buy\": 1.847216822E7,\n",
      "    \"sell\": 1.847216822E7,\n",
      "    \"symbol\": \"CLP\"\n",
      "  },\n",
      "  \"CNY\": {\n",
      "    \"15m\": 137909.29,\n",
      "    \"last\": 137909.29,\n",
      "    \"buy\": 137909.29,\n",
      "    \"sell\": 137909.29,\n",
      "    \"symbol\": \"CNY\"\n",
      "  },\n",
      "  \"CZK\": {\n",
      "    \"15m\": 485077.91,\n",
      "    \"last\": 485077.91,\n",
      "    \"buy\": 485077.91,\n",
      "    \"sell\": 485077.91,\n",
      "    \"symbol\": \"CZK\"\n",
      "  },\n",
      "  \"DKK\": {\n",
      "    \"15m\": 168731.39,\n",
      "    \"last\": 168731.39,\n",
      "    \"buy\": 168731.39,\n",
      "    \"sell\": 168731.39,\n",
      "    \"symbol\": \"DKK\"\n",
      "  },\n",
      "  \"EUR\": {\n",
      "    \"15m\": 19664.18,\n",
      "    \"last\": 19664.18,\n",
      "    \"buy\": 19664.18,\n",
      "    \"sell\": 19664.18,\n",
      "    \"symbol\": \"EUR\"\n",
      "  },\n",
      "  \"GBP\": {\n",
      "    \"15m\": 17107.18,\n",
      "    \"last\": 17107.18,\n",
      "    \"buy\": 17107.18,\n",
      "    \"sell\": 17107.18,\n",
      "    \"symbol\": \"GBP\"\n",
      "  },\n",
      "  \"HKD\": {\n",
      "    \"15m\": 149662.61,\n",
      "    \"last\": 149662.61,\n",
      "    \"buy\": 149662.61,\n",
      "    \"sell\": 149662.61,\n",
      "    \"symbol\": \"HKD\"\n",
      "  },\n",
      "  \"HRK\": {\n",
      "    \"15m\": 154452.55,\n",
      "    \"last\": 154452.55,\n",
      "    \"buy\": 154452.55,\n",
      "    \"sell\": 154452.55,\n",
      "    \"symbol\": \"HRK\"\n",
      "  },\n",
      "  \"HUF\": {\n",
      "    \"15m\": 8603196.9,\n",
      "    \"last\": 8603196.9,\n",
      "    \"buy\": 8603196.9,\n",
      "    \"sell\": 8603196.9,\n",
      "    \"symbol\": \"HUF\"\n",
      "  },\n",
      "  \"INR\": {\n",
      "    \"15m\": 1565607.75,\n",
      "    \"last\": 1565607.75,\n",
      "    \"buy\": 1565607.75,\n",
      "    \"sell\": 1565607.75,\n",
      "    \"symbol\": \"INR\"\n",
      "  },\n",
      "  \"ISK\": {\n",
      "    \"15m\": 3047553.63,\n",
      "    \"last\": 3047553.63,\n",
      "    \"buy\": 3047553.63,\n",
      "    \"sell\": 3047553.63,\n",
      "    \"symbol\": \"ISK\"\n",
      "  },\n",
      "  \"JPY\": {\n",
      "    \"15m\": 2839727.88,\n",
      "    \"last\": 2839727.88,\n",
      "    \"buy\": 2839727.88,\n",
      "    \"sell\": 2839727.88,\n",
      "    \"symbol\": \"JPY\"\n",
      "  },\n",
      "  \"KRW\": {\n",
      "    \"15m\": 2.758618189E7,\n",
      "    \"last\": 2.758618189E7,\n",
      "    \"buy\": 2.758618189E7,\n",
      "    \"sell\": 2.758618189E7,\n",
      "    \"symbol\": \"KRW\"\n",
      "  },\n",
      "  \"NZD\": {\n",
      "    \"15m\": 34394.8,\n",
      "    \"last\": 34394.8,\n",
      "    \"buy\": 34394.8,\n",
      "    \"sell\": 34394.8,\n",
      "    \"symbol\": \"NZD\"\n",
      "  },\n",
      "  \"PLN\": {\n",
      "    \"15m\": 95048.76,\n",
      "    \"last\": 95048.76,\n",
      "    \"buy\": 95048.76,\n",
      "    \"sell\": 95048.76,\n",
      "    \"symbol\": \"PLN\"\n",
      "  },\n",
      "  \"RON\": {\n",
      "    \"15m\": 76896.27,\n",
      "    \"last\": 76896.27,\n",
      "    \"buy\": 76896.27,\n",
      "    \"sell\": 76896.27,\n",
      "    \"symbol\": \"RON\"\n",
      "  },\n",
      "  \"RUB\": {\n",
      "    \"15m\": 1180536.84,\n",
      "    \"last\": 1180536.84,\n",
      "    \"buy\": 1180536.84,\n",
      "    \"sell\": 1180536.84,\n",
      "    \"symbol\": \"RUB\"\n",
      "  },\n",
      "  \"SEK\": {\n",
      "    \"15m\": 291282.17,\n",
      "    \"last\": 291282.17,\n",
      "    \"buy\": 291282.17,\n",
      "    \"sell\": 291282.17,\n",
      "    \"symbol\": \"SEK\"\n",
      "  },\n",
      "  \"SGD\": {\n",
      "    \"15m\": 27306.36,\n",
      "    \"last\": 27306.36,\n",
      "    \"buy\": 27306.36,\n",
      "    \"sell\": 27306.36,\n",
      "    \"symbol\": \"SGD\"\n",
      "  },\n",
      "  \"THB\": {\n",
      "    \"15m\": 723074.04,\n",
      "    \"last\": 723074.04,\n",
      "    \"buy\": 723074.04,\n",
      "    \"sell\": 723074.04,\n",
      "    \"symbol\": \"THB\"\n",
      "  },\n",
      "  \"TRY\": {\n",
      "    \"15m\": 360390.5,\n",
      "    \"last\": 360390.5,\n",
      "    \"buy\": 360390.5,\n",
      "    \"sell\": 360390.5,\n",
      "    \"symbol\": \"TRY\"\n",
      "  },\n",
      "  \"TWD\": {\n",
      "    \"15m\": 754623.86,\n",
      "    \"last\": 754623.86,\n",
      "    \"buy\": 754623.86,\n",
      "    \"sell\": 754623.86,\n",
      "    \"symbol\": \"TWD\"\n",
      "  },\n",
      "  \"USD\": {\n",
      "    \"15m\": 19108.72,\n",
      "    \"last\": 19108.72,\n",
      "    \"buy\": 19108.72,\n",
      "    \"sell\": 19108.72,\n",
      "    \"symbol\": \"USD\"\n",
      "  }\n",
      "}\n"
     ]
    }
   ],
   "source": [
    "import requests as rq\n",
    "import json\n",
    "\n",
    "#Get the JSON for an iteration.\n",
    "btc_api = rq.get('https://blockchain.info/es/ticker')\n",
    "print (btc_api.text)"
   ]
  },
  {
   "cell_type": "markdown",
   "metadata": {},
   "source": [
    "Once we have already shown both APIs and part of their operation, we are going to proceed to obtain a dataframe with real-time data (taking into account the 15-minute delay) of Bitcoin."
   ]
  },
  {
   "cell_type": "code",
   "execution_count": 14,
   "metadata": {},
   "outputs": [],
   "source": [
    "import json\n",
    "BTC = json.loads(btc_api.text)"
   ]
  },
  {
   "cell_type": "markdown",
   "metadata": {},
   "source": [
    "In this way we could already access the fields of each currency. For example Euros."
   ]
  },
  {
   "cell_type": "code",
   "execution_count": 15,
   "metadata": {},
   "outputs": [
    {
     "data": {
      "text/plain": [
       "{'15m': 19108.72,\n",
       " 'last': 19108.72,\n",
       " 'buy': 19108.72,\n",
       " 'sell': 19108.72,\n",
       " 'symbol': 'USD'}"
      ]
     },
     "execution_count": 15,
     "metadata": {},
     "output_type": "execute_result"
    }
   ],
   "source": [
    "BTC[\"USD\"]"
   ]
  },
  {
   "cell_type": "markdown",
   "metadata": {},
   "source": [
    "Build the dataframe"
   ]
  },
  {
   "cell_type": "code",
   "execution_count": 16,
   "metadata": {},
   "outputs": [
    {
     "data": {
      "text/html": [
       "<div>\n",
       "<style scoped>\n",
       "    .dataframe tbody tr th:only-of-type {\n",
       "        vertical-align: middle;\n",
       "    }\n",
       "\n",
       "    .dataframe tbody tr th {\n",
       "        vertical-align: top;\n",
       "    }\n",
       "\n",
       "    .dataframe thead th {\n",
       "        text-align: right;\n",
       "    }\n",
       "</style>\n",
       "<table border=\"1\" class=\"dataframe\">\n",
       "  <thead>\n",
       "    <tr style=\"text-align: right;\">\n",
       "      <th></th>\n",
       "      <th>15m</th>\n",
       "      <th>last</th>\n",
       "      <th>buy</th>\n",
       "      <th>sell</th>\n",
       "      <th>symbol</th>\n",
       "    </tr>\n",
       "  </thead>\n",
       "  <tbody>\n",
       "    <tr>\n",
       "      <th>ARS</th>\n",
       "      <td>5684827.75</td>\n",
       "      <td>5684827.75</td>\n",
       "      <td>5684827.75</td>\n",
       "      <td>5684827.75</td>\n",
       "      <td>ARS</td>\n",
       "    </tr>\n",
       "    <tr>\n",
       "      <th>AUD</th>\n",
       "      <td>30757.74</td>\n",
       "      <td>30757.74</td>\n",
       "      <td>30757.74</td>\n",
       "      <td>30757.74</td>\n",
       "      <td>AUD</td>\n",
       "    </tr>\n",
       "    <tr>\n",
       "      <th>BRL</th>\n",
       "      <td>101981.34</td>\n",
       "      <td>101981.34</td>\n",
       "      <td>101981.34</td>\n",
       "      <td>101981.34</td>\n",
       "      <td>BRL</td>\n",
       "    </tr>\n",
       "    <tr>\n",
       "      <th>CAD</th>\n",
       "      <td>26473.71</td>\n",
       "      <td>26473.71</td>\n",
       "      <td>26473.71</td>\n",
       "      <td>26473.71</td>\n",
       "      <td>CAD</td>\n",
       "    </tr>\n",
       "    <tr>\n",
       "      <th>CHF</th>\n",
       "      <td>19175.62</td>\n",
       "      <td>19175.62</td>\n",
       "      <td>19175.62</td>\n",
       "      <td>19175.62</td>\n",
       "      <td>CHF</td>\n",
       "    </tr>\n",
       "    <tr>\n",
       "      <th>CLP</th>\n",
       "      <td>18472168.22</td>\n",
       "      <td>18472168.22</td>\n",
       "      <td>18472168.22</td>\n",
       "      <td>18472168.22</td>\n",
       "      <td>CLP</td>\n",
       "    </tr>\n",
       "    <tr>\n",
       "      <th>CNY</th>\n",
       "      <td>137909.29</td>\n",
       "      <td>137909.29</td>\n",
       "      <td>137909.29</td>\n",
       "      <td>137909.29</td>\n",
       "      <td>CNY</td>\n",
       "    </tr>\n",
       "    <tr>\n",
       "      <th>CZK</th>\n",
       "      <td>485077.91</td>\n",
       "      <td>485077.91</td>\n",
       "      <td>485077.91</td>\n",
       "      <td>485077.91</td>\n",
       "      <td>CZK</td>\n",
       "    </tr>\n",
       "    <tr>\n",
       "      <th>DKK</th>\n",
       "      <td>168731.39</td>\n",
       "      <td>168731.39</td>\n",
       "      <td>168731.39</td>\n",
       "      <td>168731.39</td>\n",
       "      <td>DKK</td>\n",
       "    </tr>\n",
       "    <tr>\n",
       "      <th>EUR</th>\n",
       "      <td>19664.18</td>\n",
       "      <td>19664.18</td>\n",
       "      <td>19664.18</td>\n",
       "      <td>19664.18</td>\n",
       "      <td>EUR</td>\n",
       "    </tr>\n",
       "    <tr>\n",
       "      <th>GBP</th>\n",
       "      <td>17107.18</td>\n",
       "      <td>17107.18</td>\n",
       "      <td>17107.18</td>\n",
       "      <td>17107.18</td>\n",
       "      <td>GBP</td>\n",
       "    </tr>\n",
       "    <tr>\n",
       "      <th>HKD</th>\n",
       "      <td>149662.61</td>\n",
       "      <td>149662.61</td>\n",
       "      <td>149662.61</td>\n",
       "      <td>149662.61</td>\n",
       "      <td>HKD</td>\n",
       "    </tr>\n",
       "    <tr>\n",
       "      <th>HRK</th>\n",
       "      <td>154452.55</td>\n",
       "      <td>154452.55</td>\n",
       "      <td>154452.55</td>\n",
       "      <td>154452.55</td>\n",
       "      <td>HRK</td>\n",
       "    </tr>\n",
       "    <tr>\n",
       "      <th>HUF</th>\n",
       "      <td>8603196.9</td>\n",
       "      <td>8603196.9</td>\n",
       "      <td>8603196.9</td>\n",
       "      <td>8603196.9</td>\n",
       "      <td>HUF</td>\n",
       "    </tr>\n",
       "    <tr>\n",
       "      <th>INR</th>\n",
       "      <td>1565607.75</td>\n",
       "      <td>1565607.75</td>\n",
       "      <td>1565607.75</td>\n",
       "      <td>1565607.75</td>\n",
       "      <td>INR</td>\n",
       "    </tr>\n",
       "    <tr>\n",
       "      <th>ISK</th>\n",
       "      <td>3047553.63</td>\n",
       "      <td>3047553.63</td>\n",
       "      <td>3047553.63</td>\n",
       "      <td>3047553.63</td>\n",
       "      <td>ISK</td>\n",
       "    </tr>\n",
       "    <tr>\n",
       "      <th>JPY</th>\n",
       "      <td>2839727.88</td>\n",
       "      <td>2839727.88</td>\n",
       "      <td>2839727.88</td>\n",
       "      <td>2839727.88</td>\n",
       "      <td>JPY</td>\n",
       "    </tr>\n",
       "    <tr>\n",
       "      <th>KRW</th>\n",
       "      <td>27586181.89</td>\n",
       "      <td>27586181.89</td>\n",
       "      <td>27586181.89</td>\n",
       "      <td>27586181.89</td>\n",
       "      <td>KRW</td>\n",
       "    </tr>\n",
       "    <tr>\n",
       "      <th>NZD</th>\n",
       "      <td>34394.8</td>\n",
       "      <td>34394.8</td>\n",
       "      <td>34394.8</td>\n",
       "      <td>34394.8</td>\n",
       "      <td>NZD</td>\n",
       "    </tr>\n",
       "    <tr>\n",
       "      <th>PLN</th>\n",
       "      <td>95048.76</td>\n",
       "      <td>95048.76</td>\n",
       "      <td>95048.76</td>\n",
       "      <td>95048.76</td>\n",
       "      <td>PLN</td>\n",
       "    </tr>\n",
       "    <tr>\n",
       "      <th>RON</th>\n",
       "      <td>76896.27</td>\n",
       "      <td>76896.27</td>\n",
       "      <td>76896.27</td>\n",
       "      <td>76896.27</td>\n",
       "      <td>RON</td>\n",
       "    </tr>\n",
       "    <tr>\n",
       "      <th>RUB</th>\n",
       "      <td>1180536.84</td>\n",
       "      <td>1180536.84</td>\n",
       "      <td>1180536.84</td>\n",
       "      <td>1180536.84</td>\n",
       "      <td>RUB</td>\n",
       "    </tr>\n",
       "    <tr>\n",
       "      <th>SEK</th>\n",
       "      <td>291282.17</td>\n",
       "      <td>291282.17</td>\n",
       "      <td>291282.17</td>\n",
       "      <td>291282.17</td>\n",
       "      <td>SEK</td>\n",
       "    </tr>\n",
       "    <tr>\n",
       "      <th>SGD</th>\n",
       "      <td>27306.36</td>\n",
       "      <td>27306.36</td>\n",
       "      <td>27306.36</td>\n",
       "      <td>27306.36</td>\n",
       "      <td>SGD</td>\n",
       "    </tr>\n",
       "    <tr>\n",
       "      <th>THB</th>\n",
       "      <td>723074.04</td>\n",
       "      <td>723074.04</td>\n",
       "      <td>723074.04</td>\n",
       "      <td>723074.04</td>\n",
       "      <td>THB</td>\n",
       "    </tr>\n",
       "    <tr>\n",
       "      <th>TRY</th>\n",
       "      <td>360390.5</td>\n",
       "      <td>360390.5</td>\n",
       "      <td>360390.5</td>\n",
       "      <td>360390.5</td>\n",
       "      <td>TRY</td>\n",
       "    </tr>\n",
       "    <tr>\n",
       "      <th>TWD</th>\n",
       "      <td>754623.86</td>\n",
       "      <td>754623.86</td>\n",
       "      <td>754623.86</td>\n",
       "      <td>754623.86</td>\n",
       "      <td>TWD</td>\n",
       "    </tr>\n",
       "    <tr>\n",
       "      <th>USD</th>\n",
       "      <td>19108.72</td>\n",
       "      <td>19108.72</td>\n",
       "      <td>19108.72</td>\n",
       "      <td>19108.72</td>\n",
       "      <td>USD</td>\n",
       "    </tr>\n",
       "  </tbody>\n",
       "</table>\n",
       "</div>"
      ],
      "text/plain": [
       "             15m         last          buy         sell symbol\n",
       "ARS   5684827.75   5684827.75   5684827.75   5684827.75    ARS\n",
       "AUD     30757.74     30757.74     30757.74     30757.74    AUD\n",
       "BRL    101981.34    101981.34    101981.34    101981.34    BRL\n",
       "CAD     26473.71     26473.71     26473.71     26473.71    CAD\n",
       "CHF     19175.62     19175.62     19175.62     19175.62    CHF\n",
       "CLP  18472168.22  18472168.22  18472168.22  18472168.22    CLP\n",
       "CNY    137909.29    137909.29    137909.29    137909.29    CNY\n",
       "CZK    485077.91    485077.91    485077.91    485077.91    CZK\n",
       "DKK    168731.39    168731.39    168731.39    168731.39    DKK\n",
       "EUR     19664.18     19664.18     19664.18     19664.18    EUR\n",
       "GBP     17107.18     17107.18     17107.18     17107.18    GBP\n",
       "HKD    149662.61    149662.61    149662.61    149662.61    HKD\n",
       "HRK    154452.55    154452.55    154452.55    154452.55    HRK\n",
       "HUF    8603196.9    8603196.9    8603196.9    8603196.9    HUF\n",
       "INR   1565607.75   1565607.75   1565607.75   1565607.75    INR\n",
       "ISK   3047553.63   3047553.63   3047553.63   3047553.63    ISK\n",
       "JPY   2839727.88   2839727.88   2839727.88   2839727.88    JPY\n",
       "KRW  27586181.89  27586181.89  27586181.89  27586181.89    KRW\n",
       "NZD      34394.8      34394.8      34394.8      34394.8    NZD\n",
       "PLN     95048.76     95048.76     95048.76     95048.76    PLN\n",
       "RON     76896.27     76896.27     76896.27     76896.27    RON\n",
       "RUB   1180536.84   1180536.84   1180536.84   1180536.84    RUB\n",
       "SEK    291282.17    291282.17    291282.17    291282.17    SEK\n",
       "SGD     27306.36     27306.36     27306.36     27306.36    SGD\n",
       "THB    723074.04    723074.04    723074.04    723074.04    THB\n",
       "TRY     360390.5     360390.5     360390.5     360390.5    TRY\n",
       "TWD    754623.86    754623.86    754623.86    754623.86    TWD\n",
       "USD     19108.72     19108.72     19108.72     19108.72    USD"
      ]
     },
     "execution_count": 16,
     "metadata": {},
     "output_type": "execute_result"
    }
   ],
   "source": [
    "import pandas as pd\n",
    "BTC = pd.DataFrame(BTC).T\n",
    "BTC"
   ]
  },
  {
   "cell_type": "markdown",
   "metadata": {},
   "source": [
    "We create a function to access the API and return a dataframe."
   ]
  },
  {
   "cell_type": "code",
   "execution_count": 17,
   "metadata": {},
   "outputs": [],
   "source": [
    "def api_to_df(url_param):\n",
    "    \"\"\"\n",
    "    Function that receives a url, transforms it into json and returns a data frame\n",
    "    :param url_param: url api\n",
    "    :return: data frame object\n",
    "    \"\"\"\n",
    "    url_get = rq.get(url_param)\n",
    "    json_object = json.loads(url_get.text)\n",
    "    df_output = pd.DataFrame(json_object).T\n",
    "    return(df_output)"
   ]
  },
  {
   "cell_type": "code",
   "execution_count": 18,
   "metadata": {},
   "outputs": [],
   "source": [
    "df = api_to_df(url_param='https://blockchain.info/es/ticker')"
   ]
  },
  {
   "cell_type": "code",
   "execution_count": 19,
   "metadata": {},
   "outputs": [
    {
     "data": {
      "text/html": [
       "<div>\n",
       "<style scoped>\n",
       "    .dataframe tbody tr th:only-of-type {\n",
       "        vertical-align: middle;\n",
       "    }\n",
       "\n",
       "    .dataframe tbody tr th {\n",
       "        vertical-align: top;\n",
       "    }\n",
       "\n",
       "    .dataframe thead th {\n",
       "        text-align: right;\n",
       "    }\n",
       "</style>\n",
       "<table border=\"1\" class=\"dataframe\">\n",
       "  <thead>\n",
       "    <tr style=\"text-align: right;\">\n",
       "      <th></th>\n",
       "      <th>15m</th>\n",
       "      <th>last</th>\n",
       "      <th>buy</th>\n",
       "      <th>sell</th>\n",
       "      <th>symbol</th>\n",
       "    </tr>\n",
       "  </thead>\n",
       "  <tbody>\n",
       "    <tr>\n",
       "      <th>ARS</th>\n",
       "      <td>5684827.75</td>\n",
       "      <td>5684827.75</td>\n",
       "      <td>5684827.75</td>\n",
       "      <td>5684827.75</td>\n",
       "      <td>ARS</td>\n",
       "    </tr>\n",
       "    <tr>\n",
       "      <th>AUD</th>\n",
       "      <td>30757.74</td>\n",
       "      <td>30757.74</td>\n",
       "      <td>30757.74</td>\n",
       "      <td>30757.74</td>\n",
       "      <td>AUD</td>\n",
       "    </tr>\n",
       "    <tr>\n",
       "      <th>BRL</th>\n",
       "      <td>101981.34</td>\n",
       "      <td>101981.34</td>\n",
       "      <td>101981.34</td>\n",
       "      <td>101981.34</td>\n",
       "      <td>BRL</td>\n",
       "    </tr>\n",
       "    <tr>\n",
       "      <th>CAD</th>\n",
       "      <td>26473.71</td>\n",
       "      <td>26473.71</td>\n",
       "      <td>26473.71</td>\n",
       "      <td>26473.71</td>\n",
       "      <td>CAD</td>\n",
       "    </tr>\n",
       "    <tr>\n",
       "      <th>CHF</th>\n",
       "      <td>19175.62</td>\n",
       "      <td>19175.62</td>\n",
       "      <td>19175.62</td>\n",
       "      <td>19175.62</td>\n",
       "      <td>CHF</td>\n",
       "    </tr>\n",
       "    <tr>\n",
       "      <th>CLP</th>\n",
       "      <td>18472168.22</td>\n",
       "      <td>18472168.22</td>\n",
       "      <td>18472168.22</td>\n",
       "      <td>18472168.22</td>\n",
       "      <td>CLP</td>\n",
       "    </tr>\n",
       "    <tr>\n",
       "      <th>CNY</th>\n",
       "      <td>137909.29</td>\n",
       "      <td>137909.29</td>\n",
       "      <td>137909.29</td>\n",
       "      <td>137909.29</td>\n",
       "      <td>CNY</td>\n",
       "    </tr>\n",
       "    <tr>\n",
       "      <th>CZK</th>\n",
       "      <td>485077.91</td>\n",
       "      <td>485077.91</td>\n",
       "      <td>485077.91</td>\n",
       "      <td>485077.91</td>\n",
       "      <td>CZK</td>\n",
       "    </tr>\n",
       "    <tr>\n",
       "      <th>DKK</th>\n",
       "      <td>168731.39</td>\n",
       "      <td>168731.39</td>\n",
       "      <td>168731.39</td>\n",
       "      <td>168731.39</td>\n",
       "      <td>DKK</td>\n",
       "    </tr>\n",
       "    <tr>\n",
       "      <th>EUR</th>\n",
       "      <td>19664.18</td>\n",
       "      <td>19664.18</td>\n",
       "      <td>19664.18</td>\n",
       "      <td>19664.18</td>\n",
       "      <td>EUR</td>\n",
       "    </tr>\n",
       "    <tr>\n",
       "      <th>GBP</th>\n",
       "      <td>17107.18</td>\n",
       "      <td>17107.18</td>\n",
       "      <td>17107.18</td>\n",
       "      <td>17107.18</td>\n",
       "      <td>GBP</td>\n",
       "    </tr>\n",
       "    <tr>\n",
       "      <th>HKD</th>\n",
       "      <td>149662.61</td>\n",
       "      <td>149662.61</td>\n",
       "      <td>149662.61</td>\n",
       "      <td>149662.61</td>\n",
       "      <td>HKD</td>\n",
       "    </tr>\n",
       "    <tr>\n",
       "      <th>HRK</th>\n",
       "      <td>154452.55</td>\n",
       "      <td>154452.55</td>\n",
       "      <td>154452.55</td>\n",
       "      <td>154452.55</td>\n",
       "      <td>HRK</td>\n",
       "    </tr>\n",
       "    <tr>\n",
       "      <th>HUF</th>\n",
       "      <td>8603196.9</td>\n",
       "      <td>8603196.9</td>\n",
       "      <td>8603196.9</td>\n",
       "      <td>8603196.9</td>\n",
       "      <td>HUF</td>\n",
       "    </tr>\n",
       "    <tr>\n",
       "      <th>INR</th>\n",
       "      <td>1565607.75</td>\n",
       "      <td>1565607.75</td>\n",
       "      <td>1565607.75</td>\n",
       "      <td>1565607.75</td>\n",
       "      <td>INR</td>\n",
       "    </tr>\n",
       "    <tr>\n",
       "      <th>ISK</th>\n",
       "      <td>3047553.63</td>\n",
       "      <td>3047553.63</td>\n",
       "      <td>3047553.63</td>\n",
       "      <td>3047553.63</td>\n",
       "      <td>ISK</td>\n",
       "    </tr>\n",
       "    <tr>\n",
       "      <th>JPY</th>\n",
       "      <td>2839727.88</td>\n",
       "      <td>2839727.88</td>\n",
       "      <td>2839727.88</td>\n",
       "      <td>2839727.88</td>\n",
       "      <td>JPY</td>\n",
       "    </tr>\n",
       "    <tr>\n",
       "      <th>KRW</th>\n",
       "      <td>27586181.89</td>\n",
       "      <td>27586181.89</td>\n",
       "      <td>27586181.89</td>\n",
       "      <td>27586181.89</td>\n",
       "      <td>KRW</td>\n",
       "    </tr>\n",
       "    <tr>\n",
       "      <th>NZD</th>\n",
       "      <td>34394.8</td>\n",
       "      <td>34394.8</td>\n",
       "      <td>34394.8</td>\n",
       "      <td>34394.8</td>\n",
       "      <td>NZD</td>\n",
       "    </tr>\n",
       "    <tr>\n",
       "      <th>PLN</th>\n",
       "      <td>95048.76</td>\n",
       "      <td>95048.76</td>\n",
       "      <td>95048.76</td>\n",
       "      <td>95048.76</td>\n",
       "      <td>PLN</td>\n",
       "    </tr>\n",
       "    <tr>\n",
       "      <th>RON</th>\n",
       "      <td>76896.27</td>\n",
       "      <td>76896.27</td>\n",
       "      <td>76896.27</td>\n",
       "      <td>76896.27</td>\n",
       "      <td>RON</td>\n",
       "    </tr>\n",
       "    <tr>\n",
       "      <th>RUB</th>\n",
       "      <td>1180536.84</td>\n",
       "      <td>1180536.84</td>\n",
       "      <td>1180536.84</td>\n",
       "      <td>1180536.84</td>\n",
       "      <td>RUB</td>\n",
       "    </tr>\n",
       "    <tr>\n",
       "      <th>SEK</th>\n",
       "      <td>291282.17</td>\n",
       "      <td>291282.17</td>\n",
       "      <td>291282.17</td>\n",
       "      <td>291282.17</td>\n",
       "      <td>SEK</td>\n",
       "    </tr>\n",
       "    <tr>\n",
       "      <th>SGD</th>\n",
       "      <td>27306.36</td>\n",
       "      <td>27306.36</td>\n",
       "      <td>27306.36</td>\n",
       "      <td>27306.36</td>\n",
       "      <td>SGD</td>\n",
       "    </tr>\n",
       "    <tr>\n",
       "      <th>THB</th>\n",
       "      <td>723074.04</td>\n",
       "      <td>723074.04</td>\n",
       "      <td>723074.04</td>\n",
       "      <td>723074.04</td>\n",
       "      <td>THB</td>\n",
       "    </tr>\n",
       "    <tr>\n",
       "      <th>TRY</th>\n",
       "      <td>360390.5</td>\n",
       "      <td>360390.5</td>\n",
       "      <td>360390.5</td>\n",
       "      <td>360390.5</td>\n",
       "      <td>TRY</td>\n",
       "    </tr>\n",
       "    <tr>\n",
       "      <th>TWD</th>\n",
       "      <td>754623.86</td>\n",
       "      <td>754623.86</td>\n",
       "      <td>754623.86</td>\n",
       "      <td>754623.86</td>\n",
       "      <td>TWD</td>\n",
       "    </tr>\n",
       "    <tr>\n",
       "      <th>USD</th>\n",
       "      <td>19108.72</td>\n",
       "      <td>19108.72</td>\n",
       "      <td>19108.72</td>\n",
       "      <td>19108.72</td>\n",
       "      <td>USD</td>\n",
       "    </tr>\n",
       "  </tbody>\n",
       "</table>\n",
       "</div>"
      ],
      "text/plain": [
       "             15m         last          buy         sell symbol\n",
       "ARS   5684827.75   5684827.75   5684827.75   5684827.75    ARS\n",
       "AUD     30757.74     30757.74     30757.74     30757.74    AUD\n",
       "BRL    101981.34    101981.34    101981.34    101981.34    BRL\n",
       "CAD     26473.71     26473.71     26473.71     26473.71    CAD\n",
       "CHF     19175.62     19175.62     19175.62     19175.62    CHF\n",
       "CLP  18472168.22  18472168.22  18472168.22  18472168.22    CLP\n",
       "CNY    137909.29    137909.29    137909.29    137909.29    CNY\n",
       "CZK    485077.91    485077.91    485077.91    485077.91    CZK\n",
       "DKK    168731.39    168731.39    168731.39    168731.39    DKK\n",
       "EUR     19664.18     19664.18     19664.18     19664.18    EUR\n",
       "GBP     17107.18     17107.18     17107.18     17107.18    GBP\n",
       "HKD    149662.61    149662.61    149662.61    149662.61    HKD\n",
       "HRK    154452.55    154452.55    154452.55    154452.55    HRK\n",
       "HUF    8603196.9    8603196.9    8603196.9    8603196.9    HUF\n",
       "INR   1565607.75   1565607.75   1565607.75   1565607.75    INR\n",
       "ISK   3047553.63   3047553.63   3047553.63   3047553.63    ISK\n",
       "JPY   2839727.88   2839727.88   2839727.88   2839727.88    JPY\n",
       "KRW  27586181.89  27586181.89  27586181.89  27586181.89    KRW\n",
       "NZD      34394.8      34394.8      34394.8      34394.8    NZD\n",
       "PLN     95048.76     95048.76     95048.76     95048.76    PLN\n",
       "RON     76896.27     76896.27     76896.27     76896.27    RON\n",
       "RUB   1180536.84   1180536.84   1180536.84   1180536.84    RUB\n",
       "SEK    291282.17    291282.17    291282.17    291282.17    SEK\n",
       "SGD     27306.36     27306.36     27306.36     27306.36    SGD\n",
       "THB    723074.04    723074.04    723074.04    723074.04    THB\n",
       "TRY     360390.5     360390.5     360390.5     360390.5    TRY\n",
       "TWD    754623.86    754623.86    754623.86    754623.86    TWD\n",
       "USD     19108.72     19108.72     19108.72     19108.72    USD"
      ]
     },
     "execution_count": 19,
     "metadata": {},
     "output_type": "execute_result"
    }
   ],
   "source": [
    "df"
   ]
  },
  {
   "cell_type": "code",
   "execution_count": 20,
   "metadata": {},
   "outputs": [
    {
     "name": "stderr",
     "output_type": "stream",
     "text": [
      "C:\\Users\\JMMoreno\\Anaconda3\\lib\\site-packages\\ipykernel_launcher.py:3: FutureWarning: In a future version of pandas all arguments of DataFrame.drop except for the argument 'labels' will be keyword-only\n",
      "  This is separate from the ipykernel package so we can avoid doing imports until\n"
     ]
    },
    {
     "data": {
      "text/html": [
       "<div>\n",
       "<style scoped>\n",
       "    .dataframe tbody tr th:only-of-type {\n",
       "        vertical-align: middle;\n",
       "    }\n",
       "\n",
       "    .dataframe tbody tr th {\n",
       "        vertical-align: top;\n",
       "    }\n",
       "\n",
       "    .dataframe thead th {\n",
       "        text-align: right;\n",
       "    }\n",
       "</style>\n",
       "<table border=\"1\" class=\"dataframe\">\n",
       "  <thead>\n",
       "    <tr style=\"text-align: right;\">\n",
       "      <th></th>\n",
       "      <th>buy</th>\n",
       "      <th>sell</th>\n",
       "      <th>symbol</th>\n",
       "    </tr>\n",
       "  </thead>\n",
       "  <tbody>\n",
       "    <tr>\n",
       "      <th>ARS</th>\n",
       "      <td>5684827.75</td>\n",
       "      <td>5684827.75</td>\n",
       "      <td>ARS</td>\n",
       "    </tr>\n",
       "    <tr>\n",
       "      <th>AUD</th>\n",
       "      <td>30757.74</td>\n",
       "      <td>30757.74</td>\n",
       "      <td>AUD</td>\n",
       "    </tr>\n",
       "    <tr>\n",
       "      <th>BRL</th>\n",
       "      <td>101981.34</td>\n",
       "      <td>101981.34</td>\n",
       "      <td>BRL</td>\n",
       "    </tr>\n",
       "    <tr>\n",
       "      <th>CAD</th>\n",
       "      <td>26473.71</td>\n",
       "      <td>26473.71</td>\n",
       "      <td>CAD</td>\n",
       "    </tr>\n",
       "    <tr>\n",
       "      <th>CHF</th>\n",
       "      <td>19175.62</td>\n",
       "      <td>19175.62</td>\n",
       "      <td>CHF</td>\n",
       "    </tr>\n",
       "  </tbody>\n",
       "</table>\n",
       "</div>"
      ],
      "text/plain": [
       "            buy        sell symbol\n",
       "ARS  5684827.75  5684827.75    ARS\n",
       "AUD    30757.74    30757.74    AUD\n",
       "BRL   101981.34   101981.34    BRL\n",
       "CAD    26473.71    26473.71    CAD\n",
       "CHF    19175.62    19175.62    CHF"
      ]
     },
     "execution_count": 20,
     "metadata": {},
     "output_type": "execute_result"
    }
   ],
   "source": [
    "#We eliminate the column 15m and last since it is the same price\n",
    "# than the buy and sell\n",
    "df = df.drop([\"15m\", \"last\"],1)\n",
    "df.head()"
   ]
  },
  {
   "cell_type": "markdown",
   "metadata": {},
   "source": [
    "In addition, to have greater clarity of the data, we will only use the following currencies to look for arbitrage opportunities.\n",
    "* EUR\n",
    "*USD\n",
    "*JPY"
   ]
  },
  {
   "cell_type": "code",
   "execution_count": 21,
   "metadata": {},
   "outputs": [
    {
     "data": {
      "text/html": [
       "<div>\n",
       "<style scoped>\n",
       "    .dataframe tbody tr th:only-of-type {\n",
       "        vertical-align: middle;\n",
       "    }\n",
       "\n",
       "    .dataframe tbody tr th {\n",
       "        vertical-align: top;\n",
       "    }\n",
       "\n",
       "    .dataframe thead th {\n",
       "        text-align: right;\n",
       "    }\n",
       "</style>\n",
       "<table border=\"1\" class=\"dataframe\">\n",
       "  <thead>\n",
       "    <tr style=\"text-align: right;\">\n",
       "      <th></th>\n",
       "      <th>buy</th>\n",
       "      <th>sell</th>\n",
       "      <th>symbol</th>\n",
       "    </tr>\n",
       "  </thead>\n",
       "  <tbody>\n",
       "    <tr>\n",
       "      <th>USD</th>\n",
       "      <td>19108.72</td>\n",
       "      <td>19108.72</td>\n",
       "      <td>USD</td>\n",
       "    </tr>\n",
       "    <tr>\n",
       "      <th>EUR</th>\n",
       "      <td>19664.18</td>\n",
       "      <td>19664.18</td>\n",
       "      <td>EUR</td>\n",
       "    </tr>\n",
       "    <tr>\n",
       "      <th>JPY</th>\n",
       "      <td>2839727.88</td>\n",
       "      <td>2839727.88</td>\n",
       "      <td>JPY</td>\n",
       "    </tr>\n",
       "  </tbody>\n",
       "</table>\n",
       "</div>"
      ],
      "text/plain": [
       "            buy        sell symbol\n",
       "USD    19108.72    19108.72    USD\n",
       "EUR    19664.18    19664.18    EUR\n",
       "JPY  2839727.88  2839727.88    JPY"
      ]
     },
     "execution_count": 21,
     "metadata": {},
     "output_type": "execute_result"
    }
   ],
   "source": [
    "df = df.loc[[\"USD\", \"EUR\", \"JPY\"]]\n",
    "df"
   ]
  },
  {
   "cell_type": "markdown",
   "metadata": {},
   "source": [
    "### Part 3 - Arbitration example.\n",
    "\n",
    "Once we have all the necessary elements to carry out arbitration, we will obtain a simple example starting as a starting point in the sale of a BTC to USD, making the change to EUR and buying a BTC in EUR, the final difference will be our profit or loss on this transaction.\n",
    "\n",
    "Later in the next section we will automate the process through functions and waiting times."
   ]
  },
  {
   "cell_type": "code",
   "execution_count": 22,
   "metadata": {},
   "outputs": [
    {
     "data": {
      "text/plain": [
       "19108.72"
      ]
     },
     "execution_count": 22,
     "metadata": {},
     "output_type": "execute_result"
    }
   ],
   "source": [
    "btc_usd = df[\"sell\"][\"USD\"]\n",
    "btc_usd"
   ]
  },
  {
   "cell_type": "code",
   "execution_count": 23,
   "metadata": {},
   "outputs": [
    {
     "data": {
      "text/plain": [
       "19665.24647524956"
      ]
     },
     "execution_count": 23,
     "metadata": {},
     "output_type": "execute_result"
    }
   ],
   "source": [
    "cambio_eur = fiat_currency.convert(\"USD\", \"EUR\", btc_usd)\n",
    "cambio_eur"
   ]
  },
  {
   "cell_type": "code",
   "execution_count": 24,
   "metadata": {},
   "outputs": [
    {
     "data": {
      "text/plain": [
       "1.07"
      ]
     },
     "execution_count": 24,
     "metadata": {},
     "output_type": "execute_result"
    }
   ],
   "source": [
    "round(cambio_eur - df[\"buy\"][\"EUR\"], 2)"
   ]
  },
  {
   "cell_type": "markdown",
   "metadata": {},
   "source": [
    "### Part 4 - Automation\n",
    "\n",
    "We have already seen how to look for opportunities between cryptocurrencies and fiat money. Now to automate the process, we are going to continue working with data frames, the first thing we will have to do is add columns on the exchange prices between one currency and another. These types of changes will be about:\n",
    "* __USD__: EUR; JPY\n",
    "* __EUR__: USD; JPY\n",
    "* __JPY__: USD; EUR\n",
    "\n",
    "Once we have these columns with the exchange rates, we have to make the differences in the purchase of 1 BTC at the current exchange rate of the currency, to keep track of these (fictitious) transactions, we will add a new column with the date and current time.\n",
    "\n",
    "To see the progression and changes in real time, we will add a small delay of 1 second to obtain several data frames and check if we have really been adding profits or, on the contrary, it has not been a viable operation.\n",
    "\n",
    "First of all we add exchange and result columns of the arbitration operation, we initialize them with zeros."
   ]
  },
  {
   "cell_type": "code",
   "execution_count": 25,
   "metadata": {
    "scrolled": true
   },
   "outputs": [
    {
     "data": {
      "text/html": [
       "<div>\n",
       "<style scoped>\n",
       "    .dataframe tbody tr th:only-of-type {\n",
       "        vertical-align: middle;\n",
       "    }\n",
       "\n",
       "    .dataframe tbody tr th {\n",
       "        vertical-align: top;\n",
       "    }\n",
       "\n",
       "    .dataframe thead th {\n",
       "        text-align: right;\n",
       "    }\n",
       "</style>\n",
       "<table border=\"1\" class=\"dataframe\">\n",
       "  <thead>\n",
       "    <tr style=\"text-align: right;\">\n",
       "      <th></th>\n",
       "      <th>buy</th>\n",
       "      <th>sell</th>\n",
       "      <th>symbol</th>\n",
       "      <th>Change_USD</th>\n",
       "      <th>Arbitrage_USD</th>\n",
       "      <th>Change_EUR</th>\n",
       "      <th>Arbitration_EUR</th>\n",
       "      <th>JPY_Exchange</th>\n",
       "      <th>Arbitrage_JPY</th>\n",
       "    </tr>\n",
       "  </thead>\n",
       "  <tbody>\n",
       "    <tr>\n",
       "      <th>USD</th>\n",
       "      <td>19108.72</td>\n",
       "      <td>19108.72</td>\n",
       "      <td>USD</td>\n",
       "      <td>0</td>\n",
       "      <td>0</td>\n",
       "      <td>0</td>\n",
       "      <td>0</td>\n",
       "      <td>0</td>\n",
       "      <td>0</td>\n",
       "    </tr>\n",
       "    <tr>\n",
       "      <th>EUR</th>\n",
       "      <td>19664.18</td>\n",
       "      <td>19664.18</td>\n",
       "      <td>EUR</td>\n",
       "      <td>0</td>\n",
       "      <td>0</td>\n",
       "      <td>0</td>\n",
       "      <td>0</td>\n",
       "      <td>0</td>\n",
       "      <td>0</td>\n",
       "    </tr>\n",
       "    <tr>\n",
       "      <th>JPY</th>\n",
       "      <td>2839727.88</td>\n",
       "      <td>2839727.88</td>\n",
       "      <td>JPY</td>\n",
       "      <td>0</td>\n",
       "      <td>0</td>\n",
       "      <td>0</td>\n",
       "      <td>0</td>\n",
       "      <td>0</td>\n",
       "      <td>0</td>\n",
       "    </tr>\n",
       "  </tbody>\n",
       "</table>\n",
       "</div>"
      ],
      "text/plain": [
       "            buy        sell symbol  Change_USD  Arbitrage_USD  Change_EUR  \\\n",
       "USD    19108.72    19108.72    USD           0              0           0   \n",
       "EUR    19664.18    19664.18    EUR           0              0           0   \n",
       "JPY  2839727.88  2839727.88    JPY           0              0           0   \n",
       "\n",
       "     Arbitration_EUR  JPY_Exchange  Arbitrage_JPY  \n",
       "USD                0             0              0  \n",
       "EUR                0             0              0  \n",
       "JPY                0             0              0  "
      ]
     },
     "execution_count": 25,
     "metadata": {},
     "output_type": "execute_result"
    }
   ],
   "source": [
    "df = df.copy()\n",
    "df[\"Change_USD\"] = 0\n",
    "df[\"Arbitrage_USD\"] = 0\n",
    "df[\"Change_EUR\"] = 0\n",
    "df[\"Arbitration_EUR\"] = 0\n",
    "df[\"JPY_Exchange\"] = 0\n",
    "df[\"Arbitrage_JPY\"] = 0\n",
    "df"
   ]
  },
  {
   "cell_type": "markdown",
   "metadata": {},
   "source": [
    "We add the column of type date time"
   ]
  },
  {
   "cell_type": "code",
   "execution_count": 26,
   "metadata": {},
   "outputs": [
    {
     "data": {
      "text/html": [
       "<div>\n",
       "<style scoped>\n",
       "    .dataframe tbody tr th:only-of-type {\n",
       "        vertical-align: middle;\n",
       "    }\n",
       "\n",
       "    .dataframe tbody tr th {\n",
       "        vertical-align: top;\n",
       "    }\n",
       "\n",
       "    .dataframe thead th {\n",
       "        text-align: right;\n",
       "    }\n",
       "</style>\n",
       "<table border=\"1\" class=\"dataframe\">\n",
       "  <thead>\n",
       "    <tr style=\"text-align: right;\">\n",
       "      <th></th>\n",
       "      <th>buy</th>\n",
       "      <th>sell</th>\n",
       "      <th>symbol</th>\n",
       "      <th>Change_USD</th>\n",
       "      <th>Arbitrage_USD</th>\n",
       "      <th>Change_EUR</th>\n",
       "      <th>Arbitration_EUR</th>\n",
       "      <th>JPY_Exchange</th>\n",
       "      <th>Arbitrage_JPY</th>\n",
       "      <th>DateTime</th>\n",
       "    </tr>\n",
       "  </thead>\n",
       "  <tbody>\n",
       "    <tr>\n",
       "      <th>USD</th>\n",
       "      <td>19108.72</td>\n",
       "      <td>19108.72</td>\n",
       "      <td>USD</td>\n",
       "      <td>0</td>\n",
       "      <td>0</td>\n",
       "      <td>0</td>\n",
       "      <td>0</td>\n",
       "      <td>0</td>\n",
       "      <td>0</td>\n",
       "      <td>2022-10-15 19:57:33.033580</td>\n",
       "    </tr>\n",
       "    <tr>\n",
       "      <th>EUR</th>\n",
       "      <td>19664.18</td>\n",
       "      <td>19664.18</td>\n",
       "      <td>EUR</td>\n",
       "      <td>0</td>\n",
       "      <td>0</td>\n",
       "      <td>0</td>\n",
       "      <td>0</td>\n",
       "      <td>0</td>\n",
       "      <td>0</td>\n",
       "      <td>2022-10-15 19:57:33.033580</td>\n",
       "    </tr>\n",
       "    <tr>\n",
       "      <th>JPY</th>\n",
       "      <td>2839727.88</td>\n",
       "      <td>2839727.88</td>\n",
       "      <td>JPY</td>\n",
       "      <td>0</td>\n",
       "      <td>0</td>\n",
       "      <td>0</td>\n",
       "      <td>0</td>\n",
       "      <td>0</td>\n",
       "      <td>0</td>\n",
       "      <td>2022-10-15 19:57:33.033580</td>\n",
       "    </tr>\n",
       "  </tbody>\n",
       "</table>\n",
       "</div>"
      ],
      "text/plain": [
       "            buy        sell symbol  Change_USD  Arbitrage_USD  Change_EUR  \\\n",
       "USD    19108.72    19108.72    USD           0              0           0   \n",
       "EUR    19664.18    19664.18    EUR           0              0           0   \n",
       "JPY  2839727.88  2839727.88    JPY           0              0           0   \n",
       "\n",
       "     Arbitration_EUR  JPY_Exchange  Arbitrage_JPY                    DateTime  \n",
       "USD                0             0              0  2022-10-15 19:57:33.033580  \n",
       "EUR                0             0              0  2022-10-15 19:57:33.033580  \n",
       "JPY                0             0              0  2022-10-15 19:57:33.033580  "
      ]
     },
     "execution_count": 26,
     "metadata": {},
     "output_type": "execute_result"
    }
   ],
   "source": [
    "import datetime\n",
    "\n",
    "df[\"DateTime\"] = str(datetime.datetime.now())\n",
    "df"
   ]
  },
  {
   "cell_type": "markdown",
   "metadata": {},
   "source": [
    "We perform a new function to \"prepare\" the data, performing the following operations described above:\n",
    "* Column deletion: 15m, last\n",
    "* Currency selection: USD; EUR; JPY\n",
    "* Add new columns: Change and Arbitration\n",
    "* Add date column - DateTime"
   ]
  },
  {
   "cell_type": "code",
   "execution_count": 27,
   "metadata": {},
   "outputs": [],
   "source": [
    "def add_columns(dataframe, lista_divisas, lista_remove):\n",
    "    \"\"\"\n",
    "    Función que recibe un dataframe procesado, una lista de divisas para filtrar.\n",
    "      y una lista de columnas a borrar\n",
    "    :param lista_divisas: list[string]\n",
    "    :param lista_remove: list[string]\n",
    "    :return: data frame objetc    \n",
    "    \"\"\"\n",
    "    #Borramos columnas\n",
    "    dataframe = dataframe.drop(lista_remove,1)\n",
    "    \n",
    "    #Seleccionamos sólo las divisas que queremos\n",
    "    dataframe = dataframe.loc[lista_divisas]\n",
    "    dataframe = dataframe.copy()\n",
    "    \n",
    "    #Generamos nuevas columnas\n",
    "    for divisa in lista_divisas:\n",
    "        dataframe[str(\"Cambio_\"+str(divisa))] = 0\n",
    "        dataframe[str(\"Arbitraje_\"+str(divisa))] = 0\n",
    "    \n",
    "    #Obtenemos columna con fecha\n",
    "    dataframe[\"DateTime\"] = str(datetime.datetime.now())\n",
    "    \n",
    "    return dataframe"
   ]
  },
  {
   "cell_type": "code",
   "execution_count": 28,
   "metadata": {},
   "outputs": [
    {
     "name": "stderr",
     "output_type": "stream",
     "text": [
      "C:\\Users\\JMMoreno\\Anaconda3\\lib\\site-packages\\ipykernel_launcher.py:10: FutureWarning: In a future version of pandas all arguments of DataFrame.drop except for the argument 'labels' will be keyword-only\n",
      "  # Remove the CWD from sys.path while we load stuff.\n"
     ]
    }
   ],
   "source": [
    "df = api_to_df(url_param='https://blockchain.info/es/ticker')\n",
    "df = add_columns(dataframe = df, \n",
    "                 lista_divisas = [\"USD\", \"EUR\", \"JPY\"],\n",
    "                 lista_remove = [\"15m\", \"last\"])"
   ]
  },
  {
   "cell_type": "markdown",
   "metadata": {},
   "source": [
    "Once the following is done, we automate the entire process"
   ]
  },
  {
   "cell_type": "code",
   "execution_count": 29,
   "metadata": {},
   "outputs": [],
   "source": [
    "import time\n",
    "import warnings \n",
    "import random\n",
    "warnings.filterwarnings(\"ignore\")"
   ]
  },
  {
   "cell_type": "code",
   "execution_count": 30,
   "metadata": {},
   "outputs": [],
   "source": [
    "# def arbitration_ops(n_iter, wait_time):\n",
    "def arbitration_ops(n_iter):\n",
    "    #We create lists to save arbitrations\n",
    "    #USD\n",
    "    arbitraje_USD_EUR = []\n",
    "    arbitraje_USD_JPY = []\n",
    "    #EUR\n",
    "    arbitraje_EUR_USD = []\n",
    "    arbitraje_EUR_JPY = []\n",
    "    #JPY\n",
    "    arbitraje_JPY_USD = []\n",
    "    arbitraje_JPU_EUR = []\n",
    "    \n",
    "    for i in range(n_iter):\n",
    "        #We load the data from the blockchain API so that the prices fluctuate\n",
    "        dataframe = api_to_df(url_param='https://blockchain.info/en/ticker')\n",
    "        dataframe = add_columns(dataframe = dataframe,\n",
    "                 lista_divisas = [\"USD\", \"EUR\", \"JPY\"],\n",
    "                 lista_remove = [\"15m\", \"last\"])\n",
    "        \n",
    "        print(\"*************************\")\n",
    "        print(\"***** ITERACTION\", i, \"*****\")\n",
    "        print(\"*************************\")\n",
    "\n",
    "        #We carry out the necessary operations to analyze the different parities between currencies.\n",
    "        #-----CHANGE USD-------\n",
    "        dataframe[\"Cambio_USD\"][0] = 1\n",
    "        dataframe[\"Cambio_USD\"][1] = fiat_currency.convert(\"USD\", \"EUR\", dataframe[\"buy\"][0])\n",
    "        dataframe[\"Cambio_USD\"][2] = fiat_currency.convert(\"USD\", \"JPY\", dataframe[\"buy\"][0])\n",
    "        \n",
    "        \n",
    "        #-----USD ARBITRATION-------\n",
    "        dataframe[\"Arbitraje_USD\"][0] = 0\n",
    "        dataframe[\"Arbitraje_USD\"][1] = (fiat_currency.convert(\"USD\", \"EUR\", dataframe[\"buy\"][0]) -\\\n",
    "                                     (dataframe[\"sell\"][1]))\n",
    "        arbitraje_USD_EUR.append(dataframe[\"Arbitraje_USD\"][1])\n",
    "        \n",
    "        dataframe[\"Arbitraje_USD\"][2] = (fiat_currency.convert(\"USD\", \"JPY\", dataframe[\"buy\"][0]) \\\n",
    "                                     - (dataframe[\"sell\"][2]))\n",
    "        arbitraje_USD_JPY.append(dataframe[\"Arbitraje_USD\"][2])\n",
    "        \n",
    "        #-----EUR EXCHANGE-------\n",
    "        dataframe[\"Cambio_EUR\"][0] = fiat_currency.convert(\"EUR\", \"USD\", dataframe[\"buy\"][1])\n",
    "        dataframe[\"Cambio_EUR\"][1] = 1\n",
    "        dataframe[\"Cambio_EUR\"][2] = fiat_currency.convert(\"EUR\", \"JPY\", dataframe[\"buy\"][1])\n",
    "        \n",
    "        #-----EUR ARBITRATION-------\n",
    "        dataframe[\"Arbitraje_EUR\"][0] = (fiat_currency.convert(\"EUR\", \"USD\", dataframe[\"buy\"][1]) \\\n",
    "                                    - (dataframe[\"sell\"][0]))\n",
    "        arbitraje_EUR_USD.append(dataframe[\"Arbitraje_EUR\"][0])\n",
    "        \n",
    "        dataframe[\"Arbitraje_EUR\"][1] = 0\n",
    "        dataframe[\"Arbitraje_EUR\"][2] = (fiat_currency.convert(\"EUR\", \"JPY\", dataframe[\"buy\"][1]) \\\n",
    "                                    - (dataframe[\"sell\"][2]))\n",
    "        arbitraje_EUR_JPY.append(dataframe[\"Arbitraje_EUR\"][2])\n",
    "        \n",
    "        #-----JPY EXCHANGE-------\n",
    "        dataframe[\"Cambio_JPY\"][0] = fiat_currency.convert(\"JPY\", \"USD\", dataframe[\"buy\"][2])\n",
    "        dataframe[\"Cambio_JPY\"][1] = fiat_currency.convert(\"JPY\", \"EUR\", dataframe[\"buy\"][2])\n",
    "        dataframe[\"Cambio_JPY\"][2] = 1\n",
    "        \n",
    "        #-----JPY ARBITRATION-------\n",
    "        dataframe[\"Arbitraje_JPY\"][0] = (fiat_currency.convert(\"JPY\", \"USD\", dataframe[\"buy\"][2]) \\\n",
    "                                   - (dataframe[\"sell\"][0]))\n",
    "        arbitraje_JPY_USD.append(dataframe[\"Arbitraje_JPY\"][0])\n",
    "        \n",
    "        dataframe[\"Arbitraje_JPY\"][1] = (fiat_currency.convert(\"JPY\", \"EUR\", dataframe[\"buy\"][2]) \\\n",
    "                                   - (dataframe[\"sell\"][1]))\n",
    "        arbitraje_JPU_EUR.append(dataframe[\"Arbitraje_JPY\"][1])\n",
    "        \n",
    "        dataframe[\"Arbitraje_JPY\"][2] = 0\n",
    "        \n",
    "        #-----WE SHOW DATA FRAME -----\n",
    "        print(dataframe)\n",
    "        print(\"\\n\")\n",
    "        # *********\n",
    "        # ** V1 ***\n",
    "        # *********\n",
    "        #Force 5\" wait for each iteration.\n",
    "        # time.sleep(int(wait_time))\n",
    "\n",
    "        # *********\n",
    "        # ** V2 ***\n",
    "        # *********\n",
    "        # We generate random numbers between 1 and 20, for the waiting time.\n",
    "    # time.sleep(int(wait_time))\n",
    "        time.sleep(int(random.randint(1,20)))\n",
    "        \n",
    "    return arbitraje_USD_EUR, arbitraje_USD_JPY, arbitraje_EUR_USD, \\\n",
    "            arbitraje_EUR_JPY, arbitraje_JPY_USD, arbitraje_JPU_EUR"
   ]
  },
  {
   "cell_type": "code",
   "execution_count": 31,
   "metadata": {},
   "outputs": [
    {
     "name": "stdout",
     "output_type": "stream",
     "text": [
      "*************************\n",
      "***** ITERACTION 0 *****\n",
      "*************************\n",
      "            buy        sell symbol  Cambio_USD  Arbitraje_USD  Cambio_EUR  \\\n",
      "USD    19108.72    19108.72    USD           1              0       19107   \n",
      "EUR    19664.18    19664.18    EUR       19665              1           1   \n",
      "JPY  2839727.88  2839727.88    JPY     2824519         -15208     2824366   \n",
      "\n",
      "     Arbitraje_EUR  Cambio_JPY  Arbitraje_JPY                    DateTime  \n",
      "USD             -1       19211            102  2022-10-15 19:57:33.836123  \n",
      "EUR              0       19771            106  2022-10-15 19:57:33.836123  \n",
      "JPY         -15361           1              0  2022-10-15 19:57:33.836123  \n",
      "\n",
      "\n",
      "*************************\n",
      "***** ITERACTION 1 *****\n",
      "*************************\n",
      "            buy        sell symbol  Cambio_USD  Arbitraje_USD  Cambio_EUR  \\\n",
      "USD    19108.72    19108.72    USD           1              0       19107   \n",
      "EUR    19664.18    19664.18    EUR       19665              1           1   \n",
      "JPY  2839727.88  2839727.88    JPY     2824519         -15208     2824366   \n",
      "\n",
      "     Arbitraje_EUR  Cambio_JPY  Arbitraje_JPY                    DateTime  \n",
      "USD             -1       19211            102  2022-10-15 19:57:43.298779  \n",
      "EUR              0       19771            106  2022-10-15 19:57:43.298779  \n",
      "JPY         -15361           1              0  2022-10-15 19:57:43.298779  \n",
      "\n",
      "\n",
      "*************************\n",
      "***** ITERACTION 2 *****\n",
      "*************************\n",
      "            buy        sell symbol  Cambio_USD  Arbitraje_USD  Cambio_EUR  \\\n",
      "USD    19108.72    19108.72    USD           1              0       19107   \n",
      "EUR    19664.18    19664.18    EUR       19665              1           1   \n",
      "JPY  2839727.88  2839727.88    JPY     2824519         -15208     2824366   \n",
      "\n",
      "     Arbitraje_EUR  Cambio_JPY  Arbitraje_JPY                    DateTime  \n",
      "USD             -1       19211            102  2022-10-15 19:57:55.918641  \n",
      "EUR              0       19771            106  2022-10-15 19:57:55.918641  \n",
      "JPY         -15361           1              0  2022-10-15 19:57:55.918641  \n",
      "\n",
      "\n",
      "*************************\n",
      "***** ITERACTION 3 *****\n",
      "*************************\n",
      "            buy        sell symbol  Cambio_USD  Arbitraje_USD  Cambio_EUR  \\\n",
      "USD    19110.06    19110.06    USD           1              0       19111   \n",
      "EUR     19668.1     19668.1    EUR       19666             -1           1   \n",
      "JPY  2840491.57  2840491.57    JPY     2824717         -15774     2824929   \n",
      "\n",
      "     Arbitraje_EUR  Cambio_JPY  Arbitraje_JPY                    DateTime  \n",
      "USD              1       19216            106  2022-10-15 19:58:16.242067  \n",
      "EUR              0       19776            108  2022-10-15 19:58:16.242067  \n",
      "JPY         -15562           1              0  2022-10-15 19:58:16.242067  \n",
      "\n",
      "\n",
      "*************************\n",
      "***** ITERACTION 4 *****\n",
      "*************************\n",
      "            buy        sell symbol  Cambio_USD  Arbitraje_USD  Cambio_EUR  \\\n",
      "USD    19110.06    19110.06    USD           1              0       19111   \n",
      "EUR     19668.1     19668.1    EUR       19666             -1           1   \n",
      "JPY  2840491.57  2840491.57    JPY     2824717         -15774     2824929   \n",
      "\n",
      "     Arbitraje_EUR  Cambio_JPY  Arbitraje_JPY                    DateTime  \n",
      "USD              1       19216            106  2022-10-15 19:58:40.587708  \n",
      "EUR              0       19776            108  2022-10-15 19:58:40.587708  \n",
      "JPY         -15562           1              0  2022-10-15 19:58:40.587708  \n",
      "\n",
      "\n",
      "*************************\n",
      "***** ITERACTION 5 *****\n",
      "*************************\n",
      "            buy        sell symbol  Cambio_USD  Arbitraje_USD  Cambio_EUR  \\\n",
      "USD    19110.06    19110.06    USD           1              0       19111   \n",
      "EUR     19668.1     19668.1    EUR       19666             -1           1   \n",
      "JPY  2840491.57  2840491.57    JPY     2824717         -15774     2824929   \n",
      "\n",
      "     Arbitraje_EUR  Cambio_JPY  Arbitraje_JPY                    DateTime  \n",
      "USD              1       19216            106  2022-10-15 19:58:48.043123  \n",
      "EUR              0       19776            108  2022-10-15 19:58:48.043123  \n",
      "JPY         -15562           1              0  2022-10-15 19:58:48.043123  \n",
      "\n",
      "\n",
      "*************************\n",
      "***** ITERACTION 6 *****\n",
      "*************************\n",
      "            buy        sell symbol  Cambio_USD  Arbitraje_USD  Cambio_EUR  \\\n",
      "USD    19110.06    19110.06    USD           1              0       19111   \n",
      "EUR     19668.1     19668.1    EUR       19666             -1           1   \n",
      "JPY  2840491.57  2840491.57    JPY     2824717         -15774     2824929   \n",
      "\n",
      "     Arbitraje_EUR  Cambio_JPY  Arbitraje_JPY                    DateTime  \n",
      "USD              1       19216            106  2022-10-15 19:58:53.296794  \n",
      "EUR              0       19776            108  2022-10-15 19:58:53.296794  \n",
      "JPY         -15562           1              0  2022-10-15 19:58:53.296794  \n",
      "\n",
      "\n",
      "*************************\n",
      "***** ITERACTION 7 *****\n",
      "*************************\n",
      "            buy        sell symbol  Cambio_USD  Arbitraje_USD  Cambio_EUR  \\\n",
      "USD    19110.06    19110.06    USD           1              0       19111   \n",
      "EUR     19668.1     19668.1    EUR       19666             -1           1   \n",
      "JPY  2840491.57  2840491.57    JPY     2824717         -15774     2824929   \n",
      "\n",
      "     Arbitraje_EUR  Cambio_JPY  Arbitraje_JPY                    DateTime  \n",
      "USD              1       19216            106  2022-10-15 19:59:15.504718  \n",
      "EUR              0       19776            108  2022-10-15 19:59:15.504718  \n",
      "JPY         -15562           1              0  2022-10-15 19:59:15.504718  \n",
      "\n",
      "\n",
      "*************************\n",
      "***** ITERACTION 8 *****\n",
      "*************************\n",
      "            buy        sell symbol  Cambio_USD  Arbitraje_USD  Cambio_EUR  \\\n",
      "USD    19110.06    19110.06    USD           1              0       19111   \n",
      "EUR     19668.1     19668.1    EUR       19666             -1           1   \n",
      "JPY  2840491.57  2840491.57    JPY     2824717         -15774     2824929   \n",
      "\n",
      "     Arbitraje_EUR  Cambio_JPY  Arbitraje_JPY                    DateTime  \n",
      "USD              1       19216            106  2022-10-15 19:59:21.053933  \n",
      "EUR              0       19776            108  2022-10-15 19:59:21.053933  \n",
      "JPY         -15562           1              0  2022-10-15 19:59:21.053933  \n",
      "\n",
      "\n",
      "*************************\n",
      "***** ITERACTION 9 *****\n",
      "*************************\n",
      "            buy        sell symbol  Cambio_USD  Arbitraje_USD  Cambio_EUR  \\\n",
      "USD    19110.73    19110.73    USD           1              0       19112   \n",
      "EUR    19669.13    19669.13    EUR       19667             -1           1   \n",
      "JPY  2840919.76  2840919.76    JPY     2824816         -16103     2825077   \n",
      "\n",
      "     Arbitraje_EUR  Cambio_JPY  Arbitraje_JPY                    DateTime  \n",
      "USD              1       19219            108  2022-10-15 19:59:43.932655  \n",
      "EUR              0       19779            110  2022-10-15 19:59:43.932655  \n",
      "JPY         -15842           1              0  2022-10-15 19:59:43.932655  \n",
      "\n",
      "\n"
     ]
    }
   ],
   "source": [
    "USD_EUR = []\n",
    "USD_JPY = []\n",
    "EUR_USD = []\n",
    "EUR_JPY = []\n",
    "JPY_USD = []\n",
    "JPY_EUR = []\n",
    "\n",
    "USD_EUR, USD_JPY, EUR_USD, EUR_JPY, JPY_USD, JPY_EUR = arbitration_ops(n_iter=10)\n",
    "\n",
    "# USD_EUR, USD_JPY, EUR_USD, EUR_JPY, JPY_USD, JPY_EUR = arbitration_ops(n_iter=25, tiempo_espera = 5)"
   ]
  },
  {
   "cell_type": "markdown",
   "metadata": {},
   "source": [
    "### PART 5 - Charts"
   ]
  },
  {
   "cell_type": "code",
   "execution_count": 32,
   "metadata": {},
   "outputs": [
    {
     "data": {
      "text/plain": [
       "Text(0, 0.5, 'Monetary value')"
      ]
     },
     "execution_count": 32,
     "metadata": {},
     "output_type": "execute_result"
    },
    {
     "data": {
      "image/png": "[encoded data removed]",
      "text/plain": [
       "<Figure size 432x288 with 2 Axes>"
      ]
     },
     "metadata": {
      "needs_background": "light"
     },
     "output_type": "display_data"
    }
   ],
   "source": [
    "import matplotlib.pyplot as plt\n",
    "%matplotlib inline\n",
    "\n",
    "fig_USD = plt.figure()\n",
    "fig_USD.add_subplot(2,2,1)\n",
    "plt.plot(USD_EUR, color = \"b\")\n",
    "plt.title(\"Arbitration USD EUR\")\n",
    "plt.ylabel(\"Monetary value\")\n",
    "\n",
    "fig_USD.add_subplot(2,2,2)\n",
    "plt.plot(USD_JPY, color = \"r\")\n",
    "plt.title(\"USD JPY Arbitrage\")\n",
    "plt.ylabel(\"Monetary value\")"
   ]
  },
  {
   "cell_type": "code",
   "execution_count": 33,
   "metadata": {},
   "outputs": [
    {
     "data": {
      "text/plain": [
       "[<matplotlib.lines.Line2D at 0x2d0e143f2c8>]"
      ]
     },
     "execution_count": 33,
     "metadata": {},
     "output_type": "execute_result"
    },
    {
     "data": {
      "image/png": "[encoded data removed]",
      "text/plain": [
       "<Figure size 432x288 with 1 Axes>"
      ]
     },
     "metadata": {
      "needs_background": "light"
     },
     "output_type": "display_data"
    }
   ],
   "source": [
    "plt.plot(USD_EUR, color = \"b\")"
   ]
  },
  {
   "cell_type": "code",
   "execution_count": 34,
   "metadata": {},
   "outputs": [
    {
     "data": {
      "text/plain": [
       "Text(0, 0.5, 'Monetary value')"
      ]
     },
     "execution_count": 34,
     "metadata": {},
     "output_type": "execute_result"
    },
    {
     "data": {
      "image/png": "[encoded data removed]",
      "text/plain": [
       "<Figure size 432x288 with 2 Axes>"
      ]
     },
     "metadata": {
      "needs_background": "light"
     },
     "output_type": "display_data"
    }
   ],
   "source": [
    "fig_USD = plt.figure()\n",
    "fig_USD.add_subplot(2,2,1)\n",
    "plt.plot(EUR_USD, color = \"b\")\n",
    "plt.title(\"EUR USD Arbitrage\")\n",
    "plt.ylabel(\"Monetary value\")\n",
    "\n",
    "fig_USD.add_subplot(2,2,2)\n",
    "plt.plot(EUR_JPY, color = \"r\")\n",
    "plt.title(\"EUR JPY Arbitrage\")\n",
    "plt.ylabel(\"Monetary value\")"
   ]
  },
  {
   "cell_type": "code",
   "execution_count": 35,
   "metadata": {},
   "outputs": [
    {
     "data": {
      "text/plain": [
       "Text(0, 0.5, 'Monetary value')"
      ]
     },
     "execution_count": 35,
     "metadata": {},
     "output_type": "execute_result"
    },
    {
     "data": {
      "image/png": "[encoded data removed]",
      "text/plain": [
       "<Figure size 432x288 with 2 Axes>"
      ]
     },
     "metadata": {
      "needs_background": "light"
     },
     "output_type": "display_data"
    }
   ],
   "source": [
    "fig_USD = plt.figure()\n",
    "fig_USD.add_subplot(2,2,1)\n",
    "plt.plot(JPY_USD, color = \"b\")\n",
    "plt.title(\"JPY USD Arbitrage\")\n",
    "plt.ylabel(\"Monetary value\")\n",
    "\n",
    "fig_USD.add_subplot(2,2,2)\n",
    "plt.plot(JPY_EUR, color = \"r\")\n",
    "plt.title(\"Arbitration JPY EUR\")\n",
    "plt.ylabel(\"Monetary value\")"
   ]
  }
 ],
 "metadata": {
  "kernelspec": {
   "display_name": "Python 3",
   "language": "python",
   "name": "python3"
  },
  "language_info": {
   "codemirror_mode": {
    "name": "ipython",
    "version": 3
   },
   "file_extension": ".py",
   "mimetype": "text/x-python",
   "name": "python",
   "nbconvert_exporter": "python",
   "pygments_lexer": "ipython3",
   "version": "3.7.6"
  }
 },
 "nbformat": 4,
 "nbformat_minor": 2
}
